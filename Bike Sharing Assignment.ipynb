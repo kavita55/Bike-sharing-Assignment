{
 "cells": [
  {
   "cell_type": "markdown",
   "metadata": {},
   "source": [
    "# Bike Sharing Assignment"
   ]
  },
  {
   "cell_type": "markdown",
   "metadata": {},
   "source": [
    "**Business Goal:**<br>\n",
    "You are required to model the demand for shared bikes with the available independent variables. It will be used by the management to understand how exactly the demands vary with different features. They can accordingly manipulate the business strategy to meet the demand levels and meet the customer's expectations. Further, the model will be a good way for management to understand the demand dynamics of a new market. \n",
    "\n"
   ]
  },
  {
   "cell_type": "markdown",
   "metadata": {},
   "source": [
    "# 1. Data understanding"
   ]
  },
  {
   "cell_type": "markdown",
   "metadata": {},
   "source": [
    "## 1.1  Importing required libraries\n"
   ]
  },
  {
   "cell_type": "code",
   "execution_count": 1,
   "metadata": {},
   "outputs": [],
   "source": [
    "#Filter Warnings\n",
    "import warnings\n",
    "warnings.filterwarnings('ignore')\n",
    "\n",
    "import numpy as np\n",
    "import pandas as pd\n",
    "import matplotlib.pyplot as plt\n",
    "import seaborn as sns\n",
    "\n",
    "import statsmodels.api as sm\n",
    "from sklearn.linear_model import LinearRegression\n"
   ]
  },
  {
   "cell_type": "markdown",
   "metadata": {},
   "source": [
    "## 1.2 Reading Data"
   ]
  },
  {
   "cell_type": "markdown",
   "metadata": {},
   "source": [
    "- day.csv as `\"bike\"`"
   ]
  },
  {
   "cell_type": "code",
   "execution_count": 2,
   "metadata": {
    "scrolled": true
   },
   "outputs": [
    {
     "data": {
      "text/html": [
       "<div>\n",
       "<style scoped>\n",
       "    .dataframe tbody tr th:only-of-type {\n",
       "        vertical-align: middle;\n",
       "    }\n",
       "\n",
       "    .dataframe tbody tr th {\n",
       "        vertical-align: top;\n",
       "    }\n",
       "\n",
       "    .dataframe thead th {\n",
       "        text-align: right;\n",
       "    }\n",
       "</style>\n",
       "<table border=\"1\" class=\"dataframe\">\n",
       "  <thead>\n",
       "    <tr style=\"text-align: right;\">\n",
       "      <th></th>\n",
       "      <th>instant</th>\n",
       "      <th>dteday</th>\n",
       "      <th>season</th>\n",
       "      <th>yr</th>\n",
       "      <th>mnth</th>\n",
       "      <th>holiday</th>\n",
       "      <th>weekday</th>\n",
       "      <th>workingday</th>\n",
       "      <th>weathersit</th>\n",
       "      <th>temp</th>\n",
       "      <th>atemp</th>\n",
       "      <th>hum</th>\n",
       "      <th>windspeed</th>\n",
       "      <th>casual</th>\n",
       "      <th>registered</th>\n",
       "      <th>cnt</th>\n",
       "    </tr>\n",
       "  </thead>\n",
       "  <tbody>\n",
       "    <tr>\n",
       "      <th>0</th>\n",
       "      <td>1</td>\n",
       "      <td>01-01-2018</td>\n",
       "      <td>1</td>\n",
       "      <td>0</td>\n",
       "      <td>1</td>\n",
       "      <td>0</td>\n",
       "      <td>1</td>\n",
       "      <td>1</td>\n",
       "      <td>2</td>\n",
       "      <td>14.110847</td>\n",
       "      <td>18.18125</td>\n",
       "      <td>80.5833</td>\n",
       "      <td>10.749882</td>\n",
       "      <td>331</td>\n",
       "      <td>654</td>\n",
       "      <td>985</td>\n",
       "    </tr>\n",
       "    <tr>\n",
       "      <th>1</th>\n",
       "      <td>2</td>\n",
       "      <td>02-01-2018</td>\n",
       "      <td>1</td>\n",
       "      <td>0</td>\n",
       "      <td>1</td>\n",
       "      <td>0</td>\n",
       "      <td>2</td>\n",
       "      <td>1</td>\n",
       "      <td>2</td>\n",
       "      <td>14.902598</td>\n",
       "      <td>17.68695</td>\n",
       "      <td>69.6087</td>\n",
       "      <td>16.652113</td>\n",
       "      <td>131</td>\n",
       "      <td>670</td>\n",
       "      <td>801</td>\n",
       "    </tr>\n",
       "    <tr>\n",
       "      <th>2</th>\n",
       "      <td>3</td>\n",
       "      <td>03-01-2018</td>\n",
       "      <td>1</td>\n",
       "      <td>0</td>\n",
       "      <td>1</td>\n",
       "      <td>0</td>\n",
       "      <td>3</td>\n",
       "      <td>1</td>\n",
       "      <td>1</td>\n",
       "      <td>8.050924</td>\n",
       "      <td>9.47025</td>\n",
       "      <td>43.7273</td>\n",
       "      <td>16.636703</td>\n",
       "      <td>120</td>\n",
       "      <td>1229</td>\n",
       "      <td>1349</td>\n",
       "    </tr>\n",
       "    <tr>\n",
       "      <th>3</th>\n",
       "      <td>4</td>\n",
       "      <td>04-01-2018</td>\n",
       "      <td>1</td>\n",
       "      <td>0</td>\n",
       "      <td>1</td>\n",
       "      <td>0</td>\n",
       "      <td>4</td>\n",
       "      <td>1</td>\n",
       "      <td>1</td>\n",
       "      <td>8.200000</td>\n",
       "      <td>10.60610</td>\n",
       "      <td>59.0435</td>\n",
       "      <td>10.739832</td>\n",
       "      <td>108</td>\n",
       "      <td>1454</td>\n",
       "      <td>1562</td>\n",
       "    </tr>\n",
       "    <tr>\n",
       "      <th>4</th>\n",
       "      <td>5</td>\n",
       "      <td>05-01-2018</td>\n",
       "      <td>1</td>\n",
       "      <td>0</td>\n",
       "      <td>1</td>\n",
       "      <td>0</td>\n",
       "      <td>5</td>\n",
       "      <td>1</td>\n",
       "      <td>1</td>\n",
       "      <td>9.305237</td>\n",
       "      <td>11.46350</td>\n",
       "      <td>43.6957</td>\n",
       "      <td>12.522300</td>\n",
       "      <td>82</td>\n",
       "      <td>1518</td>\n",
       "      <td>1600</td>\n",
       "    </tr>\n",
       "  </tbody>\n",
       "</table>\n",
       "</div>"
      ],
      "text/plain": [
       "   instant      dteday  season  yr  mnth  holiday  weekday  workingday  \\\n",
       "0        1  01-01-2018       1   0     1        0        1           1   \n",
       "1        2  02-01-2018       1   0     1        0        2           1   \n",
       "2        3  03-01-2018       1   0     1        0        3           1   \n",
       "3        4  04-01-2018       1   0     1        0        4           1   \n",
       "4        5  05-01-2018       1   0     1        0        5           1   \n",
       "\n",
       "   weathersit       temp     atemp      hum  windspeed  casual  registered  \\\n",
       "0           2  14.110847  18.18125  80.5833  10.749882     331         654   \n",
       "1           2  14.902598  17.68695  69.6087  16.652113     131         670   \n",
       "2           1   8.050924   9.47025  43.7273  16.636703     120        1229   \n",
       "3           1   8.200000  10.60610  59.0435  10.739832     108        1454   \n",
       "4           1   9.305237  11.46350  43.6957  12.522300      82        1518   \n",
       "\n",
       "    cnt  \n",
       "0   985  \n",
       "1   801  \n",
       "2  1349  \n",
       "3  1562  \n",
       "4  1600  "
      ]
     },
     "execution_count": 2,
     "metadata": {},
     "output_type": "execute_result"
    }
   ],
   "source": [
    "bike = pd.read_csv(\"day.csv\")\n",
    "bike.head()"
   ]
  },
  {
   "cell_type": "markdown",
   "metadata": {},
   "source": [
    "## 1.3 Inspecting Dataframe"
   ]
  },
  {
   "cell_type": "markdown",
   "metadata": {},
   "source": [
    "**1.3.1 Checking shape of the dataframe**"
   ]
  },
  {
   "cell_type": "code",
   "execution_count": 3,
   "metadata": {},
   "outputs": [
    {
     "data": {
      "text/plain": [
       "(730, 16)"
      ]
     },
     "execution_count": 3,
     "metadata": {},
     "output_type": "execute_result"
    }
   ],
   "source": [
    "bike.shape"
   ]
  },
  {
   "cell_type": "markdown",
   "metadata": {},
   "source": [
    "**1.3.2 Checking descriptive information**"
   ]
  },
  {
   "cell_type": "code",
   "execution_count": 4,
   "metadata": {},
   "outputs": [
    {
     "name": "stdout",
     "output_type": "stream",
     "text": [
      "<class 'pandas.core.frame.DataFrame'>\n",
      "RangeIndex: 730 entries, 0 to 729\n",
      "Data columns (total 16 columns):\n",
      " #   Column      Non-Null Count  Dtype  \n",
      "---  ------      --------------  -----  \n",
      " 0   instant     730 non-null    int64  \n",
      " 1   dteday      730 non-null    object \n",
      " 2   season      730 non-null    int64  \n",
      " 3   yr          730 non-null    int64  \n",
      " 4   mnth        730 non-null    int64  \n",
      " 5   holiday     730 non-null    int64  \n",
      " 6   weekday     730 non-null    int64  \n",
      " 7   workingday  730 non-null    int64  \n",
      " 8   weathersit  730 non-null    int64  \n",
      " 9   temp        730 non-null    float64\n",
      " 10  atemp       730 non-null    float64\n",
      " 11  hum         730 non-null    float64\n",
      " 12  windspeed   730 non-null    float64\n",
      " 13  casual      730 non-null    int64  \n",
      " 14  registered  730 non-null    int64  \n",
      " 15  cnt         730 non-null    int64  \n",
      "dtypes: float64(4), int64(11), object(1)\n",
      "memory usage: 91.4+ KB\n"
     ]
    }
   ],
   "source": [
    "bike.info()"
   ]
  },
  {
   "cell_type": "markdown",
   "metadata": {},
   "source": [
    "**1.3.3 Checking statistical summary for the numeric columns**"
   ]
  },
  {
   "cell_type": "code",
   "execution_count": 5,
   "metadata": {},
   "outputs": [
    {
     "data": {
      "text/html": [
       "<div>\n",
       "<style scoped>\n",
       "    .dataframe tbody tr th:only-of-type {\n",
       "        vertical-align: middle;\n",
       "    }\n",
       "\n",
       "    .dataframe tbody tr th {\n",
       "        vertical-align: top;\n",
       "    }\n",
       "\n",
       "    .dataframe thead th {\n",
       "        text-align: right;\n",
       "    }\n",
       "</style>\n",
       "<table border=\"1\" class=\"dataframe\">\n",
       "  <thead>\n",
       "    <tr style=\"text-align: right;\">\n",
       "      <th></th>\n",
       "      <th>instant</th>\n",
       "      <th>season</th>\n",
       "      <th>yr</th>\n",
       "      <th>mnth</th>\n",
       "      <th>holiday</th>\n",
       "      <th>weekday</th>\n",
       "      <th>workingday</th>\n",
       "      <th>weathersit</th>\n",
       "      <th>temp</th>\n",
       "      <th>atemp</th>\n",
       "      <th>hum</th>\n",
       "      <th>windspeed</th>\n",
       "      <th>casual</th>\n",
       "      <th>registered</th>\n",
       "      <th>cnt</th>\n",
       "    </tr>\n",
       "  </thead>\n",
       "  <tbody>\n",
       "    <tr>\n",
       "      <th>count</th>\n",
       "      <td>730.000000</td>\n",
       "      <td>730.000000</td>\n",
       "      <td>730.000000</td>\n",
       "      <td>730.000000</td>\n",
       "      <td>730.000000</td>\n",
       "      <td>730.000000</td>\n",
       "      <td>730.000000</td>\n",
       "      <td>730.000000</td>\n",
       "      <td>730.000000</td>\n",
       "      <td>730.000000</td>\n",
       "      <td>730.000000</td>\n",
       "      <td>730.000000</td>\n",
       "      <td>730.000000</td>\n",
       "      <td>730.000000</td>\n",
       "      <td>730.000000</td>\n",
       "    </tr>\n",
       "    <tr>\n",
       "      <th>mean</th>\n",
       "      <td>365.500000</td>\n",
       "      <td>2.498630</td>\n",
       "      <td>0.500000</td>\n",
       "      <td>6.526027</td>\n",
       "      <td>0.028767</td>\n",
       "      <td>2.995890</td>\n",
       "      <td>0.690411</td>\n",
       "      <td>1.394521</td>\n",
       "      <td>20.319259</td>\n",
       "      <td>23.726322</td>\n",
       "      <td>62.765175</td>\n",
       "      <td>12.763620</td>\n",
       "      <td>849.249315</td>\n",
       "      <td>3658.757534</td>\n",
       "      <td>4508.006849</td>\n",
       "    </tr>\n",
       "    <tr>\n",
       "      <th>std</th>\n",
       "      <td>210.877136</td>\n",
       "      <td>1.110184</td>\n",
       "      <td>0.500343</td>\n",
       "      <td>3.450215</td>\n",
       "      <td>0.167266</td>\n",
       "      <td>2.000339</td>\n",
       "      <td>0.462641</td>\n",
       "      <td>0.544807</td>\n",
       "      <td>7.506729</td>\n",
       "      <td>8.150308</td>\n",
       "      <td>14.237589</td>\n",
       "      <td>5.195841</td>\n",
       "      <td>686.479875</td>\n",
       "      <td>1559.758728</td>\n",
       "      <td>1936.011647</td>\n",
       "    </tr>\n",
       "    <tr>\n",
       "      <th>min</th>\n",
       "      <td>1.000000</td>\n",
       "      <td>1.000000</td>\n",
       "      <td>0.000000</td>\n",
       "      <td>1.000000</td>\n",
       "      <td>0.000000</td>\n",
       "      <td>0.000000</td>\n",
       "      <td>0.000000</td>\n",
       "      <td>1.000000</td>\n",
       "      <td>2.424346</td>\n",
       "      <td>3.953480</td>\n",
       "      <td>0.000000</td>\n",
       "      <td>1.500244</td>\n",
       "      <td>2.000000</td>\n",
       "      <td>20.000000</td>\n",
       "      <td>22.000000</td>\n",
       "    </tr>\n",
       "    <tr>\n",
       "      <th>25%</th>\n",
       "      <td>183.250000</td>\n",
       "      <td>2.000000</td>\n",
       "      <td>0.000000</td>\n",
       "      <td>4.000000</td>\n",
       "      <td>0.000000</td>\n",
       "      <td>1.000000</td>\n",
       "      <td>0.000000</td>\n",
       "      <td>1.000000</td>\n",
       "      <td>13.811885</td>\n",
       "      <td>16.889713</td>\n",
       "      <td>52.000000</td>\n",
       "      <td>9.041650</td>\n",
       "      <td>316.250000</td>\n",
       "      <td>2502.250000</td>\n",
       "      <td>3169.750000</td>\n",
       "    </tr>\n",
       "    <tr>\n",
       "      <th>50%</th>\n",
       "      <td>365.500000</td>\n",
       "      <td>3.000000</td>\n",
       "      <td>0.500000</td>\n",
       "      <td>7.000000</td>\n",
       "      <td>0.000000</td>\n",
       "      <td>3.000000</td>\n",
       "      <td>1.000000</td>\n",
       "      <td>1.000000</td>\n",
       "      <td>20.465826</td>\n",
       "      <td>24.368225</td>\n",
       "      <td>62.625000</td>\n",
       "      <td>12.125325</td>\n",
       "      <td>717.000000</td>\n",
       "      <td>3664.500000</td>\n",
       "      <td>4548.500000</td>\n",
       "    </tr>\n",
       "    <tr>\n",
       "      <th>75%</th>\n",
       "      <td>547.750000</td>\n",
       "      <td>3.000000</td>\n",
       "      <td>1.000000</td>\n",
       "      <td>10.000000</td>\n",
       "      <td>0.000000</td>\n",
       "      <td>5.000000</td>\n",
       "      <td>1.000000</td>\n",
       "      <td>2.000000</td>\n",
       "      <td>26.880615</td>\n",
       "      <td>30.445775</td>\n",
       "      <td>72.989575</td>\n",
       "      <td>15.625589</td>\n",
       "      <td>1096.500000</td>\n",
       "      <td>4783.250000</td>\n",
       "      <td>5966.000000</td>\n",
       "    </tr>\n",
       "    <tr>\n",
       "      <th>max</th>\n",
       "      <td>730.000000</td>\n",
       "      <td>4.000000</td>\n",
       "      <td>1.000000</td>\n",
       "      <td>12.000000</td>\n",
       "      <td>1.000000</td>\n",
       "      <td>6.000000</td>\n",
       "      <td>1.000000</td>\n",
       "      <td>3.000000</td>\n",
       "      <td>35.328347</td>\n",
       "      <td>42.044800</td>\n",
       "      <td>97.250000</td>\n",
       "      <td>34.000021</td>\n",
       "      <td>3410.000000</td>\n",
       "      <td>6946.000000</td>\n",
       "      <td>8714.000000</td>\n",
       "    </tr>\n",
       "  </tbody>\n",
       "</table>\n",
       "</div>"
      ],
      "text/plain": [
       "          instant      season          yr        mnth     holiday     weekday  \\\n",
       "count  730.000000  730.000000  730.000000  730.000000  730.000000  730.000000   \n",
       "mean   365.500000    2.498630    0.500000    6.526027    0.028767    2.995890   \n",
       "std    210.877136    1.110184    0.500343    3.450215    0.167266    2.000339   \n",
       "min      1.000000    1.000000    0.000000    1.000000    0.000000    0.000000   \n",
       "25%    183.250000    2.000000    0.000000    4.000000    0.000000    1.000000   \n",
       "50%    365.500000    3.000000    0.500000    7.000000    0.000000    3.000000   \n",
       "75%    547.750000    3.000000    1.000000   10.000000    0.000000    5.000000   \n",
       "max    730.000000    4.000000    1.000000   12.000000    1.000000    6.000000   \n",
       "\n",
       "       workingday  weathersit        temp       atemp         hum   windspeed  \\\n",
       "count  730.000000  730.000000  730.000000  730.000000  730.000000  730.000000   \n",
       "mean     0.690411    1.394521   20.319259   23.726322   62.765175   12.763620   \n",
       "std      0.462641    0.544807    7.506729    8.150308   14.237589    5.195841   \n",
       "min      0.000000    1.000000    2.424346    3.953480    0.000000    1.500244   \n",
       "25%      0.000000    1.000000   13.811885   16.889713   52.000000    9.041650   \n",
       "50%      1.000000    1.000000   20.465826   24.368225   62.625000   12.125325   \n",
       "75%      1.000000    2.000000   26.880615   30.445775   72.989575   15.625589   \n",
       "max      1.000000    3.000000   35.328347   42.044800   97.250000   34.000021   \n",
       "\n",
       "            casual   registered          cnt  \n",
       "count   730.000000   730.000000   730.000000  \n",
       "mean    849.249315  3658.757534  4508.006849  \n",
       "std     686.479875  1559.758728  1936.011647  \n",
       "min       2.000000    20.000000    22.000000  \n",
       "25%     316.250000  2502.250000  3169.750000  \n",
       "50%     717.000000  3664.500000  4548.500000  \n",
       "75%    1096.500000  4783.250000  5966.000000  \n",
       "max    3410.000000  6946.000000  8714.000000  "
      ]
     },
     "execution_count": 5,
     "metadata": {},
     "output_type": "execute_result"
    }
   ],
   "source": [
    "bike.describe()"
   ]
  },
  {
   "cell_type": "markdown",
   "metadata": {},
   "source": [
    "**1.3.4 Checking percentage of null values for each column**"
   ]
  },
  {
   "cell_type": "code",
   "execution_count": 6,
   "metadata": {},
   "outputs": [
    {
     "data": {
      "text/plain": [
       "instant       0.0\n",
       "dteday        0.0\n",
       "season        0.0\n",
       "yr            0.0\n",
       "mnth          0.0\n",
       "holiday       0.0\n",
       "weekday       0.0\n",
       "workingday    0.0\n",
       "weathersit    0.0\n",
       "temp          0.0\n",
       "atemp         0.0\n",
       "hum           0.0\n",
       "windspeed     0.0\n",
       "casual        0.0\n",
       "registered    0.0\n",
       "cnt           0.0\n",
       "dtype: float64"
      ]
     },
     "execution_count": 6,
     "metadata": {},
     "output_type": "execute_result"
    }
   ],
   "source": [
    "bike.isnull().sum() /len(bike) *100"
   ]
  },
  {
   "cell_type": "markdown",
   "metadata": {},
   "source": [
    "- ***There are no null columns in the dataset***"
   ]
  },
  {
   "cell_type": "markdown",
   "metadata": {},
   "source": [
    " # 2. Data Cleaning"
   ]
  },
  {
   "cell_type": "code",
   "execution_count": 7,
   "metadata": {
    "scrolled": true
   },
   "outputs": [
    {
     "data": {
      "text/html": [
       "<div>\n",
       "<style scoped>\n",
       "    .dataframe tbody tr th:only-of-type {\n",
       "        vertical-align: middle;\n",
       "    }\n",
       "\n",
       "    .dataframe tbody tr th {\n",
       "        vertical-align: top;\n",
       "    }\n",
       "\n",
       "    .dataframe thead th {\n",
       "        text-align: right;\n",
       "    }\n",
       "</style>\n",
       "<table border=\"1\" class=\"dataframe\">\n",
       "  <thead>\n",
       "    <tr style=\"text-align: right;\">\n",
       "      <th></th>\n",
       "      <th>instant</th>\n",
       "      <th>dteday</th>\n",
       "      <th>season</th>\n",
       "      <th>yr</th>\n",
       "      <th>mnth</th>\n",
       "      <th>holiday</th>\n",
       "      <th>weekday</th>\n",
       "      <th>workingday</th>\n",
       "      <th>weathersit</th>\n",
       "      <th>temp</th>\n",
       "      <th>atemp</th>\n",
       "      <th>hum</th>\n",
       "      <th>windspeed</th>\n",
       "      <th>casual</th>\n",
       "      <th>registered</th>\n",
       "      <th>cnt</th>\n",
       "    </tr>\n",
       "  </thead>\n",
       "  <tbody>\n",
       "    <tr>\n",
       "      <th>0</th>\n",
       "      <td>1</td>\n",
       "      <td>01-01-2018</td>\n",
       "      <td>1</td>\n",
       "      <td>0</td>\n",
       "      <td>1</td>\n",
       "      <td>0</td>\n",
       "      <td>1</td>\n",
       "      <td>1</td>\n",
       "      <td>2</td>\n",
       "      <td>14.110847</td>\n",
       "      <td>18.18125</td>\n",
       "      <td>80.5833</td>\n",
       "      <td>10.749882</td>\n",
       "      <td>331</td>\n",
       "      <td>654</td>\n",
       "      <td>985</td>\n",
       "    </tr>\n",
       "    <tr>\n",
       "      <th>1</th>\n",
       "      <td>2</td>\n",
       "      <td>02-01-2018</td>\n",
       "      <td>1</td>\n",
       "      <td>0</td>\n",
       "      <td>1</td>\n",
       "      <td>0</td>\n",
       "      <td>2</td>\n",
       "      <td>1</td>\n",
       "      <td>2</td>\n",
       "      <td>14.902598</td>\n",
       "      <td>17.68695</td>\n",
       "      <td>69.6087</td>\n",
       "      <td>16.652113</td>\n",
       "      <td>131</td>\n",
       "      <td>670</td>\n",
       "      <td>801</td>\n",
       "    </tr>\n",
       "    <tr>\n",
       "      <th>2</th>\n",
       "      <td>3</td>\n",
       "      <td>03-01-2018</td>\n",
       "      <td>1</td>\n",
       "      <td>0</td>\n",
       "      <td>1</td>\n",
       "      <td>0</td>\n",
       "      <td>3</td>\n",
       "      <td>1</td>\n",
       "      <td>1</td>\n",
       "      <td>8.050924</td>\n",
       "      <td>9.47025</td>\n",
       "      <td>43.7273</td>\n",
       "      <td>16.636703</td>\n",
       "      <td>120</td>\n",
       "      <td>1229</td>\n",
       "      <td>1349</td>\n",
       "    </tr>\n",
       "    <tr>\n",
       "      <th>3</th>\n",
       "      <td>4</td>\n",
       "      <td>04-01-2018</td>\n",
       "      <td>1</td>\n",
       "      <td>0</td>\n",
       "      <td>1</td>\n",
       "      <td>0</td>\n",
       "      <td>4</td>\n",
       "      <td>1</td>\n",
       "      <td>1</td>\n",
       "      <td>8.200000</td>\n",
       "      <td>10.60610</td>\n",
       "      <td>59.0435</td>\n",
       "      <td>10.739832</td>\n",
       "      <td>108</td>\n",
       "      <td>1454</td>\n",
       "      <td>1562</td>\n",
       "    </tr>\n",
       "    <tr>\n",
       "      <th>4</th>\n",
       "      <td>5</td>\n",
       "      <td>05-01-2018</td>\n",
       "      <td>1</td>\n",
       "      <td>0</td>\n",
       "      <td>1</td>\n",
       "      <td>0</td>\n",
       "      <td>5</td>\n",
       "      <td>1</td>\n",
       "      <td>1</td>\n",
       "      <td>9.305237</td>\n",
       "      <td>11.46350</td>\n",
       "      <td>43.6957</td>\n",
       "      <td>12.522300</td>\n",
       "      <td>82</td>\n",
       "      <td>1518</td>\n",
       "      <td>1600</td>\n",
       "    </tr>\n",
       "  </tbody>\n",
       "</table>\n",
       "</div>"
      ],
      "text/plain": [
       "   instant      dteday  season  yr  mnth  holiday  weekday  workingday  \\\n",
       "0        1  01-01-2018       1   0     1        0        1           1   \n",
       "1        2  02-01-2018       1   0     1        0        2           1   \n",
       "2        3  03-01-2018       1   0     1        0        3           1   \n",
       "3        4  04-01-2018       1   0     1        0        4           1   \n",
       "4        5  05-01-2018       1   0     1        0        5           1   \n",
       "\n",
       "   weathersit       temp     atemp      hum  windspeed  casual  registered  \\\n",
       "0           2  14.110847  18.18125  80.5833  10.749882     331         654   \n",
       "1           2  14.902598  17.68695  69.6087  16.652113     131         670   \n",
       "2           1   8.050924   9.47025  43.7273  16.636703     120        1229   \n",
       "3           1   8.200000  10.60610  59.0435  10.739832     108        1454   \n",
       "4           1   9.305237  11.46350  43.6957  12.522300      82        1518   \n",
       "\n",
       "    cnt  \n",
       "0   985  \n",
       "1   801  \n",
       "2  1349  \n",
       "3  1562  \n",
       "4  1600  "
      ]
     },
     "execution_count": 7,
     "metadata": {},
     "output_type": "execute_result"
    }
   ],
   "source": [
    "#Checking dataframe again\n",
    "bike.head()"
   ]
  },
  {
   "cell_type": "markdown",
   "metadata": {},
   "source": [
    "## 2.1 create a new dataframe with required columns from \"bike\" dataframe and then proceed further\n",
    "We have ignored **`\"instant\"`** beacuse it is an index column. Also ignored **`\"dteday\"`** becuse we have **`\"yr\"`**, **`\"mnth\"`** with same information. Also we have ignored columns **`\"casual\"`** and **`\"registered\"`** because **`\"cnt\"`** is sum of the both.\n",
    "We have ignored some columns for now."
   ]
  },
  {
   "cell_type": "code",
   "execution_count": 8,
   "metadata": {},
   "outputs": [
    {
     "data": {
      "text/html": [
       "<div>\n",
       "<style scoped>\n",
       "    .dataframe tbody tr th:only-of-type {\n",
       "        vertical-align: middle;\n",
       "    }\n",
       "\n",
       "    .dataframe tbody tr th {\n",
       "        vertical-align: top;\n",
       "    }\n",
       "\n",
       "    .dataframe thead th {\n",
       "        text-align: right;\n",
       "    }\n",
       "</style>\n",
       "<table border=\"1\" class=\"dataframe\">\n",
       "  <thead>\n",
       "    <tr style=\"text-align: right;\">\n",
       "      <th></th>\n",
       "      <th>season</th>\n",
       "      <th>yr</th>\n",
       "      <th>mnth</th>\n",
       "      <th>holiday</th>\n",
       "      <th>weekday</th>\n",
       "      <th>workingday</th>\n",
       "      <th>weathersit</th>\n",
       "      <th>temp</th>\n",
       "      <th>atemp</th>\n",
       "      <th>hum</th>\n",
       "      <th>windspeed</th>\n",
       "      <th>cnt</th>\n",
       "    </tr>\n",
       "  </thead>\n",
       "  <tbody>\n",
       "    <tr>\n",
       "      <th>0</th>\n",
       "      <td>1</td>\n",
       "      <td>0</td>\n",
       "      <td>1</td>\n",
       "      <td>0</td>\n",
       "      <td>1</td>\n",
       "      <td>1</td>\n",
       "      <td>2</td>\n",
       "      <td>14.110847</td>\n",
       "      <td>18.18125</td>\n",
       "      <td>80.5833</td>\n",
       "      <td>10.749882</td>\n",
       "      <td>985</td>\n",
       "    </tr>\n",
       "    <tr>\n",
       "      <th>1</th>\n",
       "      <td>1</td>\n",
       "      <td>0</td>\n",
       "      <td>1</td>\n",
       "      <td>0</td>\n",
       "      <td>2</td>\n",
       "      <td>1</td>\n",
       "      <td>2</td>\n",
       "      <td>14.902598</td>\n",
       "      <td>17.68695</td>\n",
       "      <td>69.6087</td>\n",
       "      <td>16.652113</td>\n",
       "      <td>801</td>\n",
       "    </tr>\n",
       "    <tr>\n",
       "      <th>2</th>\n",
       "      <td>1</td>\n",
       "      <td>0</td>\n",
       "      <td>1</td>\n",
       "      <td>0</td>\n",
       "      <td>3</td>\n",
       "      <td>1</td>\n",
       "      <td>1</td>\n",
       "      <td>8.050924</td>\n",
       "      <td>9.47025</td>\n",
       "      <td>43.7273</td>\n",
       "      <td>16.636703</td>\n",
       "      <td>1349</td>\n",
       "    </tr>\n",
       "    <tr>\n",
       "      <th>3</th>\n",
       "      <td>1</td>\n",
       "      <td>0</td>\n",
       "      <td>1</td>\n",
       "      <td>0</td>\n",
       "      <td>4</td>\n",
       "      <td>1</td>\n",
       "      <td>1</td>\n",
       "      <td>8.200000</td>\n",
       "      <td>10.60610</td>\n",
       "      <td>59.0435</td>\n",
       "      <td>10.739832</td>\n",
       "      <td>1562</td>\n",
       "    </tr>\n",
       "    <tr>\n",
       "      <th>4</th>\n",
       "      <td>1</td>\n",
       "      <td>0</td>\n",
       "      <td>1</td>\n",
       "      <td>0</td>\n",
       "      <td>5</td>\n",
       "      <td>1</td>\n",
       "      <td>1</td>\n",
       "      <td>9.305237</td>\n",
       "      <td>11.46350</td>\n",
       "      <td>43.6957</td>\n",
       "      <td>12.522300</td>\n",
       "      <td>1600</td>\n",
       "    </tr>\n",
       "  </tbody>\n",
       "</table>\n",
       "</div>"
      ],
      "text/plain": [
       "   season  yr  mnth  holiday  weekday  workingday  weathersit       temp  \\\n",
       "0       1   0     1        0        1           1           2  14.110847   \n",
       "1       1   0     1        0        2           1           2  14.902598   \n",
       "2       1   0     1        0        3           1           1   8.050924   \n",
       "3       1   0     1        0        4           1           1   8.200000   \n",
       "4       1   0     1        0        5           1           1   9.305237   \n",
       "\n",
       "      atemp      hum  windspeed   cnt  \n",
       "0  18.18125  80.5833  10.749882   985  \n",
       "1  17.68695  69.6087  16.652113   801  \n",
       "2   9.47025  43.7273  16.636703  1349  \n",
       "3  10.60610  59.0435  10.739832  1562  \n",
       "4  11.46350  43.6957  12.522300  1600  "
      ]
     },
     "execution_count": 8,
     "metadata": {},
     "output_type": "execute_result"
    }
   ],
   "source": [
    "#Creating new dataframe with required columns\n",
    "bike_new = bike[[\"season\", \"yr\",\"mnth\", \"holiday\", \"weekday\", \"workingday\", \"weathersit\",\"temp\",\"atemp\",\n",
    "                 \"hum\",\"windspeed\",\"cnt\"]]\n",
    "\n",
    "bike_new.head()    #Checking dataframe"
   ]
  },
  {
   "cell_type": "markdown",
   "metadata": {},
   "source": [
    "## 2.2. Handling errors in Dataframe"
   ]
  },
  {
   "cell_type": "markdown",
   "metadata": {},
   "source": [
    "You can observe in the dataset that some of the variables like **`'weathersit'`** and **`'season'`** have values as _1, 2, 3, 4 which have specific labels associated with them_ .So converting such feature values into categorical string values before proceeding with model building"
   ]
  },
  {
   "cell_type": "markdown",
   "metadata": {},
   "source": [
    "**2.2.1 replacing values in `\"season\"` columns**\n"
   ]
  },
  {
   "cell_type": "code",
   "execution_count": 9,
   "metadata": {},
   "outputs": [],
   "source": [
    "bike_new[\"season\"].replace({1 : \"spring\", 2 : \"summer\" , 3 : \"fall\", 4 : \"winter\"} , inplace = True)"
   ]
  },
  {
   "cell_type": "markdown",
   "metadata": {},
   "source": [
    "**2.2.2 replacing values in `\"weathersit\"` column**"
   ]
  },
  {
   "cell_type": "code",
   "execution_count": 10,
   "metadata": {},
   "outputs": [],
   "source": [
    "bike_new[\"weathersit\"].replace({1 : \"Clear_PartlyCloudy\", 2 : \"Mist+Cloudy\" , 3 : \"LightSnow_LightRain+Thunderstorm\",\n",
    "                          4 : \"HeavyRain_IcePallets_Thunderstorm_Mist\"} , inplace = True)\n"
   ]
  },
  {
   "cell_type": "markdown",
   "metadata": {},
   "source": [
    "**2.2.3 Replacing values in `\"weekdays\"` column**"
   ]
  },
  {
   "cell_type": "code",
   "execution_count": 11,
   "metadata": {},
   "outputs": [],
   "source": [
    "bike_new['weekday'].replace({0:\"Sunday\",1:\"Monday\",2:\"Tuesday\",3:\"Wednesday\",4:\"Thursday\",5:\"Friday\",6:\"Saturday\"}\n",
    "                            ,inplace=True)\n"
   ]
  },
  {
   "cell_type": "markdown",
   "metadata": {},
   "source": [
    "**2.2.4 Replacing values in `\"mnth\"` columns**"
   ]
  },
  {
   "cell_type": "code",
   "execution_count": 12,
   "metadata": {},
   "outputs": [],
   "source": [
    "bike_new['mnth'].replace({1 : \"Jan\", 2 : \"Feb\", 3 : \"Mar\", 4 : \"Apr\", 5 : \"May\", 6 : \"June\", 7 : \"July\", 8 : \"Aug\",\n",
    "                         9 : \"Sept\", 10 : \"Oct\", 11 : \"Nov\", 12 : \"Dec\"}\n",
    "                            ,inplace=True)"
   ]
  },
  {
   "cell_type": "code",
   "execution_count": 13,
   "metadata": {},
   "outputs": [
    {
     "data": {
      "text/html": [
       "<div>\n",
       "<style scoped>\n",
       "    .dataframe tbody tr th:only-of-type {\n",
       "        vertical-align: middle;\n",
       "    }\n",
       "\n",
       "    .dataframe tbody tr th {\n",
       "        vertical-align: top;\n",
       "    }\n",
       "\n",
       "    .dataframe thead th {\n",
       "        text-align: right;\n",
       "    }\n",
       "</style>\n",
       "<table border=\"1\" class=\"dataframe\">\n",
       "  <thead>\n",
       "    <tr style=\"text-align: right;\">\n",
       "      <th></th>\n",
       "      <th>season</th>\n",
       "      <th>yr</th>\n",
       "      <th>mnth</th>\n",
       "      <th>holiday</th>\n",
       "      <th>weekday</th>\n",
       "      <th>workingday</th>\n",
       "      <th>weathersit</th>\n",
       "      <th>temp</th>\n",
       "      <th>atemp</th>\n",
       "      <th>hum</th>\n",
       "      <th>windspeed</th>\n",
       "      <th>cnt</th>\n",
       "    </tr>\n",
       "  </thead>\n",
       "  <tbody>\n",
       "    <tr>\n",
       "      <th>0</th>\n",
       "      <td>spring</td>\n",
       "      <td>0</td>\n",
       "      <td>Jan</td>\n",
       "      <td>0</td>\n",
       "      <td>Monday</td>\n",
       "      <td>1</td>\n",
       "      <td>Mist+Cloudy</td>\n",
       "      <td>14.110847</td>\n",
       "      <td>18.18125</td>\n",
       "      <td>80.5833</td>\n",
       "      <td>10.749882</td>\n",
       "      <td>985</td>\n",
       "    </tr>\n",
       "    <tr>\n",
       "      <th>1</th>\n",
       "      <td>spring</td>\n",
       "      <td>0</td>\n",
       "      <td>Jan</td>\n",
       "      <td>0</td>\n",
       "      <td>Tuesday</td>\n",
       "      <td>1</td>\n",
       "      <td>Mist+Cloudy</td>\n",
       "      <td>14.902598</td>\n",
       "      <td>17.68695</td>\n",
       "      <td>69.6087</td>\n",
       "      <td>16.652113</td>\n",
       "      <td>801</td>\n",
       "    </tr>\n",
       "    <tr>\n",
       "      <th>2</th>\n",
       "      <td>spring</td>\n",
       "      <td>0</td>\n",
       "      <td>Jan</td>\n",
       "      <td>0</td>\n",
       "      <td>Wednesday</td>\n",
       "      <td>1</td>\n",
       "      <td>Clear_PartlyCloudy</td>\n",
       "      <td>8.050924</td>\n",
       "      <td>9.47025</td>\n",
       "      <td>43.7273</td>\n",
       "      <td>16.636703</td>\n",
       "      <td>1349</td>\n",
       "    </tr>\n",
       "    <tr>\n",
       "      <th>3</th>\n",
       "      <td>spring</td>\n",
       "      <td>0</td>\n",
       "      <td>Jan</td>\n",
       "      <td>0</td>\n",
       "      <td>Thursday</td>\n",
       "      <td>1</td>\n",
       "      <td>Clear_PartlyCloudy</td>\n",
       "      <td>8.200000</td>\n",
       "      <td>10.60610</td>\n",
       "      <td>59.0435</td>\n",
       "      <td>10.739832</td>\n",
       "      <td>1562</td>\n",
       "    </tr>\n",
       "    <tr>\n",
       "      <th>4</th>\n",
       "      <td>spring</td>\n",
       "      <td>0</td>\n",
       "      <td>Jan</td>\n",
       "      <td>0</td>\n",
       "      <td>Friday</td>\n",
       "      <td>1</td>\n",
       "      <td>Clear_PartlyCloudy</td>\n",
       "      <td>9.305237</td>\n",
       "      <td>11.46350</td>\n",
       "      <td>43.6957</td>\n",
       "      <td>12.522300</td>\n",
       "      <td>1600</td>\n",
       "    </tr>\n",
       "  </tbody>\n",
       "</table>\n",
       "</div>"
      ],
      "text/plain": [
       "   season  yr mnth  holiday    weekday  workingday          weathersit  \\\n",
       "0  spring   0  Jan        0     Monday           1         Mist+Cloudy   \n",
       "1  spring   0  Jan        0    Tuesday           1         Mist+Cloudy   \n",
       "2  spring   0  Jan        0  Wednesday           1  Clear_PartlyCloudy   \n",
       "3  spring   0  Jan        0   Thursday           1  Clear_PartlyCloudy   \n",
       "4  spring   0  Jan        0     Friday           1  Clear_PartlyCloudy   \n",
       "\n",
       "        temp     atemp      hum  windspeed   cnt  \n",
       "0  14.110847  18.18125  80.5833  10.749882   985  \n",
       "1  14.902598  17.68695  69.6087  16.652113   801  \n",
       "2   8.050924   9.47025  43.7273  16.636703  1349  \n",
       "3   8.200000  10.60610  59.0435  10.739832  1562  \n",
       "4   9.305237  11.46350  43.6957  12.522300  1600  "
      ]
     },
     "execution_count": 13,
     "metadata": {},
     "output_type": "execute_result"
    }
   ],
   "source": [
    "# Checking the dataframe\n",
    "bike_new.head()"
   ]
  },
  {
   "cell_type": "markdown",
   "metadata": {},
   "source": [
    "## 2.3. Chaging dtype of columns to appropriate data type "
   ]
  },
  {
   "cell_type": "code",
   "execution_count": 14,
   "metadata": {},
   "outputs": [
    {
     "name": "stdout",
     "output_type": "stream",
     "text": [
      "<class 'pandas.core.frame.DataFrame'>\n",
      "RangeIndex: 730 entries, 0 to 729\n",
      "Data columns (total 12 columns):\n",
      " #   Column      Non-Null Count  Dtype  \n",
      "---  ------      --------------  -----  \n",
      " 0   season      730 non-null    object \n",
      " 1   yr          730 non-null    int64  \n",
      " 2   mnth        730 non-null    object \n",
      " 3   holiday     730 non-null    int64  \n",
      " 4   weekday     730 non-null    object \n",
      " 5   workingday  730 non-null    int64  \n",
      " 6   weathersit  730 non-null    object \n",
      " 7   temp        730 non-null    float64\n",
      " 8   atemp       730 non-null    float64\n",
      " 9   hum         730 non-null    float64\n",
      " 10  windspeed   730 non-null    float64\n",
      " 11  cnt         730 non-null    int64  \n",
      "dtypes: float64(4), int64(4), object(4)\n",
      "memory usage: 68.6+ KB\n"
     ]
    }
   ],
   "source": [
    "#Checking dtypes of columns\n",
    "bike_new.info()"
   ]
  },
  {
   "cell_type": "markdown",
   "metadata": {},
   "source": [
    "**2.3.1 changing dtypes of following column to category to save memory usage**"
   ]
  },
  {
   "cell_type": "code",
   "execution_count": 15,
   "metadata": {},
   "outputs": [],
   "source": [
    "bike[[\"season\", \"weekday\", \"weathersit\", \"weekday\", \"mnth\"]] = bike[[\"season\", \"weekday\", \"weathersit\", \"weekday\",\n",
    "                                                                     \"mnth\"]].astype('category')"
   ]
  },
  {
   "cell_type": "code",
   "execution_count": 16,
   "metadata": {
    "scrolled": false
   },
   "outputs": [
    {
     "name": "stdout",
     "output_type": "stream",
     "text": [
      "<class 'pandas.core.frame.DataFrame'>\n",
      "RangeIndex: 730 entries, 0 to 729\n",
      "Data columns (total 16 columns):\n",
      " #   Column      Non-Null Count  Dtype   \n",
      "---  ------      --------------  -----   \n",
      " 0   instant     730 non-null    int64   \n",
      " 1   dteday      730 non-null    object  \n",
      " 2   season      730 non-null    category\n",
      " 3   yr          730 non-null    int64   \n",
      " 4   mnth        730 non-null    category\n",
      " 5   holiday     730 non-null    int64   \n",
      " 6   weekday     730 non-null    object  \n",
      " 7   workingday  730 non-null    int64   \n",
      " 8   weathersit  730 non-null    category\n",
      " 9   temp        730 non-null    float64 \n",
      " 10  atemp       730 non-null    float64 \n",
      " 11  hum         730 non-null    float64 \n",
      " 12  windspeed   730 non-null    float64 \n",
      " 13  casual      730 non-null    int64   \n",
      " 14  registered  730 non-null    int64   \n",
      " 15  cnt         730 non-null    int64   \n",
      "dtypes: category(3), float64(4), int64(7), object(2)\n",
      "memory usage: 77.1+ KB\n"
     ]
    }
   ],
   "source": [
    "##Checking dtypes of all columns again\n",
    "bike.info()"
   ]
  },
  {
   "cell_type": "markdown",
   "metadata": {},
   "source": [
    "## 2.4  Data quality checks "
   ]
  },
  {
   "cell_type": "markdown",
   "metadata": {},
   "source": [
    "- We will check value counts for every column .This will help us to check if there are any junk values"
   ]
  },
  {
   "cell_type": "code",
   "execution_count": 17,
   "metadata": {
    "scrolled": false
   },
   "outputs": [
    {
     "name": "stdout",
     "output_type": "stream",
     "text": [
      "fall      188\n",
      "summer    184\n",
      "spring    180\n",
      "winter    178\n",
      "Name: season, dtype: int64 \n",
      "\n",
      "1    365\n",
      "0    365\n",
      "Name: yr, dtype: int64 \n",
      "\n",
      "Dec     62\n",
      "Jan     62\n",
      "May     62\n",
      "Oct     62\n",
      "July    62\n",
      "Mar     62\n",
      "Aug     62\n",
      "Nov     60\n",
      "Sept    60\n",
      "June    60\n",
      "Apr     60\n",
      "Feb     56\n",
      "Name: mnth, dtype: int64 \n",
      "\n",
      "0    709\n",
      "1     21\n",
      "Name: holiday, dtype: int64 \n",
      "\n",
      "Monday       105\n",
      "Tuesday      105\n",
      "Saturday     104\n",
      "Friday       104\n",
      "Sunday       104\n",
      "Wednesday    104\n",
      "Thursday     104\n",
      "Name: weekday, dtype: int64 \n",
      "\n",
      "1    504\n",
      "0    226\n",
      "Name: workingday, dtype: int64 \n",
      "\n",
      "Clear_PartlyCloudy                  463\n",
      "Mist+Cloudy                         246\n",
      "LightSnow_LightRain+Thunderstorm     21\n",
      "Name: weathersit, dtype: int64 \n",
      "\n",
      "10.899153    5\n",
      "26.035000    5\n",
      "23.130847    4\n",
      "28.563347    4\n",
      "27.880000    4\n",
      "            ..\n",
      "27.025847    1\n",
      "19.270000    1\n",
      "13.191299    1\n",
      "24.155847    1\n",
      "5.526103     1\n",
      "Name: temp, Length: 498, dtype: int64 \n",
      "\n",
      "32.73440    4\n",
      "18.78105    3\n",
      "31.85040    3\n",
      "16.28750    2\n",
      "17.58145    2\n",
      "           ..\n",
      "36.96315    1\n",
      "24.93625    1\n",
      "32.73460    1\n",
      "14.82130    1\n",
      "9.31250     1\n",
      "Name: atemp, Length: 689, dtype: int64 \n",
      "\n",
      "61.3333    4\n",
      "69.7083    3\n",
      "59.0000    3\n",
      "57.0000    3\n",
      "72.9583    3\n",
      "          ..\n",
      "64.7917    1\n",
      "44.9583    1\n",
      "71.2083    1\n",
      "50.0417    1\n",
      "49.8750    1\n",
      "Name: hum, Length: 594, dtype: int64 \n",
      "\n",
      "7.416900     3\n",
      "15.333486    3\n",
      "7.959064     3\n",
      "11.166689    3\n",
      "7.125450     3\n",
      "            ..\n",
      "14.500475    1\n",
      "8.250514     1\n",
      "19.416332    1\n",
      "16.522200    1\n",
      "9.750175     1\n",
      "Name: windspeed, Length: 649, dtype: int64 \n",
      "\n",
      "5119    2\n",
      "4274    2\n",
      "3784    2\n",
      "6883    2\n",
      "2077    2\n",
      "       ..\n",
      "6273    1\n",
      "5501    1\n",
      "4760    1\n",
      "1683    1\n",
      "4097    1\n",
      "Name: cnt, Length: 695, dtype: int64 \n",
      "\n"
     ]
    }
   ],
   "source": [
    "column = bike_new.columns    #creating list for all columns \n",
    "\n",
    "for col in column:\n",
    "    print(bike_new[col].value_counts(), '\\n')    #Running a for loop and applying value_counts()"
   ]
  },
  {
   "cell_type": "markdown",
   "metadata": {},
   "source": [
    "- As we can see above, there are **no junk values** in dataframe so we can proceed further."
   ]
  },
  {
   "cell_type": "markdown",
   "metadata": {},
   "source": [
    "# 3. EDA"
   ]
  },
  {
   "cell_type": "markdown",
   "metadata": {},
   "source": [
    "## 3.1 Pairplots for understanding Numeric variables"
   ]
  },
  {
   "cell_type": "code",
   "execution_count": 18,
   "metadata": {
    "scrolled": false
   },
   "outputs": [
    {
     "data": {
      "image/png": "[encoded data removed]",
      "text/plain": [
       "<Figure size 900x900 with 30 Axes>"
      ]
     },
     "metadata": {
      "needs_background": "light"
     },
     "output_type": "display_data"
    }
   ],
   "source": [
    "cols = bike_new[[ 'temp', 'atemp', 'hum', 'windspeed', 'cnt']]   #Saving required columns in the list\n",
    "\n",
    "sns.pairplot(cols)   #plotting pairplots\n",
    "plt.show()\n"
   ]
  },
  {
   "cell_type": "markdown",
   "metadata": {},
   "source": [
    "## 3.2 Correlation Matrix"
   ]
  },
  {
   "cell_type": "code",
   "execution_count": 19,
   "metadata": {},
   "outputs": [
    {
     "data": {
      "image/png": "[encoded data removed]",
      "text/plain": [
       "<Figure size 1080x720 with 2 Axes>"
      ]
     },
     "metadata": {
      "needs_background": "light"
     },
     "output_type": "display_data"
    }
   ],
   "source": [
    "plt.figure(figsize = (15 , 10))\n",
    "\n",
    "sns.heatmap( cols.corr() , annot = True, cmap=\"YlGnBu\")    #Plotting heatmap\n",
    "plt.show()"
   ]
  },
  {
   "cell_type": "markdown",
   "metadata": {},
   "source": [
    "- Here we observ that **\"temp\" and \"atemp\"** columns are highly correlated .So it's better to drop one of them"
   ]
  },
  {
   "cell_type": "code",
   "execution_count": 20,
   "metadata": {
    "scrolled": true
   },
   "outputs": [
    {
     "data": {
      "text/html": [
       "<div>\n",
       "<style scoped>\n",
       "    .dataframe tbody tr th:only-of-type {\n",
       "        vertical-align: middle;\n",
       "    }\n",
       "\n",
       "    .dataframe tbody tr th {\n",
       "        vertical-align: top;\n",
       "    }\n",
       "\n",
       "    .dataframe thead th {\n",
       "        text-align: right;\n",
       "    }\n",
       "</style>\n",
       "<table border=\"1\" class=\"dataframe\">\n",
       "  <thead>\n",
       "    <tr style=\"text-align: right;\">\n",
       "      <th></th>\n",
       "      <th>season</th>\n",
       "      <th>yr</th>\n",
       "      <th>mnth</th>\n",
       "      <th>holiday</th>\n",
       "      <th>weekday</th>\n",
       "      <th>workingday</th>\n",
       "      <th>weathersit</th>\n",
       "      <th>atemp</th>\n",
       "      <th>hum</th>\n",
       "      <th>windspeed</th>\n",
       "      <th>cnt</th>\n",
       "    </tr>\n",
       "  </thead>\n",
       "  <tbody>\n",
       "    <tr>\n",
       "      <th>0</th>\n",
       "      <td>spring</td>\n",
       "      <td>0</td>\n",
       "      <td>Jan</td>\n",
       "      <td>0</td>\n",
       "      <td>Monday</td>\n",
       "      <td>1</td>\n",
       "      <td>Mist+Cloudy</td>\n",
       "      <td>18.18125</td>\n",
       "      <td>80.5833</td>\n",
       "      <td>10.749882</td>\n",
       "      <td>985</td>\n",
       "    </tr>\n",
       "    <tr>\n",
       "      <th>1</th>\n",
       "      <td>spring</td>\n",
       "      <td>0</td>\n",
       "      <td>Jan</td>\n",
       "      <td>0</td>\n",
       "      <td>Tuesday</td>\n",
       "      <td>1</td>\n",
       "      <td>Mist+Cloudy</td>\n",
       "      <td>17.68695</td>\n",
       "      <td>69.6087</td>\n",
       "      <td>16.652113</td>\n",
       "      <td>801</td>\n",
       "    </tr>\n",
       "    <tr>\n",
       "      <th>2</th>\n",
       "      <td>spring</td>\n",
       "      <td>0</td>\n",
       "      <td>Jan</td>\n",
       "      <td>0</td>\n",
       "      <td>Wednesday</td>\n",
       "      <td>1</td>\n",
       "      <td>Clear_PartlyCloudy</td>\n",
       "      <td>9.47025</td>\n",
       "      <td>43.7273</td>\n",
       "      <td>16.636703</td>\n",
       "      <td>1349</td>\n",
       "    </tr>\n",
       "    <tr>\n",
       "      <th>3</th>\n",
       "      <td>spring</td>\n",
       "      <td>0</td>\n",
       "      <td>Jan</td>\n",
       "      <td>0</td>\n",
       "      <td>Thursday</td>\n",
       "      <td>1</td>\n",
       "      <td>Clear_PartlyCloudy</td>\n",
       "      <td>10.60610</td>\n",
       "      <td>59.0435</td>\n",
       "      <td>10.739832</td>\n",
       "      <td>1562</td>\n",
       "    </tr>\n",
       "    <tr>\n",
       "      <th>4</th>\n",
       "      <td>spring</td>\n",
       "      <td>0</td>\n",
       "      <td>Jan</td>\n",
       "      <td>0</td>\n",
       "      <td>Friday</td>\n",
       "      <td>1</td>\n",
       "      <td>Clear_PartlyCloudy</td>\n",
       "      <td>11.46350</td>\n",
       "      <td>43.6957</td>\n",
       "      <td>12.522300</td>\n",
       "      <td>1600</td>\n",
       "    </tr>\n",
       "  </tbody>\n",
       "</table>\n",
       "</div>"
      ],
      "text/plain": [
       "   season  yr mnth  holiday    weekday  workingday          weathersit  \\\n",
       "0  spring   0  Jan        0     Monday           1         Mist+Cloudy   \n",
       "1  spring   0  Jan        0    Tuesday           1         Mist+Cloudy   \n",
       "2  spring   0  Jan        0  Wednesday           1  Clear_PartlyCloudy   \n",
       "3  spring   0  Jan        0   Thursday           1  Clear_PartlyCloudy   \n",
       "4  spring   0  Jan        0     Friday           1  Clear_PartlyCloudy   \n",
       "\n",
       "      atemp      hum  windspeed   cnt  \n",
       "0  18.18125  80.5833  10.749882   985  \n",
       "1  17.68695  69.6087  16.652113   801  \n",
       "2   9.47025  43.7273  16.636703  1349  \n",
       "3  10.60610  59.0435  10.739832  1562  \n",
       "4  11.46350  43.6957  12.522300  1600  "
      ]
     },
     "execution_count": 20,
     "metadata": {},
     "output_type": "execute_result"
    }
   ],
   "source": [
    "#Let us drop temp and consider atemp\n",
    "\n",
    "bike_new.drop(['temp'],axis=1,inplace=True)\n",
    "bike_new.head()"
   ]
  },
  {
   "cell_type": "markdown",
   "metadata": {},
   "source": [
    "## 3.3 Visualising categorical variables by plotting Boxplots"
   ]
  },
  {
   "cell_type": "code",
   "execution_count": 21,
   "metadata": {
    "scrolled": false
   },
   "outputs": [
    {
     "data": {
      "image/png": "[encoded data removed]",
      "text/plain": [
       "<Figure size 1440x864 with 6 Axes>"
      ]
     },
     "metadata": {
      "needs_background": "light"
     },
     "output_type": "display_data"
    }
   ],
   "source": [
    "plt.figure(figsize=(20, 12))\n",
    "\n",
    "plt.subplot(2,3,1)\n",
    "sns.boxplot(x = 'season', y = 'cnt', data = bike_new)          #cnt Vs season\n",
    "\n",
    "plt.subplot(2,3,2)\n",
    "sns.boxplot(x = 'mnth', y = 'cnt', data = bike_new)           #cnt Vs mnth\n",
    "\n",
    "plt.subplot(2,3,3)\n",
    "sns.boxplot(x = 'holiday', y = 'cnt', data = bike_new)        #cnt Vs holiday\n",
    "\n",
    "plt.subplot(2,3,4)\n",
    "sns.boxplot(x = 'weekday', y = 'cnt', data = bike_new)        #cnt Vs weekday\n",
    "plt.xticks(rotation=45)\n",
    "\n",
    "plt.subplot(2,3,5)\n",
    "sns.boxplot(x = 'workingday', y = 'cnt', data = bike_new)     #cnt Vs workingday\n",
    "\n",
    "plt.subplot(2,3,6)\n",
    "sns.boxplot(x = 'weathersit', y = 'cnt', data = bike_new)     #cnt Vs weathersit\n",
    "plt.xticks(rotation=45)\n",
    "\n",
    "plt.show()"
   ]
  },
  {
   "cell_type": "markdown",
   "metadata": {},
   "source": [
    "**Inference :**<br>\n",
    "- **cnt Vs mnth :** It is seen that most of the bookings were done in the months April to October.\n",
    "- **cnt Vs weathersit :** It is seen that less bookings are done when there is light rain or thinderstorm."
   ]
  },
  {
   "cell_type": "markdown",
   "metadata": {},
   "source": [
    "## 3.4 Barplots for Categorical Variables"
   ]
  },
  {
   "cell_type": "code",
   "execution_count": 22,
   "metadata": {},
   "outputs": [
    {
     "data": {
      "image/png": "[encoded data removed]",
      "text/plain": [
       "<Figure size 1440x864 with 6 Axes>"
      ]
     },
     "metadata": {
      "needs_background": "light"
     },
     "output_type": "display_data"
    }
   ],
   "source": [
    "plt.figure(figsize=(20, 12))\n",
    "\n",
    "plt.subplot(2,3,1)\n",
    "sns.barplot(x = 'season', y = 'cnt', data = bike_new)          #cnt Vs season\n",
    "\n",
    "plt.subplot(2,3,2)\n",
    "sns.barplot(x = 'mnth', y = 'cnt', data = bike_new)           #cnt Vs mnth\n",
    "\n",
    "plt.subplot(2,3,3)\n",
    "sns.barplot(x = 'holiday', y = 'cnt', data = bike_new)        #cnt Vs holiday\n",
    "\n",
    "plt.subplot(2,3,4)\n",
    "sns.barplot(x = 'weekday', y = 'cnt', data = bike_new)        #cnt Vs weekday\n",
    "plt.xticks(rotation=45)\n",
    "\n",
    "plt.subplot(2,3,5)\n",
    "sns.barplot(x = 'workingday', y = 'cnt', data = bike_new)     #cnt Vs workingday\n",
    "\n",
    "plt.subplot(2,3,6)\n",
    "sns.barplot(x = 'weathersit', y = 'cnt', data = bike_new)     #cnt Vs weathersit\n",
    "plt.xticks(rotation=45)\n",
    "\n",
    "plt.show()"
   ]
  },
  {
   "cell_type": "markdown",
   "metadata": {},
   "source": [
    "# 4. Creating dummy variables"
   ]
  },
  {
   "cell_type": "code",
   "execution_count": 23,
   "metadata": {},
   "outputs": [
    {
     "data": {
      "text/html": [
       "<div>\n",
       "<style scoped>\n",
       "    .dataframe tbody tr th:only-of-type {\n",
       "        vertical-align: middle;\n",
       "    }\n",
       "\n",
       "    .dataframe tbody tr th {\n",
       "        vertical-align: top;\n",
       "    }\n",
       "\n",
       "    .dataframe thead th {\n",
       "        text-align: right;\n",
       "    }\n",
       "</style>\n",
       "<table border=\"1\" class=\"dataframe\">\n",
       "  <thead>\n",
       "    <tr style=\"text-align: right;\">\n",
       "      <th></th>\n",
       "      <th>yr</th>\n",
       "      <th>holiday</th>\n",
       "      <th>workingday</th>\n",
       "      <th>atemp</th>\n",
       "      <th>hum</th>\n",
       "      <th>windspeed</th>\n",
       "      <th>cnt</th>\n",
       "      <th>season_spring</th>\n",
       "      <th>season_summer</th>\n",
       "      <th>season_winter</th>\n",
       "      <th>...</th>\n",
       "      <th>mnth_Oct</th>\n",
       "      <th>mnth_Sept</th>\n",
       "      <th>weekday_Monday</th>\n",
       "      <th>weekday_Saturday</th>\n",
       "      <th>weekday_Sunday</th>\n",
       "      <th>weekday_Thursday</th>\n",
       "      <th>weekday_Tuesday</th>\n",
       "      <th>weekday_Wednesday</th>\n",
       "      <th>weathersit_LightSnow_LightRain+Thunderstorm</th>\n",
       "      <th>weathersit_Mist+Cloudy</th>\n",
       "    </tr>\n",
       "  </thead>\n",
       "  <tbody>\n",
       "    <tr>\n",
       "      <th>0</th>\n",
       "      <td>0</td>\n",
       "      <td>0</td>\n",
       "      <td>1</td>\n",
       "      <td>18.18125</td>\n",
       "      <td>80.5833</td>\n",
       "      <td>10.749882</td>\n",
       "      <td>985</td>\n",
       "      <td>1</td>\n",
       "      <td>0</td>\n",
       "      <td>0</td>\n",
       "      <td>...</td>\n",
       "      <td>0</td>\n",
       "      <td>0</td>\n",
       "      <td>1</td>\n",
       "      <td>0</td>\n",
       "      <td>0</td>\n",
       "      <td>0</td>\n",
       "      <td>0</td>\n",
       "      <td>0</td>\n",
       "      <td>0</td>\n",
       "      <td>1</td>\n",
       "    </tr>\n",
       "    <tr>\n",
       "      <th>1</th>\n",
       "      <td>0</td>\n",
       "      <td>0</td>\n",
       "      <td>1</td>\n",
       "      <td>17.68695</td>\n",
       "      <td>69.6087</td>\n",
       "      <td>16.652113</td>\n",
       "      <td>801</td>\n",
       "      <td>1</td>\n",
       "      <td>0</td>\n",
       "      <td>0</td>\n",
       "      <td>...</td>\n",
       "      <td>0</td>\n",
       "      <td>0</td>\n",
       "      <td>0</td>\n",
       "      <td>0</td>\n",
       "      <td>0</td>\n",
       "      <td>0</td>\n",
       "      <td>1</td>\n",
       "      <td>0</td>\n",
       "      <td>0</td>\n",
       "      <td>1</td>\n",
       "    </tr>\n",
       "    <tr>\n",
       "      <th>2</th>\n",
       "      <td>0</td>\n",
       "      <td>0</td>\n",
       "      <td>1</td>\n",
       "      <td>9.47025</td>\n",
       "      <td>43.7273</td>\n",
       "      <td>16.636703</td>\n",
       "      <td>1349</td>\n",
       "      <td>1</td>\n",
       "      <td>0</td>\n",
       "      <td>0</td>\n",
       "      <td>...</td>\n",
       "      <td>0</td>\n",
       "      <td>0</td>\n",
       "      <td>0</td>\n",
       "      <td>0</td>\n",
       "      <td>0</td>\n",
       "      <td>0</td>\n",
       "      <td>0</td>\n",
       "      <td>1</td>\n",
       "      <td>0</td>\n",
       "      <td>0</td>\n",
       "    </tr>\n",
       "    <tr>\n",
       "      <th>3</th>\n",
       "      <td>0</td>\n",
       "      <td>0</td>\n",
       "      <td>1</td>\n",
       "      <td>10.60610</td>\n",
       "      <td>59.0435</td>\n",
       "      <td>10.739832</td>\n",
       "      <td>1562</td>\n",
       "      <td>1</td>\n",
       "      <td>0</td>\n",
       "      <td>0</td>\n",
       "      <td>...</td>\n",
       "      <td>0</td>\n",
       "      <td>0</td>\n",
       "      <td>0</td>\n",
       "      <td>0</td>\n",
       "      <td>0</td>\n",
       "      <td>1</td>\n",
       "      <td>0</td>\n",
       "      <td>0</td>\n",
       "      <td>0</td>\n",
       "      <td>0</td>\n",
       "    </tr>\n",
       "    <tr>\n",
       "      <th>4</th>\n",
       "      <td>0</td>\n",
       "      <td>0</td>\n",
       "      <td>1</td>\n",
       "      <td>11.46350</td>\n",
       "      <td>43.6957</td>\n",
       "      <td>12.522300</td>\n",
       "      <td>1600</td>\n",
       "      <td>1</td>\n",
       "      <td>0</td>\n",
       "      <td>0</td>\n",
       "      <td>...</td>\n",
       "      <td>0</td>\n",
       "      <td>0</td>\n",
       "      <td>0</td>\n",
       "      <td>0</td>\n",
       "      <td>0</td>\n",
       "      <td>0</td>\n",
       "      <td>0</td>\n",
       "      <td>0</td>\n",
       "      <td>0</td>\n",
       "      <td>0</td>\n",
       "    </tr>\n",
       "  </tbody>\n",
       "</table>\n",
       "<p>5 rows × 29 columns</p>\n",
       "</div>"
      ],
      "text/plain": [
       "   yr  holiday  workingday     atemp      hum  windspeed   cnt  season_spring  \\\n",
       "0   0        0           1  18.18125  80.5833  10.749882   985              1   \n",
       "1   0        0           1  17.68695  69.6087  16.652113   801              1   \n",
       "2   0        0           1   9.47025  43.7273  16.636703  1349              1   \n",
       "3   0        0           1  10.60610  59.0435  10.739832  1562              1   \n",
       "4   0        0           1  11.46350  43.6957  12.522300  1600              1   \n",
       "\n",
       "   season_summer  season_winter  ...  mnth_Oct  mnth_Sept  weekday_Monday  \\\n",
       "0              0              0  ...         0          0               1   \n",
       "1              0              0  ...         0          0               0   \n",
       "2              0              0  ...         0          0               0   \n",
       "3              0              0  ...         0          0               0   \n",
       "4              0              0  ...         0          0               0   \n",
       "\n",
       "   weekday_Saturday  weekday_Sunday  weekday_Thursday  weekday_Tuesday  \\\n",
       "0                 0               0                 0                0   \n",
       "1                 0               0                 0                1   \n",
       "2                 0               0                 0                0   \n",
       "3                 0               0                 1                0   \n",
       "4                 0               0                 0                0   \n",
       "\n",
       "   weekday_Wednesday  weathersit_LightSnow_LightRain+Thunderstorm  \\\n",
       "0                  0                                            0   \n",
       "1                  0                                            0   \n",
       "2                  1                                            0   \n",
       "3                  0                                            0   \n",
       "4                  0                                            0   \n",
       "\n",
       "   weathersit_Mist+Cloudy  \n",
       "0                       1  \n",
       "1                       1  \n",
       "2                       0  \n",
       "3                       0  \n",
       "4                       0  \n",
       "\n",
       "[5 rows x 29 columns]"
      ]
     },
     "execution_count": 23,
     "metadata": {},
     "output_type": "execute_result"
    }
   ],
   "source": [
    "bike_new = pd.get_dummies(bike_new, drop_first=True)\n",
    "\n",
    "bike_new.head() "
   ]
  },
  {
   "cell_type": "code",
   "execution_count": 24,
   "metadata": {
    "scrolled": false
   },
   "outputs": [
    {
     "name": "stdout",
     "output_type": "stream",
     "text": [
      "<class 'pandas.core.frame.DataFrame'>\n",
      "RangeIndex: 730 entries, 0 to 729\n",
      "Data columns (total 29 columns):\n",
      " #   Column                                       Non-Null Count  Dtype  \n",
      "---  ------                                       --------------  -----  \n",
      " 0   yr                                           730 non-null    int64  \n",
      " 1   holiday                                      730 non-null    int64  \n",
      " 2   workingday                                   730 non-null    int64  \n",
      " 3   atemp                                        730 non-null    float64\n",
      " 4   hum                                          730 non-null    float64\n",
      " 5   windspeed                                    730 non-null    float64\n",
      " 6   cnt                                          730 non-null    int64  \n",
      " 7   season_spring                                730 non-null    uint8  \n",
      " 8   season_summer                                730 non-null    uint8  \n",
      " 9   season_winter                                730 non-null    uint8  \n",
      " 10  mnth_Aug                                     730 non-null    uint8  \n",
      " 11  mnth_Dec                                     730 non-null    uint8  \n",
      " 12  mnth_Feb                                     730 non-null    uint8  \n",
      " 13  mnth_Jan                                     730 non-null    uint8  \n",
      " 14  mnth_July                                    730 non-null    uint8  \n",
      " 15  mnth_June                                    730 non-null    uint8  \n",
      " 16  mnth_Mar                                     730 non-null    uint8  \n",
      " 17  mnth_May                                     730 non-null    uint8  \n",
      " 18  mnth_Nov                                     730 non-null    uint8  \n",
      " 19  mnth_Oct                                     730 non-null    uint8  \n",
      " 20  mnth_Sept                                    730 non-null    uint8  \n",
      " 21  weekday_Monday                               730 non-null    uint8  \n",
      " 22  weekday_Saturday                             730 non-null    uint8  \n",
      " 23  weekday_Sunday                               730 non-null    uint8  \n",
      " 24  weekday_Thursday                             730 non-null    uint8  \n",
      " 25  weekday_Tuesday                              730 non-null    uint8  \n",
      " 26  weekday_Wednesday                            730 non-null    uint8  \n",
      " 27  weathersit_LightSnow_LightRain+Thunderstorm  730 non-null    uint8  \n",
      " 28  weathersit_Mist+Cloudy                       730 non-null    uint8  \n",
      "dtypes: float64(3), int64(4), uint8(22)\n",
      "memory usage: 55.7 KB\n"
     ]
    }
   ],
   "source": [
    "bike_new.info()     ## Checking info for better understanding"
   ]
  },
  {
   "cell_type": "markdown",
   "metadata": {},
   "source": [
    "# 5. Splitting the Data into Training and Testing Sets"
   ]
  },
  {
   "cell_type": "code",
   "execution_count": 25,
   "metadata": {},
   "outputs": [],
   "source": [
    "# Importing required library for splitting the dataframe\n",
    "from sklearn.model_selection import train_test_split\n",
    "\n",
    "# We specify 'random_state' so that the train and test data set always have the same rows, respectively\n",
    "\n",
    "np.random.seed(0)\n",
    "bike_train, bike_test = train_test_split(bike_new, train_size = 0.7, test_size = 0.3, random_state = 100)\n"
   ]
  },
  {
   "cell_type": "code",
   "execution_count": 26,
   "metadata": {},
   "outputs": [
    {
     "data": {
      "text/html": [
       "<div>\n",
       "<style scoped>\n",
       "    .dataframe tbody tr th:only-of-type {\n",
       "        vertical-align: middle;\n",
       "    }\n",
       "\n",
       "    .dataframe tbody tr th {\n",
       "        vertical-align: top;\n",
       "    }\n",
       "\n",
       "    .dataframe thead th {\n",
       "        text-align: right;\n",
       "    }\n",
       "</style>\n",
       "<table border=\"1\" class=\"dataframe\">\n",
       "  <thead>\n",
       "    <tr style=\"text-align: right;\">\n",
       "      <th></th>\n",
       "      <th>yr</th>\n",
       "      <th>holiday</th>\n",
       "      <th>workingday</th>\n",
       "      <th>atemp</th>\n",
       "      <th>hum</th>\n",
       "      <th>windspeed</th>\n",
       "      <th>cnt</th>\n",
       "      <th>season_spring</th>\n",
       "      <th>season_summer</th>\n",
       "      <th>season_winter</th>\n",
       "      <th>...</th>\n",
       "      <th>mnth_Oct</th>\n",
       "      <th>mnth_Sept</th>\n",
       "      <th>weekday_Monday</th>\n",
       "      <th>weekday_Saturday</th>\n",
       "      <th>weekday_Sunday</th>\n",
       "      <th>weekday_Thursday</th>\n",
       "      <th>weekday_Tuesday</th>\n",
       "      <th>weekday_Wednesday</th>\n",
       "      <th>weathersit_LightSnow_LightRain+Thunderstorm</th>\n",
       "      <th>weathersit_Mist+Cloudy</th>\n",
       "    </tr>\n",
       "  </thead>\n",
       "  <tbody>\n",
       "    <tr>\n",
       "      <th>653</th>\n",
       "      <td>1</td>\n",
       "      <td>0</td>\n",
       "      <td>1</td>\n",
       "      <td>23.0423</td>\n",
       "      <td>55.8333</td>\n",
       "      <td>12.208807</td>\n",
       "      <td>7534</td>\n",
       "      <td>0</td>\n",
       "      <td>0</td>\n",
       "      <td>1</td>\n",
       "      <td>...</td>\n",
       "      <td>1</td>\n",
       "      <td>0</td>\n",
       "      <td>0</td>\n",
       "      <td>0</td>\n",
       "      <td>0</td>\n",
       "      <td>0</td>\n",
       "      <td>0</td>\n",
       "      <td>1</td>\n",
       "      <td>0</td>\n",
       "      <td>0</td>\n",
       "    </tr>\n",
       "    <tr>\n",
       "      <th>576</th>\n",
       "      <td>1</td>\n",
       "      <td>0</td>\n",
       "      <td>1</td>\n",
       "      <td>33.1448</td>\n",
       "      <td>70.4167</td>\n",
       "      <td>11.083475</td>\n",
       "      <td>7216</td>\n",
       "      <td>0</td>\n",
       "      <td>0</td>\n",
       "      <td>0</td>\n",
       "      <td>...</td>\n",
       "      <td>0</td>\n",
       "      <td>0</td>\n",
       "      <td>0</td>\n",
       "      <td>0</td>\n",
       "      <td>0</td>\n",
       "      <td>0</td>\n",
       "      <td>0</td>\n",
       "      <td>1</td>\n",
       "      <td>0</td>\n",
       "      <td>0</td>\n",
       "    </tr>\n",
       "    <tr>\n",
       "      <th>426</th>\n",
       "      <td>1</td>\n",
       "      <td>0</td>\n",
       "      <td>0</td>\n",
       "      <td>20.6746</td>\n",
       "      <td>62.1250</td>\n",
       "      <td>10.792293</td>\n",
       "      <td>4066</td>\n",
       "      <td>1</td>\n",
       "      <td>0</td>\n",
       "      <td>0</td>\n",
       "      <td>...</td>\n",
       "      <td>0</td>\n",
       "      <td>0</td>\n",
       "      <td>0</td>\n",
       "      <td>0</td>\n",
       "      <td>1</td>\n",
       "      <td>0</td>\n",
       "      <td>0</td>\n",
       "      <td>0</td>\n",
       "      <td>0</td>\n",
       "      <td>1</td>\n",
       "    </tr>\n",
       "    <tr>\n",
       "      <th>728</th>\n",
       "      <td>1</td>\n",
       "      <td>0</td>\n",
       "      <td>1</td>\n",
       "      <td>11.5850</td>\n",
       "      <td>48.3333</td>\n",
       "      <td>23.500518</td>\n",
       "      <td>1796</td>\n",
       "      <td>1</td>\n",
       "      <td>0</td>\n",
       "      <td>0</td>\n",
       "      <td>...</td>\n",
       "      <td>0</td>\n",
       "      <td>0</td>\n",
       "      <td>1</td>\n",
       "      <td>0</td>\n",
       "      <td>0</td>\n",
       "      <td>0</td>\n",
       "      <td>0</td>\n",
       "      <td>0</td>\n",
       "      <td>0</td>\n",
       "      <td>0</td>\n",
       "    </tr>\n",
       "    <tr>\n",
       "      <th>482</th>\n",
       "      <td>1</td>\n",
       "      <td>0</td>\n",
       "      <td>0</td>\n",
       "      <td>18.8752</td>\n",
       "      <td>48.9583</td>\n",
       "      <td>8.708325</td>\n",
       "      <td>4220</td>\n",
       "      <td>0</td>\n",
       "      <td>1</td>\n",
       "      <td>0</td>\n",
       "      <td>...</td>\n",
       "      <td>0</td>\n",
       "      <td>0</td>\n",
       "      <td>0</td>\n",
       "      <td>0</td>\n",
       "      <td>1</td>\n",
       "      <td>0</td>\n",
       "      <td>0</td>\n",
       "      <td>0</td>\n",
       "      <td>0</td>\n",
       "      <td>1</td>\n",
       "    </tr>\n",
       "  </tbody>\n",
       "</table>\n",
       "<p>5 rows × 29 columns</p>\n",
       "</div>"
      ],
      "text/plain": [
       "     yr  holiday  workingday    atemp      hum  windspeed   cnt  \\\n",
       "653   1        0           1  23.0423  55.8333  12.208807  7534   \n",
       "576   1        0           1  33.1448  70.4167  11.083475  7216   \n",
       "426   1        0           0  20.6746  62.1250  10.792293  4066   \n",
       "728   1        0           1  11.5850  48.3333  23.500518  1796   \n",
       "482   1        0           0  18.8752  48.9583   8.708325  4220   \n",
       "\n",
       "     season_spring  season_summer  season_winter  ...  mnth_Oct  mnth_Sept  \\\n",
       "653              0              0              1  ...         1          0   \n",
       "576              0              0              0  ...         0          0   \n",
       "426              1              0              0  ...         0          0   \n",
       "728              1              0              0  ...         0          0   \n",
       "482              0              1              0  ...         0          0   \n",
       "\n",
       "     weekday_Monday  weekday_Saturday  weekday_Sunday  weekday_Thursday  \\\n",
       "653               0                 0               0                 0   \n",
       "576               0                 0               0                 0   \n",
       "426               0                 0               1                 0   \n",
       "728               1                 0               0                 0   \n",
       "482               0                 0               1                 0   \n",
       "\n",
       "     weekday_Tuesday  weekday_Wednesday  \\\n",
       "653                0                  1   \n",
       "576                0                  1   \n",
       "426                0                  0   \n",
       "728                0                  0   \n",
       "482                0                  0   \n",
       "\n",
       "     weathersit_LightSnow_LightRain+Thunderstorm  weathersit_Mist+Cloudy  \n",
       "653                                            0                       0  \n",
       "576                                            0                       0  \n",
       "426                                            0                       1  \n",
       "728                                            0                       0  \n",
       "482                                            0                       1  \n",
       "\n",
       "[5 rows x 29 columns]"
      ]
     },
     "execution_count": 26,
     "metadata": {},
     "output_type": "execute_result"
    }
   ],
   "source": [
    "# Checking the train dataset\n",
    "bike_train.head()"
   ]
  },
  {
   "cell_type": "code",
   "execution_count": 27,
   "metadata": {},
   "outputs": [
    {
     "data": {
      "text/plain": [
       "(510, 29)"
      ]
     },
     "execution_count": 27,
     "metadata": {},
     "output_type": "execute_result"
    }
   ],
   "source": [
    "#Checking the shape of train dataset\n",
    "bike_train.shape"
   ]
  },
  {
   "cell_type": "code",
   "execution_count": 28,
   "metadata": {},
   "outputs": [
    {
     "data": {
      "text/html": [
       "<div>\n",
       "<style scoped>\n",
       "    .dataframe tbody tr th:only-of-type {\n",
       "        vertical-align: middle;\n",
       "    }\n",
       "\n",
       "    .dataframe tbody tr th {\n",
       "        vertical-align: top;\n",
       "    }\n",
       "\n",
       "    .dataframe thead th {\n",
       "        text-align: right;\n",
       "    }\n",
       "</style>\n",
       "<table border=\"1\" class=\"dataframe\">\n",
       "  <thead>\n",
       "    <tr style=\"text-align: right;\">\n",
       "      <th></th>\n",
       "      <th>yr</th>\n",
       "      <th>holiday</th>\n",
       "      <th>workingday</th>\n",
       "      <th>atemp</th>\n",
       "      <th>hum</th>\n",
       "      <th>windspeed</th>\n",
       "      <th>cnt</th>\n",
       "      <th>season_spring</th>\n",
       "      <th>season_summer</th>\n",
       "      <th>season_winter</th>\n",
       "      <th>...</th>\n",
       "      <th>mnth_Oct</th>\n",
       "      <th>mnth_Sept</th>\n",
       "      <th>weekday_Monday</th>\n",
       "      <th>weekday_Saturday</th>\n",
       "      <th>weekday_Sunday</th>\n",
       "      <th>weekday_Thursday</th>\n",
       "      <th>weekday_Tuesday</th>\n",
       "      <th>weekday_Wednesday</th>\n",
       "      <th>weathersit_LightSnow_LightRain+Thunderstorm</th>\n",
       "      <th>weathersit_Mist+Cloudy</th>\n",
       "    </tr>\n",
       "  </thead>\n",
       "  <tbody>\n",
       "    <tr>\n",
       "      <th>184</th>\n",
       "      <td>0</td>\n",
       "      <td>1</td>\n",
       "      <td>0</td>\n",
       "      <td>33.27085</td>\n",
       "      <td>63.7917</td>\n",
       "      <td>5.459106</td>\n",
       "      <td>6043</td>\n",
       "      <td>0</td>\n",
       "      <td>0</td>\n",
       "      <td>0</td>\n",
       "      <td>...</td>\n",
       "      <td>0</td>\n",
       "      <td>0</td>\n",
       "      <td>0</td>\n",
       "      <td>0</td>\n",
       "      <td>0</td>\n",
       "      <td>0</td>\n",
       "      <td>0</td>\n",
       "      <td>1</td>\n",
       "      <td>0</td>\n",
       "      <td>1</td>\n",
       "    </tr>\n",
       "    <tr>\n",
       "      <th>535</th>\n",
       "      <td>1</td>\n",
       "      <td>0</td>\n",
       "      <td>1</td>\n",
       "      <td>36.04875</td>\n",
       "      <td>59.2083</td>\n",
       "      <td>7.625404</td>\n",
       "      <td>6211</td>\n",
       "      <td>0</td>\n",
       "      <td>1</td>\n",
       "      <td>0</td>\n",
       "      <td>...</td>\n",
       "      <td>0</td>\n",
       "      <td>0</td>\n",
       "      <td>0</td>\n",
       "      <td>0</td>\n",
       "      <td>0</td>\n",
       "      <td>1</td>\n",
       "      <td>0</td>\n",
       "      <td>0</td>\n",
       "      <td>0</td>\n",
       "      <td>0</td>\n",
       "    </tr>\n",
       "    <tr>\n",
       "      <th>299</th>\n",
       "      <td>0</td>\n",
       "      <td>0</td>\n",
       "      <td>0</td>\n",
       "      <td>22.85230</td>\n",
       "      <td>81.2917</td>\n",
       "      <td>13.250121</td>\n",
       "      <td>2659</td>\n",
       "      <td>0</td>\n",
       "      <td>0</td>\n",
       "      <td>1</td>\n",
       "      <td>...</td>\n",
       "      <td>1</td>\n",
       "      <td>0</td>\n",
       "      <td>0</td>\n",
       "      <td>1</td>\n",
       "      <td>0</td>\n",
       "      <td>0</td>\n",
       "      <td>0</td>\n",
       "      <td>0</td>\n",
       "      <td>0</td>\n",
       "      <td>1</td>\n",
       "    </tr>\n",
       "    <tr>\n",
       "      <th>221</th>\n",
       "      <td>0</td>\n",
       "      <td>0</td>\n",
       "      <td>1</td>\n",
       "      <td>34.24915</td>\n",
       "      <td>42.4167</td>\n",
       "      <td>13.417286</td>\n",
       "      <td>4780</td>\n",
       "      <td>0</td>\n",
       "      <td>0</td>\n",
       "      <td>0</td>\n",
       "      <td>...</td>\n",
       "      <td>0</td>\n",
       "      <td>0</td>\n",
       "      <td>0</td>\n",
       "      <td>0</td>\n",
       "      <td>0</td>\n",
       "      <td>0</td>\n",
       "      <td>0</td>\n",
       "      <td>0</td>\n",
       "      <td>0</td>\n",
       "      <td>0</td>\n",
       "    </tr>\n",
       "    <tr>\n",
       "      <th>152</th>\n",
       "      <td>0</td>\n",
       "      <td>0</td>\n",
       "      <td>0</td>\n",
       "      <td>32.19710</td>\n",
       "      <td>30.5000</td>\n",
       "      <td>19.583229</td>\n",
       "      <td>4968</td>\n",
       "      <td>0</td>\n",
       "      <td>1</td>\n",
       "      <td>0</td>\n",
       "      <td>...</td>\n",
       "      <td>0</td>\n",
       "      <td>0</td>\n",
       "      <td>0</td>\n",
       "      <td>1</td>\n",
       "      <td>0</td>\n",
       "      <td>0</td>\n",
       "      <td>0</td>\n",
       "      <td>0</td>\n",
       "      <td>0</td>\n",
       "      <td>0</td>\n",
       "    </tr>\n",
       "  </tbody>\n",
       "</table>\n",
       "<p>5 rows × 29 columns</p>\n",
       "</div>"
      ],
      "text/plain": [
       "     yr  holiday  workingday     atemp      hum  windspeed   cnt  \\\n",
       "184   0        1           0  33.27085  63.7917   5.459106  6043   \n",
       "535   1        0           1  36.04875  59.2083   7.625404  6211   \n",
       "299   0        0           0  22.85230  81.2917  13.250121  2659   \n",
       "221   0        0           1  34.24915  42.4167  13.417286  4780   \n",
       "152   0        0           0  32.19710  30.5000  19.583229  4968   \n",
       "\n",
       "     season_spring  season_summer  season_winter  ...  mnth_Oct  mnth_Sept  \\\n",
       "184              0              0              0  ...         0          0   \n",
       "535              0              1              0  ...         0          0   \n",
       "299              0              0              1  ...         1          0   \n",
       "221              0              0              0  ...         0          0   \n",
       "152              0              1              0  ...         0          0   \n",
       "\n",
       "     weekday_Monday  weekday_Saturday  weekday_Sunday  weekday_Thursday  \\\n",
       "184               0                 0               0                 0   \n",
       "535               0                 0               0                 1   \n",
       "299               0                 1               0                 0   \n",
       "221               0                 0               0                 0   \n",
       "152               0                 1               0                 0   \n",
       "\n",
       "     weekday_Tuesday  weekday_Wednesday  \\\n",
       "184                0                  1   \n",
       "535                0                  0   \n",
       "299                0                  0   \n",
       "221                0                  0   \n",
       "152                0                  0   \n",
       "\n",
       "     weathersit_LightSnow_LightRain+Thunderstorm  weathersit_Mist+Cloudy  \n",
       "184                                            0                       1  \n",
       "535                                            0                       0  \n",
       "299                                            0                       1  \n",
       "221                                            0                       0  \n",
       "152                                            0                       0  \n",
       "\n",
       "[5 rows x 29 columns]"
      ]
     },
     "execution_count": 28,
     "metadata": {},
     "output_type": "execute_result"
    }
   ],
   "source": [
    "# Checking the test dataset\n",
    "bike_test.head()"
   ]
  },
  {
   "cell_type": "code",
   "execution_count": 29,
   "metadata": {},
   "outputs": [
    {
     "data": {
      "text/plain": [
       "(219, 29)"
      ]
     },
     "execution_count": 29,
     "metadata": {},
     "output_type": "execute_result"
    }
   ],
   "source": [
    "#Checking the shape of the test dataset\n",
    "bike_test.shape"
   ]
  },
  {
   "cell_type": "markdown",
   "metadata": {},
   "source": [
    "# 6. Rescaling the features\n",
    "**We'll use MinMax scaling**"
   ]
  },
  {
   "cell_type": "code",
   "execution_count": 30,
   "metadata": {},
   "outputs": [],
   "source": [
    "from sklearn.preprocessing import MinMaxScaler   #importing required library\n",
    "\n",
    "scaler = MinMaxScaler()"
   ]
  },
  {
   "cell_type": "code",
   "execution_count": 31,
   "metadata": {},
   "outputs": [
    {
     "data": {
      "text/html": [
       "<div>\n",
       "<style scoped>\n",
       "    .dataframe tbody tr th:only-of-type {\n",
       "        vertical-align: middle;\n",
       "    }\n",
       "\n",
       "    .dataframe tbody tr th {\n",
       "        vertical-align: top;\n",
       "    }\n",
       "\n",
       "    .dataframe thead th {\n",
       "        text-align: right;\n",
       "    }\n",
       "</style>\n",
       "<table border=\"1\" class=\"dataframe\">\n",
       "  <thead>\n",
       "    <tr style=\"text-align: right;\">\n",
       "      <th></th>\n",
       "      <th>yr</th>\n",
       "      <th>holiday</th>\n",
       "      <th>workingday</th>\n",
       "      <th>atemp</th>\n",
       "      <th>hum</th>\n",
       "      <th>windspeed</th>\n",
       "      <th>cnt</th>\n",
       "      <th>season_spring</th>\n",
       "      <th>season_summer</th>\n",
       "      <th>season_winter</th>\n",
       "      <th>...</th>\n",
       "      <th>mnth_Oct</th>\n",
       "      <th>mnth_Sept</th>\n",
       "      <th>weekday_Monday</th>\n",
       "      <th>weekday_Saturday</th>\n",
       "      <th>weekday_Sunday</th>\n",
       "      <th>weekday_Thursday</th>\n",
       "      <th>weekday_Tuesday</th>\n",
       "      <th>weekday_Wednesday</th>\n",
       "      <th>weathersit_LightSnow_LightRain+Thunderstorm</th>\n",
       "      <th>weathersit_Mist+Cloudy</th>\n",
       "    </tr>\n",
       "  </thead>\n",
       "  <tbody>\n",
       "    <tr>\n",
       "      <th>653</th>\n",
       "      <td>1</td>\n",
       "      <td>0</td>\n",
       "      <td>1</td>\n",
       "      <td>0.501133</td>\n",
       "      <td>0.575354</td>\n",
       "      <td>0.300794</td>\n",
       "      <td>0.864243</td>\n",
       "      <td>0</td>\n",
       "      <td>0</td>\n",
       "      <td>1</td>\n",
       "      <td>...</td>\n",
       "      <td>1</td>\n",
       "      <td>0</td>\n",
       "      <td>0</td>\n",
       "      <td>0</td>\n",
       "      <td>0</td>\n",
       "      <td>0</td>\n",
       "      <td>0</td>\n",
       "      <td>1</td>\n",
       "      <td>0</td>\n",
       "      <td>0</td>\n",
       "    </tr>\n",
       "    <tr>\n",
       "      <th>576</th>\n",
       "      <td>1</td>\n",
       "      <td>0</td>\n",
       "      <td>1</td>\n",
       "      <td>0.766351</td>\n",
       "      <td>0.725633</td>\n",
       "      <td>0.264686</td>\n",
       "      <td>0.827658</td>\n",
       "      <td>0</td>\n",
       "      <td>0</td>\n",
       "      <td>0</td>\n",
       "      <td>...</td>\n",
       "      <td>0</td>\n",
       "      <td>0</td>\n",
       "      <td>0</td>\n",
       "      <td>0</td>\n",
       "      <td>0</td>\n",
       "      <td>0</td>\n",
       "      <td>0</td>\n",
       "      <td>1</td>\n",
       "      <td>0</td>\n",
       "      <td>0</td>\n",
       "    </tr>\n",
       "    <tr>\n",
       "      <th>426</th>\n",
       "      <td>1</td>\n",
       "      <td>0</td>\n",
       "      <td>0</td>\n",
       "      <td>0.438975</td>\n",
       "      <td>0.640189</td>\n",
       "      <td>0.255342</td>\n",
       "      <td>0.465255</td>\n",
       "      <td>1</td>\n",
       "      <td>0</td>\n",
       "      <td>0</td>\n",
       "      <td>...</td>\n",
       "      <td>0</td>\n",
       "      <td>0</td>\n",
       "      <td>0</td>\n",
       "      <td>0</td>\n",
       "      <td>1</td>\n",
       "      <td>0</td>\n",
       "      <td>0</td>\n",
       "      <td>0</td>\n",
       "      <td>0</td>\n",
       "      <td>1</td>\n",
       "    </tr>\n",
       "    <tr>\n",
       "      <th>728</th>\n",
       "      <td>1</td>\n",
       "      <td>0</td>\n",
       "      <td>1</td>\n",
       "      <td>0.200348</td>\n",
       "      <td>0.498067</td>\n",
       "      <td>0.663106</td>\n",
       "      <td>0.204096</td>\n",
       "      <td>1</td>\n",
       "      <td>0</td>\n",
       "      <td>0</td>\n",
       "      <td>...</td>\n",
       "      <td>0</td>\n",
       "      <td>0</td>\n",
       "      <td>1</td>\n",
       "      <td>0</td>\n",
       "      <td>0</td>\n",
       "      <td>0</td>\n",
       "      <td>0</td>\n",
       "      <td>0</td>\n",
       "      <td>0</td>\n",
       "      <td>0</td>\n",
       "    </tr>\n",
       "    <tr>\n",
       "      <th>482</th>\n",
       "      <td>1</td>\n",
       "      <td>0</td>\n",
       "      <td>0</td>\n",
       "      <td>0.391735</td>\n",
       "      <td>0.504508</td>\n",
       "      <td>0.188475</td>\n",
       "      <td>0.482973</td>\n",
       "      <td>0</td>\n",
       "      <td>1</td>\n",
       "      <td>0</td>\n",
       "      <td>...</td>\n",
       "      <td>0</td>\n",
       "      <td>0</td>\n",
       "      <td>0</td>\n",
       "      <td>0</td>\n",
       "      <td>1</td>\n",
       "      <td>0</td>\n",
       "      <td>0</td>\n",
       "      <td>0</td>\n",
       "      <td>0</td>\n",
       "      <td>1</td>\n",
       "    </tr>\n",
       "  </tbody>\n",
       "</table>\n",
       "<p>5 rows × 29 columns</p>\n",
       "</div>"
      ],
      "text/plain": [
       "     yr  holiday  workingday     atemp       hum  windspeed       cnt  \\\n",
       "653   1        0           1  0.501133  0.575354   0.300794  0.864243   \n",
       "576   1        0           1  0.766351  0.725633   0.264686  0.827658   \n",
       "426   1        0           0  0.438975  0.640189   0.255342  0.465255   \n",
       "728   1        0           1  0.200348  0.498067   0.663106  0.204096   \n",
       "482   1        0           0  0.391735  0.504508   0.188475  0.482973   \n",
       "\n",
       "     season_spring  season_summer  season_winter  ...  mnth_Oct  mnth_Sept  \\\n",
       "653              0              0              1  ...         1          0   \n",
       "576              0              0              0  ...         0          0   \n",
       "426              1              0              0  ...         0          0   \n",
       "728              1              0              0  ...         0          0   \n",
       "482              0              1              0  ...         0          0   \n",
       "\n",
       "     weekday_Monday  weekday_Saturday  weekday_Sunday  weekday_Thursday  \\\n",
       "653               0                 0               0                 0   \n",
       "576               0                 0               0                 0   \n",
       "426               0                 0               1                 0   \n",
       "728               1                 0               0                 0   \n",
       "482               0                 0               1                 0   \n",
       "\n",
       "     weekday_Tuesday  weekday_Wednesday  \\\n",
       "653                0                  1   \n",
       "576                0                  1   \n",
       "426                0                  0   \n",
       "728                0                  0   \n",
       "482                0                  0   \n",
       "\n",
       "     weathersit_LightSnow_LightRain+Thunderstorm  weathersit_Mist+Cloudy  \n",
       "653                                            0                       0  \n",
       "576                                            0                       0  \n",
       "426                                            0                       1  \n",
       "728                                            0                       0  \n",
       "482                                            0                       1  \n",
       "\n",
       "[5 rows x 29 columns]"
      ]
     },
     "execution_count": 31,
     "metadata": {},
     "output_type": "execute_result"
    }
   ],
   "source": [
    "# Apply scaler() to all the columns except the '0/1' and 'dummy' variables\n",
    "num_vars = ['atemp', 'hum', 'windspeed', 'cnt']  #saving required columns in the list \n",
    "\n",
    "bike_train[num_vars] = scaler.fit_transform(bike_train[num_vars])    #fit to data and then transform\n",
    "\n",
    "bike_train.head()"
   ]
  },
  {
   "cell_type": "markdown",
   "metadata": {},
   "source": [
    "# 7. Dividing train set into X and y sets for the model building"
   ]
  },
  {
   "cell_type": "code",
   "execution_count": 32,
   "metadata": {},
   "outputs": [],
   "source": [
    "y_train = bike_train.pop(\"cnt\") \n",
    "X_train = bike_train"
   ]
  },
  {
   "cell_type": "code",
   "execution_count": 33,
   "metadata": {},
   "outputs": [
    {
     "data": {
      "text/html": [
       "<div>\n",
       "<style scoped>\n",
       "    .dataframe tbody tr th:only-of-type {\n",
       "        vertical-align: middle;\n",
       "    }\n",
       "\n",
       "    .dataframe tbody tr th {\n",
       "        vertical-align: top;\n",
       "    }\n",
       "\n",
       "    .dataframe thead th {\n",
       "        text-align: right;\n",
       "    }\n",
       "</style>\n",
       "<table border=\"1\" class=\"dataframe\">\n",
       "  <thead>\n",
       "    <tr style=\"text-align: right;\">\n",
       "      <th></th>\n",
       "      <th>yr</th>\n",
       "      <th>holiday</th>\n",
       "      <th>workingday</th>\n",
       "      <th>atemp</th>\n",
       "      <th>hum</th>\n",
       "      <th>windspeed</th>\n",
       "      <th>season_spring</th>\n",
       "      <th>season_summer</th>\n",
       "      <th>season_winter</th>\n",
       "      <th>mnth_Aug</th>\n",
       "      <th>...</th>\n",
       "      <th>mnth_Oct</th>\n",
       "      <th>mnth_Sept</th>\n",
       "      <th>weekday_Monday</th>\n",
       "      <th>weekday_Saturday</th>\n",
       "      <th>weekday_Sunday</th>\n",
       "      <th>weekday_Thursday</th>\n",
       "      <th>weekday_Tuesday</th>\n",
       "      <th>weekday_Wednesday</th>\n",
       "      <th>weathersit_LightSnow_LightRain+Thunderstorm</th>\n",
       "      <th>weathersit_Mist+Cloudy</th>\n",
       "    </tr>\n",
       "  </thead>\n",
       "  <tbody>\n",
       "    <tr>\n",
       "      <th>653</th>\n",
       "      <td>1</td>\n",
       "      <td>0</td>\n",
       "      <td>1</td>\n",
       "      <td>0.501133</td>\n",
       "      <td>0.575354</td>\n",
       "      <td>0.300794</td>\n",
       "      <td>0</td>\n",
       "      <td>0</td>\n",
       "      <td>1</td>\n",
       "      <td>0</td>\n",
       "      <td>...</td>\n",
       "      <td>1</td>\n",
       "      <td>0</td>\n",
       "      <td>0</td>\n",
       "      <td>0</td>\n",
       "      <td>0</td>\n",
       "      <td>0</td>\n",
       "      <td>0</td>\n",
       "      <td>1</td>\n",
       "      <td>0</td>\n",
       "      <td>0</td>\n",
       "    </tr>\n",
       "    <tr>\n",
       "      <th>576</th>\n",
       "      <td>1</td>\n",
       "      <td>0</td>\n",
       "      <td>1</td>\n",
       "      <td>0.766351</td>\n",
       "      <td>0.725633</td>\n",
       "      <td>0.264686</td>\n",
       "      <td>0</td>\n",
       "      <td>0</td>\n",
       "      <td>0</td>\n",
       "      <td>0</td>\n",
       "      <td>...</td>\n",
       "      <td>0</td>\n",
       "      <td>0</td>\n",
       "      <td>0</td>\n",
       "      <td>0</td>\n",
       "      <td>0</td>\n",
       "      <td>0</td>\n",
       "      <td>0</td>\n",
       "      <td>1</td>\n",
       "      <td>0</td>\n",
       "      <td>0</td>\n",
       "    </tr>\n",
       "    <tr>\n",
       "      <th>426</th>\n",
       "      <td>1</td>\n",
       "      <td>0</td>\n",
       "      <td>0</td>\n",
       "      <td>0.438975</td>\n",
       "      <td>0.640189</td>\n",
       "      <td>0.255342</td>\n",
       "      <td>1</td>\n",
       "      <td>0</td>\n",
       "      <td>0</td>\n",
       "      <td>0</td>\n",
       "      <td>...</td>\n",
       "      <td>0</td>\n",
       "      <td>0</td>\n",
       "      <td>0</td>\n",
       "      <td>0</td>\n",
       "      <td>1</td>\n",
       "      <td>0</td>\n",
       "      <td>0</td>\n",
       "      <td>0</td>\n",
       "      <td>0</td>\n",
       "      <td>1</td>\n",
       "    </tr>\n",
       "    <tr>\n",
       "      <th>728</th>\n",
       "      <td>1</td>\n",
       "      <td>0</td>\n",
       "      <td>1</td>\n",
       "      <td>0.200348</td>\n",
       "      <td>0.498067</td>\n",
       "      <td>0.663106</td>\n",
       "      <td>1</td>\n",
       "      <td>0</td>\n",
       "      <td>0</td>\n",
       "      <td>0</td>\n",
       "      <td>...</td>\n",
       "      <td>0</td>\n",
       "      <td>0</td>\n",
       "      <td>1</td>\n",
       "      <td>0</td>\n",
       "      <td>0</td>\n",
       "      <td>0</td>\n",
       "      <td>0</td>\n",
       "      <td>0</td>\n",
       "      <td>0</td>\n",
       "      <td>0</td>\n",
       "    </tr>\n",
       "    <tr>\n",
       "      <th>482</th>\n",
       "      <td>1</td>\n",
       "      <td>0</td>\n",
       "      <td>0</td>\n",
       "      <td>0.391735</td>\n",
       "      <td>0.504508</td>\n",
       "      <td>0.188475</td>\n",
       "      <td>0</td>\n",
       "      <td>1</td>\n",
       "      <td>0</td>\n",
       "      <td>0</td>\n",
       "      <td>...</td>\n",
       "      <td>0</td>\n",
       "      <td>0</td>\n",
       "      <td>0</td>\n",
       "      <td>0</td>\n",
       "      <td>1</td>\n",
       "      <td>0</td>\n",
       "      <td>0</td>\n",
       "      <td>0</td>\n",
       "      <td>0</td>\n",
       "      <td>1</td>\n",
       "    </tr>\n",
       "  </tbody>\n",
       "</table>\n",
       "<p>5 rows × 28 columns</p>\n",
       "</div>"
      ],
      "text/plain": [
       "     yr  holiday  workingday     atemp       hum  windspeed  season_spring  \\\n",
       "653   1        0           1  0.501133  0.575354   0.300794              0   \n",
       "576   1        0           1  0.766351  0.725633   0.264686              0   \n",
       "426   1        0           0  0.438975  0.640189   0.255342              1   \n",
       "728   1        0           1  0.200348  0.498067   0.663106              1   \n",
       "482   1        0           0  0.391735  0.504508   0.188475              0   \n",
       "\n",
       "     season_summer  season_winter  mnth_Aug  ...  mnth_Oct  mnth_Sept  \\\n",
       "653              0              1         0  ...         1          0   \n",
       "576              0              0         0  ...         0          0   \n",
       "426              0              0         0  ...         0          0   \n",
       "728              0              0         0  ...         0          0   \n",
       "482              1              0         0  ...         0          0   \n",
       "\n",
       "     weekday_Monday  weekday_Saturday  weekday_Sunday  weekday_Thursday  \\\n",
       "653               0                 0               0                 0   \n",
       "576               0                 0               0                 0   \n",
       "426               0                 0               1                 0   \n",
       "728               1                 0               0                 0   \n",
       "482               0                 0               1                 0   \n",
       "\n",
       "     weekday_Tuesday  weekday_Wednesday  \\\n",
       "653                0                  1   \n",
       "576                0                  1   \n",
       "426                0                  0   \n",
       "728                0                  0   \n",
       "482                0                  0   \n",
       "\n",
       "     weathersit_LightSnow_LightRain+Thunderstorm  weathersit_Mist+Cloudy  \n",
       "653                                            0                       0  \n",
       "576                                            0                       0  \n",
       "426                                            0                       1  \n",
       "728                                            0                       0  \n",
       "482                                            0                       1  \n",
       "\n",
       "[5 rows x 28 columns]"
      ]
     },
     "execution_count": 33,
     "metadata": {},
     "output_type": "execute_result"
    }
   ],
   "source": [
    "#Checking the X_train dataset\n",
    "X_train.head()\n"
   ]
  },
  {
   "cell_type": "code",
   "execution_count": 34,
   "metadata": {
    "scrolled": true
   },
   "outputs": [
    {
     "data": {
      "text/plain": [
       "653    0.864243\n",
       "576    0.827658\n",
       "426    0.465255\n",
       "728    0.204096\n",
       "482    0.482973\n",
       "Name: cnt, dtype: float64"
      ]
     },
     "execution_count": 34,
     "metadata": {},
     "output_type": "execute_result"
    }
   ],
   "source": [
    "#Checking y_train dataset\n",
    "y_train.head()"
   ]
  },
  {
   "cell_type": "markdown",
   "metadata": {},
   "source": [
    "# 8. Building the model"
   ]
  },
  {
   "cell_type": "markdown",
   "metadata": {},
   "source": [
    "## 8.1 Using `RFE approach` for the feature selection \n",
    "**Recursive feature elimination:** We will be using the LinearRegression function from SciKit Learn for its compatibility with RFE (which is a utility from sklearn)"
   ]
  },
  {
   "cell_type": "code",
   "execution_count": 35,
   "metadata": {},
   "outputs": [],
   "source": [
    "#importing required libraries \n",
    "from sklearn.feature_selection import RFE\n"
   ]
  },
  {
   "cell_type": "code",
   "execution_count": 36,
   "metadata": {},
   "outputs": [],
   "source": [
    "#Running RFE with the output number of the variable equal to 15\n",
    "lr = LinearRegression()\n",
    "lr.fit(X_train , y_train)\n",
    "\n",
    "rfe = RFE(lr , 15)   #Running RFE\n",
    "rfe = rfe.fit(X_train , y_train)"
   ]
  },
  {
   "cell_type": "code",
   "execution_count": 37,
   "metadata": {},
   "outputs": [
    {
     "data": {
      "text/plain": [
       "[('yr', True, 1),\n",
       " ('holiday', True, 1),\n",
       " ('workingday', False, 2),\n",
       " ('atemp', True, 1),\n",
       " ('hum', True, 1),\n",
       " ('windspeed', True, 1),\n",
       " ('season_spring', False, 5),\n",
       " ('season_summer', True, 1),\n",
       " ('season_winter', True, 1),\n",
       " ('mnth_Aug', True, 1),\n",
       " ('mnth_Dec', True, 1),\n",
       " ('mnth_Feb', True, 1),\n",
       " ('mnth_Jan', True, 1),\n",
       " ('mnth_July', False, 10),\n",
       " ('mnth_June', False, 7),\n",
       " ('mnth_Mar', False, 14),\n",
       " ('mnth_May', False, 6),\n",
       " ('mnth_Nov', True, 1),\n",
       " ('mnth_Oct', False, 12),\n",
       " ('mnth_Sept', True, 1),\n",
       " ('weekday_Monday', False, 9),\n",
       " ('weekday_Saturday', False, 3),\n",
       " ('weekday_Sunday', False, 4),\n",
       " ('weekday_Thursday', False, 13),\n",
       " ('weekday_Tuesday', False, 8),\n",
       " ('weekday_Wednesday', False, 11),\n",
       " ('weathersit_LightSnow_LightRain+Thunderstorm', True, 1),\n",
       " ('weathersit_Mist+Cloudy', True, 1)]"
      ]
     },
     "execution_count": 37,
     "metadata": {},
     "output_type": "execute_result"
    }
   ],
   "source": [
    "list(zip(X_train.columns , rfe.support_ , rfe.ranking_ ))"
   ]
  },
  {
   "cell_type": "code",
   "execution_count": 38,
   "metadata": {},
   "outputs": [
    {
     "data": {
      "text/plain": [
       "Index(['yr', 'holiday', 'atemp', 'hum', 'windspeed', 'season_summer',\n",
       "       'season_winter', 'mnth_Aug', 'mnth_Dec', 'mnth_Feb', 'mnth_Jan',\n",
       "       'mnth_Nov', 'mnth_Sept', 'weathersit_LightSnow_LightRain+Thunderstorm',\n",
       "       'weathersit_Mist+Cloudy'],\n",
       "      dtype='object')"
      ]
     },
     "execution_count": 38,
     "metadata": {},
     "output_type": "execute_result"
    }
   ],
   "source": [
    "# Creating a list for RFE selected columns\n",
    "col = X_train.columns[rfe.support_]\n",
    "col"
   ]
  },
  {
   "cell_type": "code",
   "execution_count": 39,
   "metadata": {},
   "outputs": [
    {
     "data": {
      "text/plain": [
       "Index(['workingday', 'season_spring', 'mnth_July', 'mnth_June', 'mnth_Mar',\n",
       "       'mnth_May', 'mnth_Oct', 'weekday_Monday', 'weekday_Saturday',\n",
       "       'weekday_Sunday', 'weekday_Thursday', 'weekday_Tuesday',\n",
       "       'weekday_Wednesday'],\n",
       "      dtype='object')"
      ]
     },
     "execution_count": 39,
     "metadata": {},
     "output_type": "execute_result"
    }
   ],
   "source": [
    "#Columns not selected by RFE\n",
    "X_train.columns[~rfe.support_]"
   ]
  },
  {
   "cell_type": "markdown",
   "metadata": {},
   "source": [
    "## 8.2 Building model using statsmodel, for the detailed statistics"
   ]
  },
  {
   "cell_type": "code",
   "execution_count": 40,
   "metadata": {},
   "outputs": [],
   "source": [
    "#Creating X_test dataframe with RFE selected variables\n",
    "\n",
    "X_train_rfe = X_train[col]"
   ]
  },
  {
   "cell_type": "markdown",
   "metadata": {},
   "source": [
    "## Model 1"
   ]
  },
  {
   "cell_type": "code",
   "execution_count": 41,
   "metadata": {},
   "outputs": [
    {
     "name": "stdout",
     "output_type": "stream",
     "text": [
      "                            OLS Regression Results                            \n",
      "==============================================================================\n",
      "Dep. Variable:                    cnt   R-squared:                       0.842\n",
      "Model:                            OLS   Adj. R-squared:                  0.837\n",
      "Method:                 Least Squares   F-statistic:                     175.1\n",
      "Date:                Mon, 05 Apr 2021   Prob (F-statistic):          1.26e-186\n",
      "Time:                        20:21:37   Log-Likelihood:                 508.57\n",
      "No. Observations:                 510   AIC:                            -985.1\n",
      "Df Residuals:                     494   BIC:                            -917.4\n",
      "Df Model:                          15                                         \n",
      "Covariance Type:            nonrobust                                         \n",
      "===============================================================================================================\n",
      "                                                  coef    std err          t      P>|t|      [0.025      0.975]\n",
      "---------------------------------------------------------------------------------------------------------------\n",
      "const                                           0.2936      0.032      9.289      0.000       0.232       0.356\n",
      "yr                                              0.2311      0.008     28.328      0.000       0.215       0.247\n",
      "holiday                                        -0.0838      0.026     -3.233      0.001      -0.135      -0.033\n",
      "atemp                                           0.4765      0.032     14.938      0.000       0.414       0.539\n",
      "hum                                            -0.1627      0.038     -4.277      0.000      -0.237      -0.088\n",
      "windspeed                                      -0.1769      0.026     -6.784      0.000      -0.228      -0.126\n",
      "season_summer                                   0.0779      0.013      6.180      0.000       0.053       0.103\n",
      "season_winter                                   0.1358      0.014      9.541      0.000       0.108       0.164\n",
      "mnth_Aug                                        0.0606      0.016      3.696      0.000       0.028       0.093\n",
      "mnth_Dec                                       -0.0505      0.018     -2.732      0.007      -0.087      -0.014\n",
      "mnth_Feb                                       -0.0504      0.021     -2.384      0.017      -0.092      -0.009\n",
      "mnth_Jan                                       -0.0769      0.021     -3.617      0.000      -0.119      -0.035\n",
      "mnth_Nov                                       -0.0440      0.019     -2.316      0.021      -0.081      -0.007\n",
      "mnth_Sept                                       0.1116      0.017      6.688      0.000       0.079       0.144\n",
      "weathersit_LightSnow_LightRain+Thunderstorm    -0.2420      0.027     -9.070      0.000      -0.294      -0.190\n",
      "weathersit_Mist+Cloudy                         -0.0569      0.011     -5.377      0.000      -0.078      -0.036\n",
      "==============================================================================\n",
      "Omnibus:                       67.622   Durbin-Watson:                   2.017\n",
      "Prob(Omnibus):                  0.000   Jarque-Bera (JB):              171.611\n",
      "Skew:                          -0.675   Prob(JB):                     5.43e-38\n",
      "Kurtosis:                       5.501   Cond. No.                         18.7\n",
      "==============================================================================\n",
      "\n",
      "Notes:\n",
      "[1] Standard Errors assume that the covariance matrix of the errors is correctly specified.\n"
     ]
    }
   ],
   "source": [
    "#Adding a constant variable\n",
    "X_train_rfe1 = sm.add_constant(X_train_rfe)\n",
    "\n",
    "#Running the linear model\n",
    "lr1 = sm.OLS(y_train , X_train_rfe1).fit()\n",
    "\n",
    "# Print a summary of the linear regression model obtained\n",
    "print(lr1.summary())"
   ]
  },
  {
   "cell_type": "markdown",
   "metadata": {},
   "source": [
    "- **Checking VIF for the new model**"
   ]
  },
  {
   "cell_type": "code",
   "execution_count": 42,
   "metadata": {},
   "outputs": [
    {
     "data": {
      "text/html": [
       "<div>\n",
       "<style scoped>\n",
       "    .dataframe tbody tr th:only-of-type {\n",
       "        vertical-align: middle;\n",
       "    }\n",
       "\n",
       "    .dataframe tbody tr th {\n",
       "        vertical-align: top;\n",
       "    }\n",
       "\n",
       "    .dataframe thead th {\n",
       "        text-align: right;\n",
       "    }\n",
       "</style>\n",
       "<table border=\"1\" class=\"dataframe\">\n",
       "  <thead>\n",
       "    <tr style=\"text-align: right;\">\n",
       "      <th></th>\n",
       "      <th>Features</th>\n",
       "      <th>VIF</th>\n",
       "    </tr>\n",
       "  </thead>\n",
       "  <tbody>\n",
       "    <tr>\n",
       "      <th>3</th>\n",
       "      <td>hum</td>\n",
       "      <td>25.11</td>\n",
       "    </tr>\n",
       "    <tr>\n",
       "      <th>2</th>\n",
       "      <td>atemp</td>\n",
       "      <td>14.42</td>\n",
       "    </tr>\n",
       "    <tr>\n",
       "      <th>4</th>\n",
       "      <td>windspeed</td>\n",
       "      <td>3.89</td>\n",
       "    </tr>\n",
       "    <tr>\n",
       "      <th>6</th>\n",
       "      <td>season_winter</td>\n",
       "      <td>3.04</td>\n",
       "    </tr>\n",
       "    <tr>\n",
       "      <th>5</th>\n",
       "      <td>season_summer</td>\n",
       "      <td>2.28</td>\n",
       "    </tr>\n",
       "    <tr>\n",
       "      <th>14</th>\n",
       "      <td>weathersit_Mist+Cloudy</td>\n",
       "      <td>2.24</td>\n",
       "    </tr>\n",
       "    <tr>\n",
       "      <th>0</th>\n",
       "      <td>yr</td>\n",
       "      <td>2.06</td>\n",
       "    </tr>\n",
       "    <tr>\n",
       "      <th>10</th>\n",
       "      <td>mnth_Jan</td>\n",
       "      <td>1.92</td>\n",
       "    </tr>\n",
       "    <tr>\n",
       "      <th>11</th>\n",
       "      <td>mnth_Nov</td>\n",
       "      <td>1.85</td>\n",
       "    </tr>\n",
       "    <tr>\n",
       "      <th>8</th>\n",
       "      <td>mnth_Dec</td>\n",
       "      <td>1.63</td>\n",
       "    </tr>\n",
       "    <tr>\n",
       "      <th>7</th>\n",
       "      <td>mnth_Aug</td>\n",
       "      <td>1.60</td>\n",
       "    </tr>\n",
       "    <tr>\n",
       "      <th>9</th>\n",
       "      <td>mnth_Feb</td>\n",
       "      <td>1.55</td>\n",
       "    </tr>\n",
       "    <tr>\n",
       "      <th>12</th>\n",
       "      <td>mnth_Sept</td>\n",
       "      <td>1.38</td>\n",
       "    </tr>\n",
       "    <tr>\n",
       "      <th>13</th>\n",
       "      <td>weathersit_LightSnow_LightRain+Thunderstorm</td>\n",
       "      <td>1.25</td>\n",
       "    </tr>\n",
       "    <tr>\n",
       "      <th>1</th>\n",
       "      <td>holiday</td>\n",
       "      <td>1.06</td>\n",
       "    </tr>\n",
       "  </tbody>\n",
       "</table>\n",
       "</div>"
      ],
      "text/plain": [
       "                                       Features    VIF\n",
       "3                                           hum  25.11\n",
       "2                                         atemp  14.42\n",
       "4                                     windspeed   3.89\n",
       "6                                 season_winter   3.04\n",
       "5                                 season_summer   2.28\n",
       "14                       weathersit_Mist+Cloudy   2.24\n",
       "0                                            yr   2.06\n",
       "10                                     mnth_Jan   1.92\n",
       "11                                     mnth_Nov   1.85\n",
       "8                                      mnth_Dec   1.63\n",
       "7                                      mnth_Aug   1.60\n",
       "9                                      mnth_Feb   1.55\n",
       "12                                    mnth_Sept   1.38\n",
       "13  weathersit_LightSnow_LightRain+Thunderstorm   1.25\n",
       "1                                       holiday   1.06"
      ]
     },
     "execution_count": 42,
     "metadata": {},
     "output_type": "execute_result"
    }
   ],
   "source": [
    "#importing required library for calculating VIF\n",
    "from statsmodels.stats.outliers_influence import variance_inflation_factor\n",
    "\n",
    "#creating a dataframe\n",
    "vif = pd.DataFrame()  \n",
    "\n",
    "# saving dataframe to new variable\n",
    "X = X_train_rfe               \n",
    "\n",
    "vif['Features'] = X.columns         #Adding columns\n",
    "vif[\"VIF\"] = [variance_inflation_factor(X.values , i) for i in range(X.shape[1])]   #Calculating VIF\n",
    "vif[\"VIF\"] = round(vif[\"VIF\"] , 2)\n",
    "vif = vif.sort_values(by = \"VIF\" , ascending = False)\n",
    "vif"
   ]
  },
  {
   "cell_type": "markdown",
   "metadata": {},
   "source": [
    "- Here we have high VIF value for **`\"hum\"`** ,So we'll drop column \"hum\""
   ]
  },
  {
   "cell_type": "code",
   "execution_count": 43,
   "metadata": {},
   "outputs": [],
   "source": [
    "# Dropping \"hum\" column\n",
    "X_train_rfe.drop([\"hum\"] , axis = 1 , inplace = True)"
   ]
  },
  {
   "cell_type": "markdown",
   "metadata": {},
   "source": [
    "## Model 2"
   ]
  },
  {
   "cell_type": "code",
   "execution_count": 44,
   "metadata": {},
   "outputs": [
    {
     "name": "stdout",
     "output_type": "stream",
     "text": [
      "                            OLS Regression Results                            \n",
      "==============================================================================\n",
      "Dep. Variable:                    cnt   R-squared:                       0.836\n",
      "Model:                            OLS   Adj. R-squared:                  0.831\n",
      "Method:                 Least Squares   F-statistic:                     180.0\n",
      "Date:                Mon, 05 Apr 2021   Prob (F-statistic):          7.00e-184\n",
      "Time:                        20:21:38   Log-Likelihood:                 499.30\n",
      "No. Observations:                 510   AIC:                            -968.6\n",
      "Df Residuals:                     495   BIC:                            -905.1\n",
      "Df Model:                          14                                         \n",
      "Covariance Type:            nonrobust                                         \n",
      "===============================================================================================================\n",
      "                                                  coef    std err          t      P>|t|      [0.025      0.975]\n",
      "---------------------------------------------------------------------------------------------------------------\n",
      "const                                           0.2114      0.026      8.281      0.000       0.161       0.262\n",
      "yr                                              0.2349      0.008     28.475      0.000       0.219       0.251\n",
      "holiday                                        -0.0851      0.026     -3.229      0.001      -0.137      -0.033\n",
      "atemp                                           0.4432      0.031     14.084      0.000       0.381       0.505\n",
      "windspeed                                      -0.1493      0.026     -5.808      0.000      -0.200      -0.099\n",
      "season_summer                                   0.0723      0.013      5.671      0.000       0.047       0.097\n",
      "season_winter                                   0.1244      0.014      8.746      0.000       0.096       0.152\n",
      "mnth_Aug                                        0.0580      0.017      3.479      0.001       0.025       0.091\n",
      "mnth_Dec                                       -0.0585      0.019     -3.132      0.002      -0.095      -0.022\n",
      "mnth_Feb                                       -0.0565      0.021     -2.636      0.009      -0.099      -0.014\n",
      "mnth_Jan                                       -0.0875      0.021     -4.070      0.000      -0.130      -0.045\n",
      "mnth_Nov                                       -0.0442      0.019     -2.287      0.023      -0.082      -0.006\n",
      "mnth_Sept                                       0.1044      0.017      6.180      0.000       0.071       0.138\n",
      "weathersit_LightSnow_LightRain+Thunderstorm    -0.2875      0.025    -11.540      0.000      -0.336      -0.239\n",
      "weathersit_Mist+Cloudy                         -0.0828      0.009     -9.371      0.000      -0.100      -0.065\n",
      "==============================================================================\n",
      "Omnibus:                       67.944   Durbin-Watson:                   2.028\n",
      "Prob(Omnibus):                  0.000   Jarque-Bera (JB):              170.080\n",
      "Skew:                          -0.682   Prob(JB):                     1.17e-37\n",
      "Kurtosis:                       5.478   Cond. No.                         16.1\n",
      "==============================================================================\n",
      "\n",
      "Notes:\n",
      "[1] Standard Errors assume that the covariance matrix of the errors is correctly specified.\n"
     ]
    }
   ],
   "source": [
    "#Adding a constant variable\n",
    "X_train_rfe2 = sm.add_constant(X_train_rfe)\n",
    "\n",
    "#Running the linear model\n",
    "lr2 = sm.OLS(y_train , X_train_rfe2).fit()\n",
    "\n",
    "#Let's see the summary of our linear regression model obtained\n",
    "print(lr2.summary())"
   ]
  },
  {
   "cell_type": "markdown",
   "metadata": {},
   "source": [
    "- **Checking VIF for the new model**"
   ]
  },
  {
   "cell_type": "code",
   "execution_count": 45,
   "metadata": {},
   "outputs": [
    {
     "data": {
      "text/html": [
       "<div>\n",
       "<style scoped>\n",
       "    .dataframe tbody tr th:only-of-type {\n",
       "        vertical-align: middle;\n",
       "    }\n",
       "\n",
       "    .dataframe tbody tr th {\n",
       "        vertical-align: top;\n",
       "    }\n",
       "\n",
       "    .dataframe thead th {\n",
       "        text-align: right;\n",
       "    }\n",
       "</style>\n",
       "<table border=\"1\" class=\"dataframe\">\n",
       "  <thead>\n",
       "    <tr style=\"text-align: right;\">\n",
       "      <th></th>\n",
       "      <th>Features</th>\n",
       "      <th>VIF</th>\n",
       "    </tr>\n",
       "  </thead>\n",
       "  <tbody>\n",
       "    <tr>\n",
       "      <th>2</th>\n",
       "      <td>atemp</td>\n",
       "      <td>4.99</td>\n",
       "    </tr>\n",
       "    <tr>\n",
       "      <th>3</th>\n",
       "      <td>windspeed</td>\n",
       "      <td>3.83</td>\n",
       "    </tr>\n",
       "    <tr>\n",
       "      <th>5</th>\n",
       "      <td>season_winter</td>\n",
       "      <td>2.62</td>\n",
       "    </tr>\n",
       "    <tr>\n",
       "      <th>0</th>\n",
       "      <td>yr</td>\n",
       "      <td>2.06</td>\n",
       "    </tr>\n",
       "    <tr>\n",
       "      <th>4</th>\n",
       "      <td>season_summer</td>\n",
       "      <td>2.04</td>\n",
       "    </tr>\n",
       "    <tr>\n",
       "      <th>10</th>\n",
       "      <td>mnth_Nov</td>\n",
       "      <td>1.81</td>\n",
       "    </tr>\n",
       "    <tr>\n",
       "      <th>6</th>\n",
       "      <td>mnth_Aug</td>\n",
       "      <td>1.59</td>\n",
       "    </tr>\n",
       "    <tr>\n",
       "      <th>13</th>\n",
       "      <td>weathersit_Mist+Cloudy</td>\n",
       "      <td>1.57</td>\n",
       "    </tr>\n",
       "    <tr>\n",
       "      <th>7</th>\n",
       "      <td>mnth_Dec</td>\n",
       "      <td>1.41</td>\n",
       "    </tr>\n",
       "    <tr>\n",
       "      <th>11</th>\n",
       "      <td>mnth_Sept</td>\n",
       "      <td>1.35</td>\n",
       "    </tr>\n",
       "    <tr>\n",
       "      <th>9</th>\n",
       "      <td>mnth_Jan</td>\n",
       "      <td>1.29</td>\n",
       "    </tr>\n",
       "    <tr>\n",
       "      <th>8</th>\n",
       "      <td>mnth_Feb</td>\n",
       "      <td>1.26</td>\n",
       "    </tr>\n",
       "    <tr>\n",
       "      <th>12</th>\n",
       "      <td>weathersit_LightSnow_LightRain+Thunderstorm</td>\n",
       "      <td>1.09</td>\n",
       "    </tr>\n",
       "    <tr>\n",
       "      <th>1</th>\n",
       "      <td>holiday</td>\n",
       "      <td>1.06</td>\n",
       "    </tr>\n",
       "  </tbody>\n",
       "</table>\n",
       "</div>"
      ],
      "text/plain": [
       "                                       Features   VIF\n",
       "2                                         atemp  4.99\n",
       "3                                     windspeed  3.83\n",
       "5                                 season_winter  2.62\n",
       "0                                            yr  2.06\n",
       "4                                 season_summer  2.04\n",
       "10                                     mnth_Nov  1.81\n",
       "6                                      mnth_Aug  1.59\n",
       "13                       weathersit_Mist+Cloudy  1.57\n",
       "7                                      mnth_Dec  1.41\n",
       "11                                    mnth_Sept  1.35\n",
       "9                                      mnth_Jan  1.29\n",
       "8                                      mnth_Feb  1.26\n",
       "12  weathersit_LightSnow_LightRain+Thunderstorm  1.09\n",
       "1                                       holiday  1.06"
      ]
     },
     "execution_count": 45,
     "metadata": {},
     "output_type": "execute_result"
    }
   ],
   "source": [
    "#Checking VIF values again\n",
    "vif = pd.DataFrame()\n",
    "X = X_train_rfe\n",
    "\n",
    "vif['Features'] = X.columns\n",
    "vif[\"VIF\"] = [variance_inflation_factor(X.values , i) for i in range(X.shape[1])]\n",
    "vif[\"VIF\"] = round(vif[\"VIF\"] , 2)\n",
    "vif = vif.sort_values(by = \"VIF\" , ascending = False)\n",
    "vif"
   ]
  },
  {
   "cell_type": "markdown",
   "metadata": {},
   "source": [
    "- Dropping **`\"windspeed\"`** column as it have high VIF value after **`\"atemp\"`**. We do not drop \"atemp\" as it seems somewhat important."
   ]
  },
  {
   "cell_type": "code",
   "execution_count": 46,
   "metadata": {},
   "outputs": [],
   "source": [
    "#Dropping \"windspeed\" column\n",
    "X_train_rfe.drop([\"windspeed\"] , axis = 1, inplace = True)"
   ]
  },
  {
   "cell_type": "markdown",
   "metadata": {},
   "source": [
    "## Model 3"
   ]
  },
  {
   "cell_type": "markdown",
   "metadata": {},
   "source": [
    "- Let's see model significance after dropping \"windspeed\"."
   ]
  },
  {
   "cell_type": "code",
   "execution_count": 47,
   "metadata": {},
   "outputs": [],
   "source": [
    "#Adding a constant variable\n",
    "X_train_rfe3= sm.add_constant(X_train_rfe)"
   ]
  },
  {
   "cell_type": "code",
   "execution_count": 48,
   "metadata": {},
   "outputs": [],
   "source": [
    "#Running the linear model\n",
    "lr3 = sm.OLS(y_train , X_train_rfe3).fit()"
   ]
  },
  {
   "cell_type": "code",
   "execution_count": 49,
   "metadata": {},
   "outputs": [
    {
     "name": "stdout",
     "output_type": "stream",
     "text": [
      "                            OLS Regression Results                            \n",
      "==============================================================================\n",
      "Dep. Variable:                    cnt   R-squared:                       0.825\n",
      "Model:                            OLS   Adj. R-squared:                  0.820\n",
      "Method:                 Least Squares   F-statistic:                     179.5\n",
      "Date:                Mon, 05 Apr 2021   Prob (F-statistic):          5.75e-178\n",
      "Time:                        20:21:39   Log-Likelihood:                 482.49\n",
      "No. Observations:                 510   AIC:                            -937.0\n",
      "Df Residuals:                     496   BIC:                            -877.7\n",
      "Df Model:                          13                                         \n",
      "Covariance Type:            nonrobust                                         \n",
      "===============================================================================================================\n",
      "                                                  coef    std err          t      P>|t|      [0.025      0.975]\n",
      "---------------------------------------------------------------------------------------------------------------\n",
      "const                                           0.1351      0.023      5.978      0.000       0.091       0.179\n",
      "yr                                              0.2333      0.009     27.407      0.000       0.217       0.250\n",
      "holiday                                        -0.0877      0.027     -3.223      0.001      -0.141      -0.034\n",
      "atemp                                           0.4867      0.032     15.420      0.000       0.425       0.549\n",
      "season_summer                                   0.0719      0.013      5.461      0.000       0.046       0.098\n",
      "season_winter                                   0.1351      0.015      9.274      0.000       0.106       0.164\n",
      "mnth_Aug                                        0.0630      0.017      3.669      0.000       0.029       0.097\n",
      "mnth_Dec                                       -0.0462      0.019     -2.412      0.016      -0.084      -0.009\n",
      "mnth_Feb                                       -0.0518      0.022     -2.344      0.019      -0.095      -0.008\n",
      "mnth_Jan                                       -0.0682      0.022     -3.113      0.002      -0.111      -0.025\n",
      "mnth_Nov                                       -0.0428      0.020     -2.148      0.032      -0.082      -0.004\n",
      "mnth_Sept                                       0.1131      0.017      6.515      0.000       0.079       0.147\n",
      "weathersit_LightSnow_LightRain+Thunderstorm    -0.2992      0.026    -11.671      0.000      -0.350      -0.249\n",
      "weathersit_Mist+Cloudy                         -0.0814      0.009     -8.930      0.000      -0.099      -0.063\n",
      "==============================================================================\n",
      "Omnibus:                       74.737   Durbin-Watson:                   2.010\n",
      "Prob(Omnibus):                  0.000   Jarque-Bera (JB):              197.199\n",
      "Skew:                          -0.730   Prob(JB):                     1.51e-43\n",
      "Kurtosis:                       5.673   Cond. No.                         14.7\n",
      "==============================================================================\n",
      "\n",
      "Notes:\n",
      "[1] Standard Errors assume that the covariance matrix of the errors is correctly specified.\n"
     ]
    }
   ],
   "source": [
    "# Print a summary of the linear regression model obtained\n",
    "print(lr3.summary())"
   ]
  },
  {
   "cell_type": "markdown",
   "metadata": {},
   "source": [
    "- **Checking VIF values for new model.**"
   ]
  },
  {
   "cell_type": "code",
   "execution_count": 50,
   "metadata": {
    "scrolled": false
   },
   "outputs": [
    {
     "data": {
      "text/html": [
       "<div>\n",
       "<style scoped>\n",
       "    .dataframe tbody tr th:only-of-type {\n",
       "        vertical-align: middle;\n",
       "    }\n",
       "\n",
       "    .dataframe tbody tr th {\n",
       "        vertical-align: top;\n",
       "    }\n",
       "\n",
       "    .dataframe thead th {\n",
       "        text-align: right;\n",
       "    }\n",
       "</style>\n",
       "<table border=\"1\" class=\"dataframe\">\n",
       "  <thead>\n",
       "    <tr style=\"text-align: right;\">\n",
       "      <th></th>\n",
       "      <th>Features</th>\n",
       "      <th>VIF</th>\n",
       "    </tr>\n",
       "  </thead>\n",
       "  <tbody>\n",
       "    <tr>\n",
       "      <th>2</th>\n",
       "      <td>atemp</td>\n",
       "      <td>3.98</td>\n",
       "    </tr>\n",
       "    <tr>\n",
       "      <th>4</th>\n",
       "      <td>season_winter</td>\n",
       "      <td>2.60</td>\n",
       "    </tr>\n",
       "    <tr>\n",
       "      <th>0</th>\n",
       "      <td>yr</td>\n",
       "      <td>2.04</td>\n",
       "    </tr>\n",
       "    <tr>\n",
       "      <th>3</th>\n",
       "      <td>season_summer</td>\n",
       "      <td>1.91</td>\n",
       "    </tr>\n",
       "    <tr>\n",
       "      <th>9</th>\n",
       "      <td>mnth_Nov</td>\n",
       "      <td>1.77</td>\n",
       "    </tr>\n",
       "    <tr>\n",
       "      <th>5</th>\n",
       "      <td>mnth_Aug</td>\n",
       "      <td>1.59</td>\n",
       "    </tr>\n",
       "    <tr>\n",
       "      <th>12</th>\n",
       "      <td>weathersit_Mist+Cloudy</td>\n",
       "      <td>1.56</td>\n",
       "    </tr>\n",
       "    <tr>\n",
       "      <th>6</th>\n",
       "      <td>mnth_Dec</td>\n",
       "      <td>1.37</td>\n",
       "    </tr>\n",
       "    <tr>\n",
       "      <th>10</th>\n",
       "      <td>mnth_Sept</td>\n",
       "      <td>1.35</td>\n",
       "    </tr>\n",
       "    <tr>\n",
       "      <th>8</th>\n",
       "      <td>mnth_Jan</td>\n",
       "      <td>1.15</td>\n",
       "    </tr>\n",
       "    <tr>\n",
       "      <th>7</th>\n",
       "      <td>mnth_Feb</td>\n",
       "      <td>1.11</td>\n",
       "    </tr>\n",
       "    <tr>\n",
       "      <th>11</th>\n",
       "      <td>weathersit_LightSnow_LightRain+Thunderstorm</td>\n",
       "      <td>1.07</td>\n",
       "    </tr>\n",
       "    <tr>\n",
       "      <th>1</th>\n",
       "      <td>holiday</td>\n",
       "      <td>1.06</td>\n",
       "    </tr>\n",
       "  </tbody>\n",
       "</table>\n",
       "</div>"
      ],
      "text/plain": [
       "                                       Features   VIF\n",
       "2                                         atemp  3.98\n",
       "4                                 season_winter  2.60\n",
       "0                                            yr  2.04\n",
       "3                                 season_summer  1.91\n",
       "9                                      mnth_Nov  1.77\n",
       "5                                      mnth_Aug  1.59\n",
       "12                       weathersit_Mist+Cloudy  1.56\n",
       "6                                      mnth_Dec  1.37\n",
       "10                                    mnth_Sept  1.35\n",
       "8                                      mnth_Jan  1.15\n",
       "7                                      mnth_Feb  1.11\n",
       "11  weathersit_LightSnow_LightRain+Thunderstorm  1.07\n",
       "1                                       holiday  1.06"
      ]
     },
     "execution_count": 50,
     "metadata": {},
     "output_type": "execute_result"
    }
   ],
   "source": [
    "#Checking VIF values \n",
    "vif = pd.DataFrame()\n",
    "X = X_train_rfe\n",
    "\n",
    "vif['Features'] = X.columns\n",
    "vif[\"VIF\"] = [variance_inflation_factor(X.values , i) for i in range(X.shape[1])]\n",
    "vif[\"VIF\"] = round(vif[\"VIF\"] , 2)\n",
    "vif = vif.sort_values(by = \"VIF\" , ascending = False)\n",
    "vif"
   ]
  },
  {
   "cell_type": "markdown",
   "metadata": {},
   "source": [
    "- All the VIF values and p-values are significant as of now"
   ]
  },
  {
   "cell_type": "markdown",
   "metadata": {},
   "source": [
    "- We'll drop **`\"mnth_Nov\"`** as it have quite higher p-value than others."
   ]
  },
  {
   "cell_type": "code",
   "execution_count": 51,
   "metadata": {},
   "outputs": [],
   "source": [
    "#Dropping \"mnth_Nov\"\n",
    "X_train_rfe.drop(['mnth_Nov'], axis=1 , inplace = True)"
   ]
  },
  {
   "cell_type": "markdown",
   "metadata": {},
   "source": [
    "- ### Now we will add columns one by one and check for the model significance"
   ]
  },
  {
   "cell_type": "markdown",
   "metadata": {},
   "source": [
    "## Model 4"
   ]
  },
  {
   "cell_type": "markdown",
   "metadata": {},
   "source": [
    "- Adding new column **`\"workingday\"`** and see how it impacts the model"
   ]
  },
  {
   "cell_type": "code",
   "execution_count": 52,
   "metadata": {},
   "outputs": [],
   "source": [
    "#Adding \"workingday\" column\n",
    "X_train_rfe[\"workingday\"] = X_train[\"workingday\"]"
   ]
  },
  {
   "cell_type": "code",
   "execution_count": 53,
   "metadata": {},
   "outputs": [
    {
     "name": "stdout",
     "output_type": "stream",
     "text": [
      "                            OLS Regression Results                            \n",
      "==============================================================================\n",
      "Dep. Variable:                    cnt   R-squared:                       0.825\n",
      "Model:                            OLS   Adj. R-squared:                  0.821\n",
      "Method:                 Least Squares   F-statistic:                     180.2\n",
      "Date:                Mon, 05 Apr 2021   Prob (F-statistic):          2.62e-178\n",
      "Time:                        20:21:39   Log-Likelihood:                 483.30\n",
      "No. Observations:                 510   AIC:                            -938.6\n",
      "Df Residuals:                     496   BIC:                            -879.3\n",
      "Df Model:                          13                                         \n",
      "Covariance Type:            nonrobust                                         \n",
      "===============================================================================================================\n",
      "                                                  coef    std err          t      P>|t|      [0.025      0.975]\n",
      "---------------------------------------------------------------------------------------------------------------\n",
      "const                                           0.1389      0.023      6.104      0.000       0.094       0.184\n",
      "yr                                              0.2331      0.009     27.422      0.000       0.216       0.250\n",
      "holiday                                        -0.1130      0.028     -4.044      0.000      -0.168      -0.058\n",
      "atemp                                           0.5040      0.030     16.548      0.000       0.444       0.564\n",
      "season_summer                                   0.0769      0.013      5.900      0.000       0.051       0.103\n",
      "season_winter                                   0.1241      0.013      9.386      0.000       0.098       0.150\n",
      "mnth_Aug                                        0.0637      0.017      3.712      0.000       0.030       0.097\n",
      "mnth_Dec                                       -0.0308      0.017     -1.766      0.078      -0.065       0.003\n",
      "mnth_Feb                                       -0.0414      0.022     -1.912      0.056      -0.084       0.001\n",
      "mnth_Jan                                       -0.0571      0.021     -2.676      0.008      -0.099      -0.015\n",
      "mnth_Sept                                       0.1179      0.017      6.868      0.000       0.084       0.152\n",
      "weathersit_LightSnow_LightRain+Thunderstorm    -0.2961      0.026    -11.601      0.000      -0.346      -0.246\n",
      "weathersit_Mist+Cloudy                         -0.0827      0.009     -9.060      0.000      -0.101      -0.065\n",
      "workingday                                     -0.0241      0.010     -2.492      0.013      -0.043      -0.005\n",
      "==============================================================================\n",
      "Omnibus:                       72.882   Durbin-Watson:                   2.025\n",
      "Prob(Omnibus):                  0.000   Jarque-Bera (JB):              172.537\n",
      "Skew:                          -0.749   Prob(JB):                     3.42e-38\n",
      "Kurtosis:                       5.424   Cond. No.                         15.9\n",
      "==============================================================================\n",
      "\n",
      "Notes:\n",
      "[1] Standard Errors assume that the covariance matrix of the errors is correctly specified.\n"
     ]
    }
   ],
   "source": [
    "#Adding a constant variable\n",
    "X_train_rfe4 = sm.add_constant(X_train_rfe)\n",
    "\n",
    "#Running the linear model\n",
    "lr4 = sm.OLS(y_train , X_train_rfe4).fit()\n",
    "\n",
    "#print summary of linear regression model obtained\n",
    "print(lr4.summary())"
   ]
  },
  {
   "cell_type": "code",
   "execution_count": 54,
   "metadata": {},
   "outputs": [
    {
     "data": {
      "text/html": [
       "<div>\n",
       "<style scoped>\n",
       "    .dataframe tbody tr th:only-of-type {\n",
       "        vertical-align: middle;\n",
       "    }\n",
       "\n",
       "    .dataframe tbody tr th {\n",
       "        vertical-align: top;\n",
       "    }\n",
       "\n",
       "    .dataframe thead th {\n",
       "        text-align: right;\n",
       "    }\n",
       "</style>\n",
       "<table border=\"1\" class=\"dataframe\">\n",
       "  <thead>\n",
       "    <tr style=\"text-align: right;\">\n",
       "      <th></th>\n",
       "      <th>Features</th>\n",
       "      <th>VIF</th>\n",
       "    </tr>\n",
       "  </thead>\n",
       "  <tbody>\n",
       "    <tr>\n",
       "      <th>2</th>\n",
       "      <td>atemp</td>\n",
       "      <td>5.16</td>\n",
       "    </tr>\n",
       "    <tr>\n",
       "      <th>12</th>\n",
       "      <td>workingday</td>\n",
       "      <td>3.40</td>\n",
       "    </tr>\n",
       "    <tr>\n",
       "      <th>0</th>\n",
       "      <td>yr</td>\n",
       "      <td>2.04</td>\n",
       "    </tr>\n",
       "    <tr>\n",
       "      <th>3</th>\n",
       "      <td>season_summer</td>\n",
       "      <td>1.98</td>\n",
       "    </tr>\n",
       "    <tr>\n",
       "      <th>4</th>\n",
       "      <td>season_winter</td>\n",
       "      <td>1.86</td>\n",
       "    </tr>\n",
       "    <tr>\n",
       "      <th>5</th>\n",
       "      <td>mnth_Aug</td>\n",
       "      <td>1.59</td>\n",
       "    </tr>\n",
       "    <tr>\n",
       "      <th>11</th>\n",
       "      <td>weathersit_Mist+Cloudy</td>\n",
       "      <td>1.56</td>\n",
       "    </tr>\n",
       "    <tr>\n",
       "      <th>9</th>\n",
       "      <td>mnth_Sept</td>\n",
       "      <td>1.33</td>\n",
       "    </tr>\n",
       "    <tr>\n",
       "      <th>8</th>\n",
       "      <td>mnth_Jan</td>\n",
       "      <td>1.27</td>\n",
       "    </tr>\n",
       "    <tr>\n",
       "      <th>6</th>\n",
       "      <td>mnth_Dec</td>\n",
       "      <td>1.23</td>\n",
       "    </tr>\n",
       "    <tr>\n",
       "      <th>7</th>\n",
       "      <td>mnth_Feb</td>\n",
       "      <td>1.19</td>\n",
       "    </tr>\n",
       "    <tr>\n",
       "      <th>1</th>\n",
       "      <td>holiday</td>\n",
       "      <td>1.10</td>\n",
       "    </tr>\n",
       "    <tr>\n",
       "      <th>10</th>\n",
       "      <td>weathersit_LightSnow_LightRain+Thunderstorm</td>\n",
       "      <td>1.06</td>\n",
       "    </tr>\n",
       "  </tbody>\n",
       "</table>\n",
       "</div>"
      ],
      "text/plain": [
       "                                       Features   VIF\n",
       "2                                         atemp  5.16\n",
       "12                                   workingday  3.40\n",
       "0                                            yr  2.04\n",
       "3                                 season_summer  1.98\n",
       "4                                 season_winter  1.86\n",
       "5                                      mnth_Aug  1.59\n",
       "11                       weathersit_Mist+Cloudy  1.56\n",
       "9                                     mnth_Sept  1.33\n",
       "8                                      mnth_Jan  1.27\n",
       "6                                      mnth_Dec  1.23\n",
       "7                                      mnth_Feb  1.19\n",
       "1                                       holiday  1.10\n",
       "10  weathersit_LightSnow_LightRain+Thunderstorm  1.06"
      ]
     },
     "execution_count": 54,
     "metadata": {},
     "output_type": "execute_result"
    }
   ],
   "source": [
    "#Checking VIF values \n",
    "vif = pd.DataFrame()\n",
    "X = X_train_rfe\n",
    "\n",
    "vif['Features'] = X.columns\n",
    "vif[\"VIF\"] = [variance_inflation_factor(X.values , i) for i in range(X.shape[1])]\n",
    "vif[\"VIF\"] = round(vif[\"VIF\"] , 2)\n",
    "vif = vif.sort_values(by = \"VIF\" , ascending = False)\n",
    "vif"
   ]
  },
  {
   "cell_type": "markdown",
   "metadata": {},
   "source": [
    "- Adding **`\"workingday\"`** doesn't have much impact on the model significance. And it increased p-value and VIF value for some of the variables. Hence we'll drop it."
   ]
  },
  {
   "cell_type": "code",
   "execution_count": 55,
   "metadata": {},
   "outputs": [],
   "source": [
    "#Dropping \"workingday\" column\n",
    "X_train_rfe.drop([\"workingday\"], axis =1 ,inplace = True)"
   ]
  },
  {
   "cell_type": "markdown",
   "metadata": {},
   "source": [
    "## Model 5"
   ]
  },
  {
   "cell_type": "markdown",
   "metadata": {},
   "source": [
    "- Adding new column **`\"weekday_Saturday\"`** and see how it impacts the model"
   ]
  },
  {
   "cell_type": "code",
   "execution_count": 56,
   "metadata": {},
   "outputs": [],
   "source": [
    "##Adding \"weekday_Saturday\" column\n",
    "X_train_rfe['weekday_Saturday'] = X_train['weekday_Saturday']"
   ]
  },
  {
   "cell_type": "code",
   "execution_count": 57,
   "metadata": {},
   "outputs": [
    {
     "name": "stdout",
     "output_type": "stream",
     "text": [
      "                            OLS Regression Results                            \n",
      "==============================================================================\n",
      "Dep. Variable:                    cnt   R-squared:                       0.824\n",
      "Model:                            OLS   Adj. R-squared:                  0.819\n",
      "Method:                 Least Squares   F-statistic:                     178.3\n",
      "Date:                Mon, 05 Apr 2021   Prob (F-statistic):          2.24e-177\n",
      "Time:                        20:21:40   Log-Likelihood:                 481.08\n",
      "No. Observations:                 510   AIC:                            -934.2\n",
      "Df Residuals:                     496   BIC:                            -874.9\n",
      "Df Model:                          13                                         \n",
      "Covariance Type:            nonrobust                                         \n",
      "===============================================================================================================\n",
      "                                                  coef    std err          t      P>|t|      [0.025      0.975]\n",
      "---------------------------------------------------------------------------------------------------------------\n",
      "const                                           0.1184      0.022      5.431      0.000       0.076       0.161\n",
      "yr                                              0.2335      0.009     27.345      0.000       0.217       0.250\n",
      "holiday                                        -0.0941      0.027     -3.473      0.001      -0.147      -0.041\n",
      "atemp                                           0.5048      0.031     16.499      0.000       0.445       0.565\n",
      "season_summer                                   0.0760      0.013      5.810      0.000       0.050       0.102\n",
      "season_winter                                   0.1224      0.013      9.232      0.000       0.096       0.148\n",
      "mnth_Aug                                        0.0632      0.017      3.666      0.000       0.029       0.097\n",
      "mnth_Dec                                       -0.0288      0.017     -1.649      0.100      -0.063       0.006\n",
      "mnth_Feb                                       -0.0415      0.022     -1.908      0.057      -0.084       0.001\n",
      "mnth_Jan                                       -0.0575      0.021     -2.681      0.008      -0.100      -0.015\n",
      "mnth_Sept                                       0.1181      0.017      6.847      0.000       0.084       0.152\n",
      "weathersit_LightSnow_LightRain+Thunderstorm    -0.2963      0.026    -11.554      0.000      -0.347      -0.246\n",
      "weathersit_Mist+Cloudy                         -0.0812      0.009     -8.879      0.000      -0.099      -0.063\n",
      "weekday_Saturday                                0.0173      0.013      1.365      0.173      -0.008       0.042\n",
      "==============================================================================\n",
      "Omnibus:                       66.994   Durbin-Watson:                   2.021\n",
      "Prob(Omnibus):                  0.000   Jarque-Bera (JB):              161.462\n",
      "Skew:                          -0.686   Prob(JB):                     8.69e-36\n",
      "Kurtosis:                       5.391   Cond. No.                         14.0\n",
      "==============================================================================\n",
      "\n",
      "Notes:\n",
      "[1] Standard Errors assume that the covariance matrix of the errors is correctly specified.\n"
     ]
    }
   ],
   "source": [
    "#Adding a constant variable\n",
    "X_train_rfe5 = sm.add_constant(X_train_rfe)\n",
    "\n",
    "#Running the linear model\n",
    "lr5 = sm.OLS(y_train , X_train_rfe5).fit()\n",
    "\n",
    "#Print the summary of linear regression model obtained\n",
    "print(lr5.summary())"
   ]
  },
  {
   "cell_type": "code",
   "execution_count": 58,
   "metadata": {},
   "outputs": [
    {
     "data": {
      "text/html": [
       "<div>\n",
       "<style scoped>\n",
       "    .dataframe tbody tr th:only-of-type {\n",
       "        vertical-align: middle;\n",
       "    }\n",
       "\n",
       "    .dataframe tbody tr th {\n",
       "        vertical-align: top;\n",
       "    }\n",
       "\n",
       "    .dataframe thead th {\n",
       "        text-align: right;\n",
       "    }\n",
       "</style>\n",
       "<table border=\"1\" class=\"dataframe\">\n",
       "  <thead>\n",
       "    <tr style=\"text-align: right;\">\n",
       "      <th></th>\n",
       "      <th>Features</th>\n",
       "      <th>VIF</th>\n",
       "    </tr>\n",
       "  </thead>\n",
       "  <tbody>\n",
       "    <tr>\n",
       "      <th>2</th>\n",
       "      <td>atemp</td>\n",
       "      <td>4.05</td>\n",
       "    </tr>\n",
       "    <tr>\n",
       "      <th>0</th>\n",
       "      <td>yr</td>\n",
       "      <td>2.04</td>\n",
       "    </tr>\n",
       "    <tr>\n",
       "      <th>3</th>\n",
       "      <td>season_summer</td>\n",
       "      <td>1.92</td>\n",
       "    </tr>\n",
       "    <tr>\n",
       "      <th>4</th>\n",
       "      <td>season_winter</td>\n",
       "      <td>1.73</td>\n",
       "    </tr>\n",
       "    <tr>\n",
       "      <th>5</th>\n",
       "      <td>mnth_Aug</td>\n",
       "      <td>1.59</td>\n",
       "    </tr>\n",
       "    <tr>\n",
       "      <th>11</th>\n",
       "      <td>weathersit_Mist+Cloudy</td>\n",
       "      <td>1.56</td>\n",
       "    </tr>\n",
       "    <tr>\n",
       "      <th>9</th>\n",
       "      <td>mnth_Sept</td>\n",
       "      <td>1.33</td>\n",
       "    </tr>\n",
       "    <tr>\n",
       "      <th>6</th>\n",
       "      <td>mnth_Dec</td>\n",
       "      <td>1.22</td>\n",
       "    </tr>\n",
       "    <tr>\n",
       "      <th>8</th>\n",
       "      <td>mnth_Jan</td>\n",
       "      <td>1.16</td>\n",
       "    </tr>\n",
       "    <tr>\n",
       "      <th>12</th>\n",
       "      <td>weekday_Saturday</td>\n",
       "      <td>1.15</td>\n",
       "    </tr>\n",
       "    <tr>\n",
       "      <th>7</th>\n",
       "      <td>mnth_Feb</td>\n",
       "      <td>1.11</td>\n",
       "    </tr>\n",
       "    <tr>\n",
       "      <th>10</th>\n",
       "      <td>weathersit_LightSnow_LightRain+Thunderstorm</td>\n",
       "      <td>1.07</td>\n",
       "    </tr>\n",
       "    <tr>\n",
       "      <th>1</th>\n",
       "      <td>holiday</td>\n",
       "      <td>1.04</td>\n",
       "    </tr>\n",
       "  </tbody>\n",
       "</table>\n",
       "</div>"
      ],
      "text/plain": [
       "                                       Features   VIF\n",
       "2                                         atemp  4.05\n",
       "0                                            yr  2.04\n",
       "3                                 season_summer  1.92\n",
       "4                                 season_winter  1.73\n",
       "5                                      mnth_Aug  1.59\n",
       "11                       weathersit_Mist+Cloudy  1.56\n",
       "9                                     mnth_Sept  1.33\n",
       "6                                      mnth_Dec  1.22\n",
       "8                                      mnth_Jan  1.16\n",
       "12                             weekday_Saturday  1.15\n",
       "7                                      mnth_Feb  1.11\n",
       "10  weathersit_LightSnow_LightRain+Thunderstorm  1.07\n",
       "1                                       holiday  1.04"
      ]
     },
     "execution_count": 58,
     "metadata": {},
     "output_type": "execute_result"
    }
   ],
   "source": [
    "#Checking VIF values again\n",
    "vif = pd.DataFrame()\n",
    "X = X_train_rfe\n",
    "\n",
    "vif['Features'] = X.columns\n",
    "vif[\"VIF\"] = [variance_inflation_factor(X.values , i) for i in range(X.shape[1])]\n",
    "vif[\"VIF\"] = round(vif[\"VIF\"] , 2)\n",
    "vif = vif.sort_values(by = \"VIF\" , ascending = False)\n",
    "vif"
   ]
  },
  {
   "cell_type": "markdown",
   "metadata": {},
   "source": [
    "- Adding **`\"weekday_Saturday\"`** doesn't have much impact on the model significance.Also it increases p-value of some of the columns which is not acceptable. Hence we'll drop it"
   ]
  },
  {
   "cell_type": "code",
   "execution_count": 59,
   "metadata": {},
   "outputs": [],
   "source": [
    "#Dropping the column \"weekday_Saturday\"\n",
    "X_train_rfe.drop([\"weekday_Saturday\"], axis=1, inplace = True)"
   ]
  },
  {
   "cell_type": "markdown",
   "metadata": {},
   "source": [
    "## Model 6"
   ]
  },
  {
   "cell_type": "markdown",
   "metadata": {},
   "source": [
    "- Adding new column **`\"weekday_Sunday\"`** and see how it impacts the model"
   ]
  },
  {
   "cell_type": "code",
   "execution_count": 60,
   "metadata": {},
   "outputs": [],
   "source": [
    "##Adding \"weekday_Sunday\" column\n",
    "X_train_rfe['weekday_Sunday'] = X_train['weekday_Sunday']"
   ]
  },
  {
   "cell_type": "code",
   "execution_count": 61,
   "metadata": {},
   "outputs": [
    {
     "name": "stdout",
     "output_type": "stream",
     "text": [
      "                            OLS Regression Results                            \n",
      "==============================================================================\n",
      "Dep. Variable:                    cnt   R-squared:                       0.824\n",
      "Model:                            OLS   Adj. R-squared:                  0.819\n",
      "Method:                 Least Squares   F-statistic:                     178.7\n",
      "Date:                Mon, 05 Apr 2021   Prob (F-statistic):          1.34e-177\n",
      "Time:                        20:21:41   Log-Likelihood:                 481.61\n",
      "No. Observations:                 510   AIC:                            -935.2\n",
      "Df Residuals:                     496   BIC:                            -875.9\n",
      "Df Model:                          13                                         \n",
      "Covariance Type:            nonrobust                                         \n",
      "===============================================================================================================\n",
      "                                                  coef    std err          t      P>|t|      [0.025      0.975]\n",
      "---------------------------------------------------------------------------------------------------------------\n",
      "const                                           0.1186      0.022      5.453      0.000       0.076       0.161\n",
      "yr                                              0.2330      0.009     27.323      0.000       0.216       0.250\n",
      "holiday                                        -0.0937      0.027     -3.462      0.001      -0.147      -0.041\n",
      "atemp                                           0.5036      0.031     16.479      0.000       0.444       0.564\n",
      "season_summer                                   0.0765      0.013      5.852      0.000       0.051       0.102\n",
      "season_winter                                   0.1230      0.013      9.281      0.000       0.097       0.149\n",
      "mnth_Aug                                        0.0643      0.017      3.734      0.000       0.030       0.098\n",
      "mnth_Dec                                       -0.0305      0.017     -1.745      0.082      -0.065       0.004\n",
      "mnth_Feb                                       -0.0426      0.022     -1.958      0.051      -0.085       0.000\n",
      "mnth_Jan                                       -0.0574      0.021     -2.678      0.008      -0.099      -0.015\n",
      "mnth_Sept                                       0.1184      0.017      6.875      0.000       0.085       0.152\n",
      "weathersit_LightSnow_LightRain+Thunderstorm    -0.2940      0.026    -11.482      0.000      -0.344      -0.244\n",
      "weathersit_Mist+Cloudy                         -0.0819      0.009     -8.950      0.000      -0.100      -0.064\n",
      "weekday_Sunday                                  0.0211      0.012      1.704      0.089      -0.003       0.045\n",
      "==============================================================================\n",
      "Omnibus:                       72.914   Durbin-Watson:                   2.026\n",
      "Prob(Omnibus):                  0.000   Jarque-Bera (JB):              182.221\n",
      "Skew:                          -0.731   Prob(JB):                     2.70e-40\n",
      "Kurtosis:                       5.538   Cond. No.                         14.0\n",
      "==============================================================================\n",
      "\n",
      "Notes:\n",
      "[1] Standard Errors assume that the covariance matrix of the errors is correctly specified.\n"
     ]
    }
   ],
   "source": [
    "#Adding a constant variable\n",
    "X_train_rfe6 = sm.add_constant(X_train_rfe)\n",
    "\n",
    "#Running the linear model\n",
    "lr6 = sm.OLS(y_train , X_train_rfe6).fit()\n",
    "\n",
    "#Print the summary of linear regression model obtained\n",
    "print(lr6.summary())"
   ]
  },
  {
   "cell_type": "code",
   "execution_count": 62,
   "metadata": {
    "scrolled": false
   },
   "outputs": [
    {
     "data": {
      "text/html": [
       "<div>\n",
       "<style scoped>\n",
       "    .dataframe tbody tr th:only-of-type {\n",
       "        vertical-align: middle;\n",
       "    }\n",
       "\n",
       "    .dataframe tbody tr th {\n",
       "        vertical-align: top;\n",
       "    }\n",
       "\n",
       "    .dataframe thead th {\n",
       "        text-align: right;\n",
       "    }\n",
       "</style>\n",
       "<table border=\"1\" class=\"dataframe\">\n",
       "  <thead>\n",
       "    <tr style=\"text-align: right;\">\n",
       "      <th></th>\n",
       "      <th>Features</th>\n",
       "      <th>VIF</th>\n",
       "    </tr>\n",
       "  </thead>\n",
       "  <tbody>\n",
       "    <tr>\n",
       "      <th>2</th>\n",
       "      <td>atemp</td>\n",
       "      <td>4.06</td>\n",
       "    </tr>\n",
       "    <tr>\n",
       "      <th>0</th>\n",
       "      <td>yr</td>\n",
       "      <td>2.04</td>\n",
       "    </tr>\n",
       "    <tr>\n",
       "      <th>3</th>\n",
       "      <td>season_summer</td>\n",
       "      <td>1.91</td>\n",
       "    </tr>\n",
       "    <tr>\n",
       "      <th>4</th>\n",
       "      <td>season_winter</td>\n",
       "      <td>1.73</td>\n",
       "    </tr>\n",
       "    <tr>\n",
       "      <th>5</th>\n",
       "      <td>mnth_Aug</td>\n",
       "      <td>1.59</td>\n",
       "    </tr>\n",
       "    <tr>\n",
       "      <th>11</th>\n",
       "      <td>weathersit_Mist+Cloudy</td>\n",
       "      <td>1.57</td>\n",
       "    </tr>\n",
       "    <tr>\n",
       "      <th>9</th>\n",
       "      <td>mnth_Sept</td>\n",
       "      <td>1.33</td>\n",
       "    </tr>\n",
       "    <tr>\n",
       "      <th>6</th>\n",
       "      <td>mnth_Dec</td>\n",
       "      <td>1.23</td>\n",
       "    </tr>\n",
       "    <tr>\n",
       "      <th>12</th>\n",
       "      <td>weekday_Sunday</td>\n",
       "      <td>1.17</td>\n",
       "    </tr>\n",
       "    <tr>\n",
       "      <th>8</th>\n",
       "      <td>mnth_Jan</td>\n",
       "      <td>1.16</td>\n",
       "    </tr>\n",
       "    <tr>\n",
       "      <th>7</th>\n",
       "      <td>mnth_Feb</td>\n",
       "      <td>1.11</td>\n",
       "    </tr>\n",
       "    <tr>\n",
       "      <th>10</th>\n",
       "      <td>weathersit_LightSnow_LightRain+Thunderstorm</td>\n",
       "      <td>1.06</td>\n",
       "    </tr>\n",
       "    <tr>\n",
       "      <th>1</th>\n",
       "      <td>holiday</td>\n",
       "      <td>1.04</td>\n",
       "    </tr>\n",
       "  </tbody>\n",
       "</table>\n",
       "</div>"
      ],
      "text/plain": [
       "                                       Features   VIF\n",
       "2                                         atemp  4.06\n",
       "0                                            yr  2.04\n",
       "3                                 season_summer  1.91\n",
       "4                                 season_winter  1.73\n",
       "5                                      mnth_Aug  1.59\n",
       "11                       weathersit_Mist+Cloudy  1.57\n",
       "9                                     mnth_Sept  1.33\n",
       "6                                      mnth_Dec  1.23\n",
       "12                               weekday_Sunday  1.17\n",
       "8                                      mnth_Jan  1.16\n",
       "7                                      mnth_Feb  1.11\n",
       "10  weathersit_LightSnow_LightRain+Thunderstorm  1.06\n",
       "1                                       holiday  1.04"
      ]
     },
     "execution_count": 62,
     "metadata": {},
     "output_type": "execute_result"
    }
   ],
   "source": [
    "#Checking VIF values again\n",
    "vif = pd.DataFrame()\n",
    "X = X_train_rfe\n",
    "\n",
    "vif['Features'] = X.columns\n",
    "vif[\"VIF\"] = [variance_inflation_factor(X.values , i) for i in range(X.shape[1])]\n",
    "vif[\"VIF\"] = round(vif[\"VIF\"] , 2)\n",
    "vif = vif.sort_values(by = \"VIF\" , ascending = False)\n",
    "vif"
   ]
  },
  {
   "cell_type": "markdown",
   "metadata": {},
   "source": [
    "- Adding **`\"weekday_Sunday\"`** doesn't have much impact on the model significance. Also it increases p-value for some variables which is not acceptable. Hence we'll drop it"
   ]
  },
  {
   "cell_type": "code",
   "execution_count": 63,
   "metadata": {},
   "outputs": [],
   "source": [
    "##Dropping the column\n",
    "X_train_rfe.drop([\"weekday_Sunday\"], axis=1, inplace = True)"
   ]
  },
  {
   "cell_type": "markdown",
   "metadata": {},
   "source": [
    "### Model 7"
   ]
  },
  {
   "cell_type": "markdown",
   "metadata": {},
   "source": [
    "- Adding **`\"season_spring\"`** and see how it impacts the model."
   ]
  },
  {
   "cell_type": "code",
   "execution_count": 64,
   "metadata": {},
   "outputs": [],
   "source": [
    "##Adding 'season_spring' column\n",
    "X_train_rfe['season_spring'] = X_train['season_spring']"
   ]
  },
  {
   "cell_type": "code",
   "execution_count": 65,
   "metadata": {},
   "outputs": [
    {
     "name": "stdout",
     "output_type": "stream",
     "text": [
      "                            OLS Regression Results                            \n",
      "==============================================================================\n",
      "Dep. Variable:                    cnt   R-squared:                       0.824\n",
      "Model:                            OLS   Adj. R-squared:                  0.820\n",
      "Method:                 Least Squares   F-statistic:                     179.2\n",
      "Date:                Mon, 05 Apr 2021   Prob (F-statistic):          7.72e-178\n",
      "Time:                        20:21:42   Log-Likelihood:                 482.18\n",
      "No. Observations:                 510   AIC:                            -936.4\n",
      "Df Residuals:                     496   BIC:                            -877.1\n",
      "Df Model:                          13                                         \n",
      "Covariance Type:            nonrobust                                         \n",
      "===============================================================================================================\n",
      "                                                  coef    std err          t      P>|t|      [0.025      0.975]\n",
      "---------------------------------------------------------------------------------------------------------------\n",
      "const                                           0.1663      0.031      5.325      0.000       0.105       0.228\n",
      "yr                                              0.2341      0.009     27.450      0.000       0.217       0.251\n",
      "holiday                                        -0.0944      0.027     -3.493      0.001      -0.148      -0.041\n",
      "atemp                                           0.4615      0.037     12.413      0.000       0.388       0.535\n",
      "season_summer                                   0.0542      0.017      3.200      0.001       0.021       0.087\n",
      "season_winter                                   0.0955      0.019      5.113      0.000       0.059       0.132\n",
      "mnth_Aug                                        0.0498      0.019      2.690      0.007       0.013       0.086\n",
      "mnth_Dec                                       -0.0278      0.017     -1.595      0.111      -0.062       0.006\n",
      "mnth_Feb                                       -0.0292      0.023     -1.283      0.200      -0.074       0.015\n",
      "mnth_Jan                                       -0.0475      0.022     -2.156      0.032      -0.091      -0.004\n",
      "mnth_Sept                                       0.1067      0.018      5.876      0.000       0.071       0.142\n",
      "weathersit_LightSnow_LightRain+Thunderstorm    -0.2969      0.026    -11.601      0.000      -0.347      -0.247\n",
      "weathersit_Mist+Cloudy                         -0.0805      0.009     -8.824      0.000      -0.098      -0.063\n",
      "season_spring                                  -0.0473      0.024     -2.004      0.046      -0.094      -0.001\n",
      "==============================================================================\n",
      "Omnibus:                       73.242   Durbin-Watson:                   2.029\n",
      "Prob(Omnibus):                  0.000   Jarque-Bera (JB):              194.268\n",
      "Skew:                          -0.714   Prob(JB):                     6.54e-43\n",
      "Kurtosis:                       5.665   Cond. No.                         17.8\n",
      "==============================================================================\n",
      "\n",
      "Notes:\n",
      "[1] Standard Errors assume that the covariance matrix of the errors is correctly specified.\n"
     ]
    }
   ],
   "source": [
    "#Adding a constant variable\n",
    "X_train_rfe7 = sm.add_constant(X_train_rfe)\n",
    "\n",
    "#Running the linear model\n",
    "lr7 = sm.OLS(y_train , X_train_rfe7).fit()\n",
    "\n",
    "#Print the summary of linear regression model obtained\n",
    "print(lr7.summary())"
   ]
  },
  {
   "cell_type": "code",
   "execution_count": 66,
   "metadata": {
    "scrolled": false
   },
   "outputs": [
    {
     "data": {
      "text/html": [
       "<div>\n",
       "<style scoped>\n",
       "    .dataframe tbody tr th:only-of-type {\n",
       "        vertical-align: middle;\n",
       "    }\n",
       "\n",
       "    .dataframe tbody tr th {\n",
       "        vertical-align: top;\n",
       "    }\n",
       "\n",
       "    .dataframe thead th {\n",
       "        text-align: right;\n",
       "    }\n",
       "</style>\n",
       "<table border=\"1\" class=\"dataframe\">\n",
       "  <thead>\n",
       "    <tr style=\"text-align: right;\">\n",
       "      <th></th>\n",
       "      <th>Features</th>\n",
       "      <th>VIF</th>\n",
       "    </tr>\n",
       "  </thead>\n",
       "  <tbody>\n",
       "    <tr>\n",
       "      <th>2</th>\n",
       "      <td>atemp</td>\n",
       "      <td>4.31</td>\n",
       "    </tr>\n",
       "    <tr>\n",
       "      <th>12</th>\n",
       "      <td>season_spring</td>\n",
       "      <td>3.66</td>\n",
       "    </tr>\n",
       "    <tr>\n",
       "      <th>8</th>\n",
       "      <td>mnth_Jan</td>\n",
       "      <td>2.18</td>\n",
       "    </tr>\n",
       "    <tr>\n",
       "      <th>3</th>\n",
       "      <td>season_summer</td>\n",
       "      <td>2.08</td>\n",
       "    </tr>\n",
       "    <tr>\n",
       "      <th>0</th>\n",
       "      <td>yr</td>\n",
       "      <td>2.07</td>\n",
       "    </tr>\n",
       "    <tr>\n",
       "      <th>4</th>\n",
       "      <td>season_winter</td>\n",
       "      <td>1.95</td>\n",
       "    </tr>\n",
       "    <tr>\n",
       "      <th>7</th>\n",
       "      <td>mnth_Feb</td>\n",
       "      <td>1.86</td>\n",
       "    </tr>\n",
       "    <tr>\n",
       "      <th>5</th>\n",
       "      <td>mnth_Aug</td>\n",
       "      <td>1.69</td>\n",
       "    </tr>\n",
       "    <tr>\n",
       "      <th>11</th>\n",
       "      <td>weathersit_Mist+Cloudy</td>\n",
       "      <td>1.59</td>\n",
       "    </tr>\n",
       "    <tr>\n",
       "      <th>9</th>\n",
       "      <td>mnth_Sept</td>\n",
       "      <td>1.37</td>\n",
       "    </tr>\n",
       "    <tr>\n",
       "      <th>6</th>\n",
       "      <td>mnth_Dec</td>\n",
       "      <td>1.35</td>\n",
       "    </tr>\n",
       "    <tr>\n",
       "      <th>10</th>\n",
       "      <td>weathersit_LightSnow_LightRain+Thunderstorm</td>\n",
       "      <td>1.07</td>\n",
       "    </tr>\n",
       "    <tr>\n",
       "      <th>1</th>\n",
       "      <td>holiday</td>\n",
       "      <td>1.04</td>\n",
       "    </tr>\n",
       "  </tbody>\n",
       "</table>\n",
       "</div>"
      ],
      "text/plain": [
       "                                       Features   VIF\n",
       "2                                         atemp  4.31\n",
       "12                                season_spring  3.66\n",
       "8                                      mnth_Jan  2.18\n",
       "3                                 season_summer  2.08\n",
       "0                                            yr  2.07\n",
       "4                                 season_winter  1.95\n",
       "7                                      mnth_Feb  1.86\n",
       "5                                      mnth_Aug  1.69\n",
       "11                       weathersit_Mist+Cloudy  1.59\n",
       "9                                     mnth_Sept  1.37\n",
       "6                                      mnth_Dec  1.35\n",
       "10  weathersit_LightSnow_LightRain+Thunderstorm  1.07\n",
       "1                                       holiday  1.04"
      ]
     },
     "execution_count": 66,
     "metadata": {},
     "output_type": "execute_result"
    }
   ],
   "source": [
    "#Checking VIF values again\n",
    "vif = pd.DataFrame()\n",
    "X = X_train_rfe\n",
    "\n",
    "vif['Features'] = X.columns\n",
    "vif[\"VIF\"] = [variance_inflation_factor(X.values , i) for i in range(X.shape[1])]\n",
    "vif[\"VIF\"] = round(vif[\"VIF\"] , 2)\n",
    "vif = vif.sort_values(by = \"VIF\" , ascending = False)\n",
    "vif"
   ]
  },
  {
   "cell_type": "markdown",
   "metadata": {},
   "source": [
    "- Adding **`\"season_spring\"`** doesn't have much impact model significane. Also it increases p-value for some variables which is not acceptable. Hence we'll drop it"
   ]
  },
  {
   "cell_type": "code",
   "execution_count": 67,
   "metadata": {},
   "outputs": [],
   "source": [
    "#Dropping \"season_winter\" column\n",
    "X_train_rfe.drop([\"season_spring\"], axis = 1, inplace = True)"
   ]
  },
  {
   "cell_type": "markdown",
   "metadata": {},
   "source": [
    "## Model 8"
   ]
  },
  {
   "cell_type": "markdown",
   "metadata": {},
   "source": [
    "- After dropping **`\"season_spring\"`**, let's see the impact on the model significance."
   ]
  },
  {
   "cell_type": "code",
   "execution_count": 68,
   "metadata": {},
   "outputs": [
    {
     "name": "stdout",
     "output_type": "stream",
     "text": [
      "                            OLS Regression Results                            \n",
      "==============================================================================\n",
      "Dep. Variable:                    cnt   R-squared:                       0.823\n",
      "Model:                            OLS   Adj. R-squared:                  0.819\n",
      "Method:                 Least Squares   F-statistic:                     192.6\n",
      "Date:                Mon, 05 Apr 2021   Prob (F-statistic):          3.98e-178\n",
      "Time:                        20:21:42   Log-Likelihood:                 480.13\n",
      "No. Observations:                 510   AIC:                            -934.3\n",
      "Df Residuals:                     497   BIC:                            -879.2\n",
      "Df Model:                          12                                         \n",
      "Covariance Type:            nonrobust                                         \n",
      "===============================================================================================================\n",
      "                                                  coef    std err          t      P>|t|      [0.025      0.975]\n",
      "---------------------------------------------------------------------------------------------------------------\n",
      "const                                           0.1212      0.022      5.578      0.000       0.079       0.164\n",
      "yr                                              0.2333      0.009     27.303      0.000       0.217       0.250\n",
      "holiday                                        -0.0948      0.027     -3.497      0.001      -0.148      -0.042\n",
      "atemp                                           0.5041      0.031     16.464      0.000       0.444       0.564\n",
      "season_summer                                   0.0758      0.013      5.788      0.000       0.050       0.102\n",
      "season_winter                                   0.1219      0.013      9.191      0.000       0.096       0.148\n",
      "mnth_Aug                                        0.0637      0.017      3.696      0.000       0.030       0.098\n",
      "mnth_Dec                                       -0.0291      0.017     -1.663      0.097      -0.063       0.005\n",
      "mnth_Feb                                       -0.0426      0.022     -1.957      0.051      -0.085       0.000\n",
      "mnth_Jan                                       -0.0579      0.021     -2.696      0.007      -0.100      -0.016\n",
      "mnth_Sept                                       0.1183      0.017      6.855      0.000       0.084       0.152\n",
      "weathersit_LightSnow_LightRain+Thunderstorm    -0.2949      0.026    -11.498      0.000      -0.345      -0.245\n",
      "weathersit_Mist+Cloudy                         -0.0808      0.009     -8.833      0.000      -0.099      -0.063\n",
      "==============================================================================\n",
      "Omnibus:                       67.626   Durbin-Watson:                   2.023\n",
      "Prob(Omnibus):                  0.000   Jarque-Bera (JB):              169.671\n",
      "Skew:                          -0.679   Prob(JB):                     1.43e-37\n",
      "Kurtosis:                       5.478   Cond. No.                         13.9\n",
      "==============================================================================\n",
      "\n",
      "Notes:\n",
      "[1] Standard Errors assume that the covariance matrix of the errors is correctly specified.\n"
     ]
    }
   ],
   "source": [
    "#Adding a constant variable\n",
    "X_train_rfe8 = sm.add_constant(X_train_rfe)\n",
    "\n",
    "#Running the linear model\n",
    "lr8 = sm.OLS(y_train , X_train_rfe8).fit()\n",
    "\n",
    "#print the summary of linear regression model obtained\n",
    "print(lr8.summary())"
   ]
  },
  {
   "cell_type": "code",
   "execution_count": 69,
   "metadata": {},
   "outputs": [
    {
     "data": {
      "text/html": [
       "<div>\n",
       "<style scoped>\n",
       "    .dataframe tbody tr th:only-of-type {\n",
       "        vertical-align: middle;\n",
       "    }\n",
       "\n",
       "    .dataframe tbody tr th {\n",
       "        vertical-align: top;\n",
       "    }\n",
       "\n",
       "    .dataframe thead th {\n",
       "        text-align: right;\n",
       "    }\n",
       "</style>\n",
       "<table border=\"1\" class=\"dataframe\">\n",
       "  <thead>\n",
       "    <tr style=\"text-align: right;\">\n",
       "      <th></th>\n",
       "      <th>Features</th>\n",
       "      <th>VIF</th>\n",
       "    </tr>\n",
       "  </thead>\n",
       "  <tbody>\n",
       "    <tr>\n",
       "      <th>2</th>\n",
       "      <td>atemp</td>\n",
       "      <td>3.98</td>\n",
       "    </tr>\n",
       "    <tr>\n",
       "      <th>0</th>\n",
       "      <td>yr</td>\n",
       "      <td>2.04</td>\n",
       "    </tr>\n",
       "    <tr>\n",
       "      <th>3</th>\n",
       "      <td>season_summer</td>\n",
       "      <td>1.91</td>\n",
       "    </tr>\n",
       "    <tr>\n",
       "      <th>4</th>\n",
       "      <td>season_winter</td>\n",
       "      <td>1.73</td>\n",
       "    </tr>\n",
       "    <tr>\n",
       "      <th>5</th>\n",
       "      <td>mnth_Aug</td>\n",
       "      <td>1.59</td>\n",
       "    </tr>\n",
       "    <tr>\n",
       "      <th>11</th>\n",
       "      <td>weathersit_Mist+Cloudy</td>\n",
       "      <td>1.56</td>\n",
       "    </tr>\n",
       "    <tr>\n",
       "      <th>9</th>\n",
       "      <td>mnth_Sept</td>\n",
       "      <td>1.33</td>\n",
       "    </tr>\n",
       "    <tr>\n",
       "      <th>6</th>\n",
       "      <td>mnth_Dec</td>\n",
       "      <td>1.22</td>\n",
       "    </tr>\n",
       "    <tr>\n",
       "      <th>8</th>\n",
       "      <td>mnth_Jan</td>\n",
       "      <td>1.15</td>\n",
       "    </tr>\n",
       "    <tr>\n",
       "      <th>7</th>\n",
       "      <td>mnth_Feb</td>\n",
       "      <td>1.11</td>\n",
       "    </tr>\n",
       "    <tr>\n",
       "      <th>10</th>\n",
       "      <td>weathersit_LightSnow_LightRain+Thunderstorm</td>\n",
       "      <td>1.06</td>\n",
       "    </tr>\n",
       "    <tr>\n",
       "      <th>1</th>\n",
       "      <td>holiday</td>\n",
       "      <td>1.04</td>\n",
       "    </tr>\n",
       "  </tbody>\n",
       "</table>\n",
       "</div>"
      ],
      "text/plain": [
       "                                       Features   VIF\n",
       "2                                         atemp  3.98\n",
       "0                                            yr  2.04\n",
       "3                                 season_summer  1.91\n",
       "4                                 season_winter  1.73\n",
       "5                                      mnth_Aug  1.59\n",
       "11                       weathersit_Mist+Cloudy  1.56\n",
       "9                                     mnth_Sept  1.33\n",
       "6                                      mnth_Dec  1.22\n",
       "8                                      mnth_Jan  1.15\n",
       "7                                      mnth_Feb  1.11\n",
       "10  weathersit_LightSnow_LightRain+Thunderstorm  1.06\n",
       "1                                       holiday  1.04"
      ]
     },
     "execution_count": 69,
     "metadata": {},
     "output_type": "execute_result"
    }
   ],
   "source": [
    "#Checking VIF values\n",
    "vif = pd.DataFrame()\n",
    "X = X_train_rfe\n",
    "\n",
    "vif['Features'] = X.columns\n",
    "vif[\"VIF\"] = [variance_inflation_factor(X.values , i) for i in range(X.shape[1])]\n",
    "vif[\"VIF\"] = round(vif[\"VIF\"] , 2)\n",
    "vif = vif.sort_values(by = \"VIF\" , ascending = False)\n",
    "vif"
   ]
  },
  {
   "cell_type": "markdown",
   "metadata": {},
   "source": [
    "- Still significance is similiar as previous model (model 7). But it still have high p-value for some variables.So we'll drop the variable with high p-value i.e. **`\"mnth_Dec\"`**"
   ]
  },
  {
   "cell_type": "code",
   "execution_count": 70,
   "metadata": {},
   "outputs": [],
   "source": [
    "#Dropping the \"mnth_Feb\" column\n",
    "X_train_rfe.drop([\"mnth_Dec\"], axis = 1, inplace = True)"
   ]
  },
  {
   "cell_type": "markdown",
   "metadata": {},
   "source": [
    "## Model 9"
   ]
  },
  {
   "cell_type": "markdown",
   "metadata": {},
   "source": [
    "- Let's see model significance after dropping the **`\"mnth_Dec\"`** column."
   ]
  },
  {
   "cell_type": "code",
   "execution_count": 71,
   "metadata": {},
   "outputs": [
    {
     "name": "stdout",
     "output_type": "stream",
     "text": [
      "                            OLS Regression Results                            \n",
      "==============================================================================\n",
      "Dep. Variable:                    cnt   R-squared:                       0.822\n",
      "Model:                            OLS   Adj. R-squared:                  0.818\n",
      "Method:                 Least Squares   F-statistic:                     209.1\n",
      "Date:                Mon, 05 Apr 2021   Prob (F-statistic):          1.06e-178\n",
      "Time:                        20:21:43   Log-Likelihood:                 478.71\n",
      "No. Observations:                 510   AIC:                            -933.4\n",
      "Df Residuals:                     498   BIC:                            -882.6\n",
      "Df Model:                          11                                         \n",
      "Covariance Type:            nonrobust                                         \n",
      "===============================================================================================================\n",
      "                                                  coef    std err          t      P>|t|      [0.025      0.975]\n",
      "---------------------------------------------------------------------------------------------------------------\n",
      "const                                           0.1070      0.020      5.345      0.000       0.068       0.146\n",
      "yr                                              0.2333      0.009     27.257      0.000       0.216       0.250\n",
      "holiday                                        -0.0937      0.027     -3.450      0.001      -0.147      -0.040\n",
      "atemp                                           0.5208      0.029     17.989      0.000       0.464       0.578\n",
      "season_summer                                   0.0805      0.013      6.282      0.000       0.055       0.106\n",
      "season_winter                                   0.1215      0.013      9.145      0.000       0.095       0.148\n",
      "mnth_Aug                                        0.0654      0.017      3.792      0.000       0.031       0.099\n",
      "mnth_Feb                                       -0.0332      0.021     -1.576      0.116      -0.075       0.008\n",
      "mnth_Jan                                       -0.0472      0.021     -2.299      0.022      -0.087      -0.007\n",
      "mnth_Sept                                       0.1213      0.017      7.055      0.000       0.088       0.155\n",
      "weathersit_LightSnow_LightRain+Thunderstorm    -0.2918      0.026    -11.388      0.000      -0.342      -0.241\n",
      "weathersit_Mist+Cloudy                         -0.0809      0.009     -8.833      0.000      -0.099      -0.063\n",
      "==============================================================================\n",
      "Omnibus:                       64.367   Durbin-Watson:                   2.030\n",
      "Prob(Omnibus):                  0.000   Jarque-Bera (JB):              160.020\n",
      "Skew:                          -0.650   Prob(JB):                     1.79e-35\n",
      "Kurtosis:                       5.417   Cond. No.                         12.8\n",
      "==============================================================================\n",
      "\n",
      "Notes:\n",
      "[1] Standard Errors assume that the covariance matrix of the errors is correctly specified.\n"
     ]
    }
   ],
   "source": [
    "#Adding a constant variable\n",
    "X_train_rfe9 = sm.add_constant(X_train_rfe)\n",
    "\n",
    "#Running the linear model\n",
    "lr9 = sm.OLS(y_train , X_train_rfe9).fit()\n",
    "\n",
    "#print the summary of linear regression model obtained\n",
    "print(lr9.summary())"
   ]
  },
  {
   "cell_type": "code",
   "execution_count": 72,
   "metadata": {},
   "outputs": [
    {
     "data": {
      "text/html": [
       "<div>\n",
       "<style scoped>\n",
       "    .dataframe tbody tr th:only-of-type {\n",
       "        vertical-align: middle;\n",
       "    }\n",
       "\n",
       "    .dataframe tbody tr th {\n",
       "        vertical-align: top;\n",
       "    }\n",
       "\n",
       "    .dataframe thead th {\n",
       "        text-align: right;\n",
       "    }\n",
       "</style>\n",
       "<table border=\"1\" class=\"dataframe\">\n",
       "  <thead>\n",
       "    <tr style=\"text-align: right;\">\n",
       "      <th></th>\n",
       "      <th>Features</th>\n",
       "      <th>VIF</th>\n",
       "    </tr>\n",
       "  </thead>\n",
       "  <tbody>\n",
       "    <tr>\n",
       "      <th>2</th>\n",
       "      <td>atemp</td>\n",
       "      <td>3.98</td>\n",
       "    </tr>\n",
       "    <tr>\n",
       "      <th>0</th>\n",
       "      <td>yr</td>\n",
       "      <td>2.03</td>\n",
       "    </tr>\n",
       "    <tr>\n",
       "      <th>3</th>\n",
       "      <td>season_summer</td>\n",
       "      <td>1.91</td>\n",
       "    </tr>\n",
       "    <tr>\n",
       "      <th>5</th>\n",
       "      <td>mnth_Aug</td>\n",
       "      <td>1.59</td>\n",
       "    </tr>\n",
       "    <tr>\n",
       "      <th>4</th>\n",
       "      <td>season_winter</td>\n",
       "      <td>1.58</td>\n",
       "    </tr>\n",
       "    <tr>\n",
       "      <th>10</th>\n",
       "      <td>weathersit_Mist+Cloudy</td>\n",
       "      <td>1.55</td>\n",
       "    </tr>\n",
       "    <tr>\n",
       "      <th>8</th>\n",
       "      <td>mnth_Sept</td>\n",
       "      <td>1.32</td>\n",
       "    </tr>\n",
       "    <tr>\n",
       "      <th>7</th>\n",
       "      <td>mnth_Jan</td>\n",
       "      <td>1.15</td>\n",
       "    </tr>\n",
       "    <tr>\n",
       "      <th>6</th>\n",
       "      <td>mnth_Feb</td>\n",
       "      <td>1.11</td>\n",
       "    </tr>\n",
       "    <tr>\n",
       "      <th>9</th>\n",
       "      <td>weathersit_LightSnow_LightRain+Thunderstorm</td>\n",
       "      <td>1.06</td>\n",
       "    </tr>\n",
       "    <tr>\n",
       "      <th>1</th>\n",
       "      <td>holiday</td>\n",
       "      <td>1.04</td>\n",
       "    </tr>\n",
       "  </tbody>\n",
       "</table>\n",
       "</div>"
      ],
      "text/plain": [
       "                                       Features   VIF\n",
       "2                                         atemp  3.98\n",
       "0                                            yr  2.03\n",
       "3                                 season_summer  1.91\n",
       "5                                      mnth_Aug  1.59\n",
       "4                                 season_winter  1.58\n",
       "10                       weathersit_Mist+Cloudy  1.55\n",
       "8                                     mnth_Sept  1.32\n",
       "7                                      mnth_Jan  1.15\n",
       "6                                      mnth_Feb  1.11\n",
       "9   weathersit_LightSnow_LightRain+Thunderstorm  1.06\n",
       "1                                       holiday  1.04"
      ]
     },
     "execution_count": 72,
     "metadata": {},
     "output_type": "execute_result"
    }
   ],
   "source": [
    "#Checking VIF values\n",
    "vif = pd.DataFrame()\n",
    "X = X_train_rfe\n",
    "\n",
    "vif[\"Features\"] = X.columns\n",
    "vif[\"VIF\"] = [variance_inflation_factor(X.values , i) for i in range (X.shape[1])]\n",
    "vif[\"VIF\"] = round(vif[\"VIF\"] , 2)\n",
    "vif = vif.sort_values(by = \"VIF\" , ascending = False)\n",
    "vif"
   ]
  },
  {
   "cell_type": "markdown",
   "metadata": {},
   "source": [
    "- Still significance is similiar as previous model (model 7). But it still have high p-value for some variables.So we'll drop the variable with high p-value i.e. **`\"mnth_Feb\"`**"
   ]
  },
  {
   "cell_type": "code",
   "execution_count": 73,
   "metadata": {},
   "outputs": [],
   "source": [
    "X_train_rfe.drop([\"mnth_Feb\"], axis=1, inplace = True)"
   ]
  },
  {
   "cell_type": "markdown",
   "metadata": {},
   "source": [
    "## Model 10"
   ]
  },
  {
   "cell_type": "markdown",
   "metadata": {},
   "source": [
    "- After dropping `\"mnth_Feb\"`, let's see how it impacts the model."
   ]
  },
  {
   "cell_type": "code",
   "execution_count": 74,
   "metadata": {},
   "outputs": [
    {
     "name": "stdout",
     "output_type": "stream",
     "text": [
      "                            OLS Regression Results                            \n",
      "==============================================================================\n",
      "Dep. Variable:                    cnt   R-squared:                       0.821\n",
      "Model:                            OLS   Adj. R-squared:                  0.818\n",
      "Method:                 Least Squares   F-statistic:                     229.1\n",
      "Date:                Mon, 05 Apr 2021   Prob (F-statistic):          2.35e-179\n",
      "Time:                        20:21:43   Log-Likelihood:                 477.44\n",
      "No. Observations:                 510   AIC:                            -932.9\n",
      "Df Residuals:                     499   BIC:                            -886.3\n",
      "Df Model:                          10                                         \n",
      "Covariance Type:            nonrobust                                         \n",
      "===============================================================================================================\n",
      "                                                  coef    std err          t      P>|t|      [0.025      0.975]\n",
      "---------------------------------------------------------------------------------------------------------------\n",
      "const                                           0.0890      0.016      5.409      0.000       0.057       0.121\n",
      "yr                                              0.2328      0.009     27.178      0.000       0.216       0.250\n",
      "holiday                                        -0.0958      0.027     -3.525      0.000      -0.149      -0.042\n",
      "atemp                                           0.5407      0.026     20.696      0.000       0.489       0.592\n",
      "season_summer                                   0.0877      0.012      7.321      0.000       0.064       0.111\n",
      "season_winter                                   0.1311      0.012     11.073      0.000       0.108       0.154\n",
      "mnth_Aug                                        0.0690      0.017      4.031      0.000       0.035       0.103\n",
      "mnth_Jan                                       -0.0328      0.018     -1.781      0.076      -0.069       0.003\n",
      "mnth_Sept                                       0.1246      0.017      7.288      0.000       0.091       0.158\n",
      "weathersit_LightSnow_LightRain+Thunderstorm    -0.2914      0.026    -11.356      0.000      -0.342      -0.241\n",
      "weathersit_Mist+Cloudy                         -0.0811      0.009     -8.844      0.000      -0.099      -0.063\n",
      "==============================================================================\n",
      "Omnibus:                       60.641   Durbin-Watson:                   2.026\n",
      "Prob(Omnibus):                  0.000   Jarque-Bera (JB):              151.468\n",
      "Skew:                          -0.612   Prob(JB):                     1.29e-33\n",
      "Kurtosis:                       5.373   Cond. No.                         10.4\n",
      "==============================================================================\n",
      "\n",
      "Notes:\n",
      "[1] Standard Errors assume that the covariance matrix of the errors is correctly specified.\n"
     ]
    }
   ],
   "source": [
    "#Adding a constant variable\n",
    "X_train_rfe10 = sm.add_constant(X_train_rfe)\n",
    "\n",
    "#Running the linear model\n",
    "lr10 = sm.OLS(y_train , X_train_rfe10).fit()\n",
    "\n",
    "#print the summary of linear model obtained\n",
    "print(lr10.summary())"
   ]
  },
  {
   "cell_type": "code",
   "execution_count": 75,
   "metadata": {},
   "outputs": [
    {
     "data": {
      "text/html": [
       "<div>\n",
       "<style scoped>\n",
       "    .dataframe tbody tr th:only-of-type {\n",
       "        vertical-align: middle;\n",
       "    }\n",
       "\n",
       "    .dataframe tbody tr th {\n",
       "        vertical-align: top;\n",
       "    }\n",
       "\n",
       "    .dataframe thead th {\n",
       "        text-align: right;\n",
       "    }\n",
       "</style>\n",
       "<table border=\"1\" class=\"dataframe\">\n",
       "  <thead>\n",
       "    <tr style=\"text-align: right;\">\n",
       "      <th></th>\n",
       "      <th>Features</th>\n",
       "      <th>VIF</th>\n",
       "    </tr>\n",
       "  </thead>\n",
       "  <tbody>\n",
       "    <tr>\n",
       "      <th>2</th>\n",
       "      <td>atemp</td>\n",
       "      <td>3.92</td>\n",
       "    </tr>\n",
       "    <tr>\n",
       "      <th>0</th>\n",
       "      <td>yr</td>\n",
       "      <td>2.00</td>\n",
       "    </tr>\n",
       "    <tr>\n",
       "      <th>3</th>\n",
       "      <td>season_summer</td>\n",
       "      <td>1.84</td>\n",
       "    </tr>\n",
       "    <tr>\n",
       "      <th>5</th>\n",
       "      <td>mnth_Aug</td>\n",
       "      <td>1.55</td>\n",
       "    </tr>\n",
       "    <tr>\n",
       "      <th>4</th>\n",
       "      <td>season_winter</td>\n",
       "      <td>1.53</td>\n",
       "    </tr>\n",
       "    <tr>\n",
       "      <th>9</th>\n",
       "      <td>weathersit_Mist+Cloudy</td>\n",
       "      <td>1.52</td>\n",
       "    </tr>\n",
       "    <tr>\n",
       "      <th>7</th>\n",
       "      <td>mnth_Sept</td>\n",
       "      <td>1.30</td>\n",
       "    </tr>\n",
       "    <tr>\n",
       "      <th>6</th>\n",
       "      <td>mnth_Jan</td>\n",
       "      <td>1.14</td>\n",
       "    </tr>\n",
       "    <tr>\n",
       "      <th>8</th>\n",
       "      <td>weathersit_LightSnow_LightRain+Thunderstorm</td>\n",
       "      <td>1.06</td>\n",
       "    </tr>\n",
       "    <tr>\n",
       "      <th>1</th>\n",
       "      <td>holiday</td>\n",
       "      <td>1.03</td>\n",
       "    </tr>\n",
       "  </tbody>\n",
       "</table>\n",
       "</div>"
      ],
      "text/plain": [
       "                                      Features   VIF\n",
       "2                                        atemp  3.92\n",
       "0                                           yr  2.00\n",
       "3                                season_summer  1.84\n",
       "5                                     mnth_Aug  1.55\n",
       "4                                season_winter  1.53\n",
       "9                       weathersit_Mist+Cloudy  1.52\n",
       "7                                    mnth_Sept  1.30\n",
       "6                                     mnth_Jan  1.14\n",
       "8  weathersit_LightSnow_LightRain+Thunderstorm  1.06\n",
       "1                                      holiday  1.03"
      ]
     },
     "execution_count": 75,
     "metadata": {},
     "output_type": "execute_result"
    }
   ],
   "source": [
    "#Checking VIF values again\n",
    "vif = pd.DataFrame()\n",
    "X = X_train_rfe\n",
    "\n",
    "vif['Features'] = X.columns\n",
    "vif[\"VIF\"] = [variance_inflation_factor(X.values , i) for i in range(X.shape[1])]\n",
    "vif[\"VIF\"] = round(vif[\"VIF\"] , 2)\n",
    "vif = vif.sort_values(by = \"VIF\" , ascending = False)\n",
    "vif"
   ]
  },
  {
   "cell_type": "markdown",
   "metadata": {},
   "source": [
    "- Still it have high p-value for the **`\"mnth_Jan\"`**. So we'll drop it."
   ]
  },
  {
   "cell_type": "code",
   "execution_count": 76,
   "metadata": {},
   "outputs": [],
   "source": [
    "#Dropping the column \"mnth_Jan\"\n",
    "X_train_rfe.drop(['mnth_Jan'], axis = 1, inplace=True)"
   ]
  },
  {
   "cell_type": "markdown",
   "metadata": {},
   "source": [
    "## Model 11"
   ]
  },
  {
   "cell_type": "markdown",
   "metadata": {},
   "source": [
    "- Let's see how it impacts model significance after dropping **`\"mnth_Jan\"`**."
   ]
  },
  {
   "cell_type": "code",
   "execution_count": 77,
   "metadata": {},
   "outputs": [
    {
     "name": "stdout",
     "output_type": "stream",
     "text": [
      "                            OLS Regression Results                            \n",
      "==============================================================================\n",
      "Dep. Variable:                    cnt   R-squared:                       0.820\n",
      "Model:                            OLS   Adj. R-squared:                  0.817\n",
      "Method:                 Least Squares   F-statistic:                     253.1\n",
      "Date:                Mon, 05 Apr 2021   Prob (F-statistic):          6.93e-180\n",
      "Time:                        20:21:45   Log-Likelihood:                 475.83\n",
      "No. Observations:                 510   AIC:                            -931.7\n",
      "Df Residuals:                     500   BIC:                            -889.3\n",
      "Df Model:                           9                                         \n",
      "Covariance Type:            nonrobust                                         \n",
      "===============================================================================================================\n",
      "                                                  coef    std err          t      P>|t|      [0.025      0.975]\n",
      "---------------------------------------------------------------------------------------------------------------\n",
      "const                                           0.0726      0.014      5.310      0.000       0.046       0.099\n",
      "yr                                              0.2322      0.009     27.069      0.000       0.215       0.249\n",
      "holiday                                        -0.0962      0.027     -3.534      0.000      -0.150      -0.043\n",
      "atemp                                           0.5608      0.024     23.761      0.000       0.514       0.607\n",
      "season_summer                                   0.0933      0.012      8.064      0.000       0.071       0.116\n",
      "season_winter                                   0.1391      0.011     12.664      0.000       0.117       0.161\n",
      "mnth_Aug                                        0.0710      0.017      4.149      0.000       0.037       0.105\n",
      "mnth_Sept                                       0.1265      0.017      7.399      0.000       0.093       0.160\n",
      "weathersit_LightSnow_LightRain+Thunderstorm    -0.2894      0.026    -11.262      0.000      -0.340      -0.239\n",
      "weathersit_Mist+Cloudy                         -0.0820      0.009     -8.934      0.000      -0.100      -0.064\n",
      "==============================================================================\n",
      "Omnibus:                       59.120   Durbin-Watson:                   2.023\n",
      "Prob(Omnibus):                  0.000   Jarque-Bera (JB):              149.747\n",
      "Skew:                          -0.592   Prob(JB):                     3.04e-33\n",
      "Kurtosis:                       5.376   Cond. No.                         9.27\n",
      "==============================================================================\n",
      "\n",
      "Notes:\n",
      "[1] Standard Errors assume that the covariance matrix of the errors is correctly specified.\n"
     ]
    }
   ],
   "source": [
    "#Adding a constant variable\n",
    "X_train_rfe11 = sm.add_constant(X_train_rfe)\n",
    "\n",
    "#Running the linear model\n",
    "lr11 = sm.OLS(y_train , X_train_rfe11).fit()\n",
    "\n",
    "#print the summary of linear model obtained\n",
    "print(lr11.summary())"
   ]
  },
  {
   "cell_type": "code",
   "execution_count": 78,
   "metadata": {},
   "outputs": [
    {
     "data": {
      "text/html": [
       "<div>\n",
       "<style scoped>\n",
       "    .dataframe tbody tr th:only-of-type {\n",
       "        vertical-align: middle;\n",
       "    }\n",
       "\n",
       "    .dataframe tbody tr th {\n",
       "        vertical-align: top;\n",
       "    }\n",
       "\n",
       "    .dataframe thead th {\n",
       "        text-align: right;\n",
       "    }\n",
       "</style>\n",
       "<table border=\"1\" class=\"dataframe\">\n",
       "  <thead>\n",
       "    <tr style=\"text-align: right;\">\n",
       "      <th></th>\n",
       "      <th>Features</th>\n",
       "      <th>VIF</th>\n",
       "    </tr>\n",
       "  </thead>\n",
       "  <tbody>\n",
       "    <tr>\n",
       "      <th>2</th>\n",
       "      <td>atemp</td>\n",
       "      <td>3.91</td>\n",
       "    </tr>\n",
       "    <tr>\n",
       "      <th>0</th>\n",
       "      <td>yr</td>\n",
       "      <td>1.93</td>\n",
       "    </tr>\n",
       "    <tr>\n",
       "      <th>3</th>\n",
       "      <td>season_summer</td>\n",
       "      <td>1.79</td>\n",
       "    </tr>\n",
       "    <tr>\n",
       "      <th>5</th>\n",
       "      <td>mnth_Aug</td>\n",
       "      <td>1.53</td>\n",
       "    </tr>\n",
       "    <tr>\n",
       "      <th>4</th>\n",
       "      <td>season_winter</td>\n",
       "      <td>1.48</td>\n",
       "    </tr>\n",
       "    <tr>\n",
       "      <th>8</th>\n",
       "      <td>weathersit_Mist+Cloudy</td>\n",
       "      <td>1.44</td>\n",
       "    </tr>\n",
       "    <tr>\n",
       "      <th>6</th>\n",
       "      <td>mnth_Sept</td>\n",
       "      <td>1.28</td>\n",
       "    </tr>\n",
       "    <tr>\n",
       "      <th>7</th>\n",
       "      <td>weathersit_LightSnow_LightRain+Thunderstorm</td>\n",
       "      <td>1.06</td>\n",
       "    </tr>\n",
       "    <tr>\n",
       "      <th>1</th>\n",
       "      <td>holiday</td>\n",
       "      <td>1.03</td>\n",
       "    </tr>\n",
       "  </tbody>\n",
       "</table>\n",
       "</div>"
      ],
      "text/plain": [
       "                                      Features   VIF\n",
       "2                                        atemp  3.91\n",
       "0                                           yr  1.93\n",
       "3                                season_summer  1.79\n",
       "5                                     mnth_Aug  1.53\n",
       "4                                season_winter  1.48\n",
       "8                       weathersit_Mist+Cloudy  1.44\n",
       "6                                    mnth_Sept  1.28\n",
       "7  weathersit_LightSnow_LightRain+Thunderstorm  1.06\n",
       "1                                      holiday  1.03"
      ]
     },
     "execution_count": 78,
     "metadata": {},
     "output_type": "execute_result"
    }
   ],
   "source": [
    "#Checking VIF values again\n",
    "vif = pd.DataFrame()\n",
    "X = X_train_rfe\n",
    "\n",
    "vif['Features'] = X.columns\n",
    "vif[\"VIF\"] = [variance_inflation_factor(X.values , i) for i in range(X.shape[1])]\n",
    "vif[\"VIF\"] = round(vif[\"VIF\"] , 2)\n",
    "vif = vif.sort_values(by = \"VIF\" , ascending = False)\n",
    "vif"
   ]
  },
  {
   "cell_type": "markdown",
   "metadata": {},
   "source": [
    "- After removing **`\"mnth_Jan\"`** have similiar model significance like previous models. **But p-values and VIF values are good enough.**"
   ]
  },
  {
   "cell_type": "markdown",
   "metadata": {},
   "source": [
    "### Now again adding  variables and see if model significance increases or not."
   ]
  },
  {
   "cell_type": "markdown",
   "metadata": {},
   "source": [
    "## Model 12"
   ]
  },
  {
   "cell_type": "markdown",
   "metadata": {},
   "source": [
    "- Adding **`\"mnth_May\"`** and see how it impacts model significance."
   ]
  },
  {
   "cell_type": "code",
   "execution_count": 79,
   "metadata": {},
   "outputs": [],
   "source": [
    "## Adding \"mnth_May\"\n",
    "X_train_rfe['mnth_May'] = X_train['mnth_May']"
   ]
  },
  {
   "cell_type": "code",
   "execution_count": 80,
   "metadata": {},
   "outputs": [
    {
     "name": "stdout",
     "output_type": "stream",
     "text": [
      "                            OLS Regression Results                            \n",
      "==============================================================================\n",
      "Dep. Variable:                    cnt   R-squared:                       0.820\n",
      "Model:                            OLS   Adj. R-squared:                  0.817\n",
      "Method:                 Least Squares   F-statistic:                     227.8\n",
      "Date:                Mon, 05 Apr 2021   Prob (F-statistic):          7.79e-179\n",
      "Time:                        20:21:46   Log-Likelihood:                 476.21\n",
      "No. Observations:                 510   AIC:                            -930.4\n",
      "Df Residuals:                     499   BIC:                            -883.8\n",
      "Df Model:                          10                                         \n",
      "Covariance Type:            nonrobust                                         \n",
      "===============================================================================================================\n",
      "                                                  coef    std err          t      P>|t|      [0.025      0.975]\n",
      "---------------------------------------------------------------------------------------------------------------\n",
      "const                                           0.0738      0.014      5.369      0.000       0.047       0.101\n",
      "yr                                              0.2326      0.009     27.071      0.000       0.216       0.249\n",
      "holiday                                        -0.0960      0.027     -3.524      0.000      -0.149      -0.042\n",
      "atemp                                           0.5580      0.024     23.417      0.000       0.511       0.605\n",
      "season_summer                                   0.0883      0.013      6.803      0.000       0.063       0.114\n",
      "season_winter                                   0.1390      0.011     12.657      0.000       0.117       0.161\n",
      "mnth_Aug                                        0.0719      0.017      4.192      0.000       0.038       0.106\n",
      "mnth_Sept                                       0.1272      0.017      7.429      0.000       0.094       0.161\n",
      "weathersit_LightSnow_LightRain+Thunderstorm    -0.2888      0.026    -11.234      0.000      -0.339      -0.238\n",
      "weathersit_Mist+Cloudy                         -0.0827      0.009     -8.973      0.000      -0.101      -0.065\n",
      "mnth_May                                        0.0159      0.018      0.869      0.385      -0.020       0.052\n",
      "==============================================================================\n",
      "Omnibus:                       59.774   Durbin-Watson:                   2.022\n",
      "Prob(Omnibus):                  0.000   Jarque-Bera (JB):              155.324\n",
      "Skew:                          -0.590   Prob(JB):                     1.87e-34\n",
      "Kurtosis:                       5.432   Cond. No.                         9.34\n",
      "==============================================================================\n",
      "\n",
      "Notes:\n",
      "[1] Standard Errors assume that the covariance matrix of the errors is correctly specified.\n"
     ]
    }
   ],
   "source": [
    "#Adding a constant variable\n",
    "X_train_rfe12 = sm.add_constant(X_train_rfe)\n",
    "\n",
    "#Running the linear model\n",
    "lr12 = sm.OLS(y_train , X_train_rfe12).fit()\n",
    "\n",
    "#print the summary of linear model obtained\n",
    "print(lr12.summary())"
   ]
  },
  {
   "cell_type": "code",
   "execution_count": 81,
   "metadata": {},
   "outputs": [
    {
     "data": {
      "text/html": [
       "<div>\n",
       "<style scoped>\n",
       "    .dataframe tbody tr th:only-of-type {\n",
       "        vertical-align: middle;\n",
       "    }\n",
       "\n",
       "    .dataframe tbody tr th {\n",
       "        vertical-align: top;\n",
       "    }\n",
       "\n",
       "    .dataframe thead th {\n",
       "        text-align: right;\n",
       "    }\n",
       "</style>\n",
       "<table border=\"1\" class=\"dataframe\">\n",
       "  <thead>\n",
       "    <tr style=\"text-align: right;\">\n",
       "      <th></th>\n",
       "      <th>Features</th>\n",
       "      <th>VIF</th>\n",
       "    </tr>\n",
       "  </thead>\n",
       "  <tbody>\n",
       "    <tr>\n",
       "      <th>2</th>\n",
       "      <td>atemp</td>\n",
       "      <td>3.95</td>\n",
       "    </tr>\n",
       "    <tr>\n",
       "      <th>3</th>\n",
       "      <td>season_summer</td>\n",
       "      <td>2.23</td>\n",
       "    </tr>\n",
       "    <tr>\n",
       "      <th>0</th>\n",
       "      <td>yr</td>\n",
       "      <td>1.95</td>\n",
       "    </tr>\n",
       "    <tr>\n",
       "      <th>9</th>\n",
       "      <td>mnth_May</td>\n",
       "      <td>1.55</td>\n",
       "    </tr>\n",
       "    <tr>\n",
       "      <th>5</th>\n",
       "      <td>mnth_Aug</td>\n",
       "      <td>1.53</td>\n",
       "    </tr>\n",
       "    <tr>\n",
       "      <th>4</th>\n",
       "      <td>season_winter</td>\n",
       "      <td>1.49</td>\n",
       "    </tr>\n",
       "    <tr>\n",
       "      <th>8</th>\n",
       "      <td>weathersit_Mist+Cloudy</td>\n",
       "      <td>1.44</td>\n",
       "    </tr>\n",
       "    <tr>\n",
       "      <th>6</th>\n",
       "      <td>mnth_Sept</td>\n",
       "      <td>1.29</td>\n",
       "    </tr>\n",
       "    <tr>\n",
       "      <th>7</th>\n",
       "      <td>weathersit_LightSnow_LightRain+Thunderstorm</td>\n",
       "      <td>1.06</td>\n",
       "    </tr>\n",
       "    <tr>\n",
       "      <th>1</th>\n",
       "      <td>holiday</td>\n",
       "      <td>1.03</td>\n",
       "    </tr>\n",
       "  </tbody>\n",
       "</table>\n",
       "</div>"
      ],
      "text/plain": [
       "                                      Features   VIF\n",
       "2                                        atemp  3.95\n",
       "3                                season_summer  2.23\n",
       "0                                           yr  1.95\n",
       "9                                     mnth_May  1.55\n",
       "5                                     mnth_Aug  1.53\n",
       "4                                season_winter  1.49\n",
       "8                       weathersit_Mist+Cloudy  1.44\n",
       "6                                    mnth_Sept  1.29\n",
       "7  weathersit_LightSnow_LightRain+Thunderstorm  1.06\n",
       "1                                      holiday  1.03"
      ]
     },
     "execution_count": 81,
     "metadata": {},
     "output_type": "execute_result"
    }
   ],
   "source": [
    "#Checking VIF values again\n",
    "vif = pd.DataFrame()\n",
    "X = X_train_rfe\n",
    "\n",
    "vif['Features'] = X.columns\n",
    "vif[\"VIF\"] = [variance_inflation_factor(X.values , i) for i in range(X.shape[1])]\n",
    "vif[\"VIF\"] = round(vif[\"VIF\"] , 2)\n",
    "vif = vif.sort_values(by = \"VIF\" , ascending = False)\n",
    "vif"
   ]
  },
  {
   "cell_type": "markdown",
   "metadata": {},
   "source": [
    "- Adding **`\"mnth_May\"`** increases p-value for itself only which is not acceptable, hence we'll drop it."
   ]
  },
  {
   "cell_type": "code",
   "execution_count": 82,
   "metadata": {},
   "outputs": [],
   "source": [
    "#Dropping the column \"weekday_Tuesday\"\n",
    "X_train_rfe.drop(['mnth_May'], axis = 1, inplace=True)"
   ]
  },
  {
   "cell_type": "markdown",
   "metadata": {},
   "source": [
    "## Model 13"
   ]
  },
  {
   "cell_type": "markdown",
   "metadata": {},
   "source": [
    "- Adding **`\"mnth_June\"`** and see how it impacts on model significance."
   ]
  },
  {
   "cell_type": "code",
   "execution_count": 83,
   "metadata": {},
   "outputs": [],
   "source": [
    "## Adding \"mnth_June\"\n",
    "X_train_rfe['mnth_June'] = X_train['mnth_June']"
   ]
  },
  {
   "cell_type": "code",
   "execution_count": 84,
   "metadata": {},
   "outputs": [
    {
     "name": "stdout",
     "output_type": "stream",
     "text": [
      "                            OLS Regression Results                            \n",
      "==============================================================================\n",
      "Dep. Variable:                    cnt   R-squared:                       0.820\n",
      "Model:                            OLS   Adj. R-squared:                  0.817\n",
      "Method:                 Least Squares   F-statistic:                     227.8\n",
      "Date:                Mon, 05 Apr 2021   Prob (F-statistic):          7.63e-179\n",
      "Time:                        20:21:46   Log-Likelihood:                 476.23\n",
      "No. Observations:                 510   AIC:                            -930.5\n",
      "Df Residuals:                     499   BIC:                            -883.9\n",
      "Df Model:                          10                                         \n",
      "Covariance Type:            nonrobust                                         \n",
      "===============================================================================================================\n",
      "                                                  coef    std err          t      P>|t|      [0.025      0.975]\n",
      "---------------------------------------------------------------------------------------------------------------\n",
      "const                                           0.0745      0.014      5.382      0.000       0.047       0.102\n",
      "yr                                              0.2324      0.009     27.077      0.000       0.216       0.249\n",
      "holiday                                        -0.0957      0.027     -3.516      0.000      -0.149      -0.042\n",
      "atemp                                           0.5532      0.025     22.055      0.000       0.504       0.603\n",
      "season_summer                                   0.0924      0.012      7.943      0.000       0.070       0.115\n",
      "season_winter                                   0.1400      0.011     12.689      0.000       0.118       0.162\n",
      "mnth_Aug                                        0.0745      0.018      4.242      0.000       0.040       0.109\n",
      "mnth_Sept                                       0.1291      0.017      7.442      0.000       0.095       0.163\n",
      "weathersit_LightSnow_LightRain+Thunderstorm    -0.2885      0.026    -11.218      0.000      -0.339      -0.238\n",
      "weathersit_Mist+Cloudy                         -0.0815      0.009     -8.859      0.000      -0.100      -0.063\n",
      "mnth_June                                       0.0161      0.018      0.892      0.373      -0.019       0.052\n",
      "==============================================================================\n",
      "Omnibus:                       58.864   Durbin-Watson:                   2.025\n",
      "Prob(Omnibus):                  0.000   Jarque-Bera (JB):              150.009\n",
      "Skew:                          -0.587   Prob(JB):                     2.67e-33\n",
      "Kurtosis:                       5.383   Cond. No.                         9.89\n",
      "==============================================================================\n",
      "\n",
      "Notes:\n",
      "[1] Standard Errors assume that the covariance matrix of the errors is correctly specified.\n"
     ]
    }
   ],
   "source": [
    "#Adding a constant variable\n",
    "X_train_rfe13 = sm.add_constant(X_train_rfe)\n",
    "\n",
    "#Running the linear model\n",
    "lr13 = sm.OLS(y_train , X_train_rfe13).fit()\n",
    "\n",
    "#print the summary of linear model obtained\n",
    "print(lr13.summary())"
   ]
  },
  {
   "cell_type": "code",
   "execution_count": 85,
   "metadata": {
    "scrolled": false
   },
   "outputs": [
    {
     "data": {
      "text/html": [
       "<div>\n",
       "<style scoped>\n",
       "    .dataframe tbody tr th:only-of-type {\n",
       "        vertical-align: middle;\n",
       "    }\n",
       "\n",
       "    .dataframe tbody tr th {\n",
       "        vertical-align: top;\n",
       "    }\n",
       "\n",
       "    .dataframe thead th {\n",
       "        text-align: right;\n",
       "    }\n",
       "</style>\n",
       "<table border=\"1\" class=\"dataframe\">\n",
       "  <thead>\n",
       "    <tr style=\"text-align: right;\">\n",
       "      <th></th>\n",
       "      <th>Features</th>\n",
       "      <th>VIF</th>\n",
       "    </tr>\n",
       "  </thead>\n",
       "  <tbody>\n",
       "    <tr>\n",
       "      <th>2</th>\n",
       "      <td>atemp</td>\n",
       "      <td>4.47</td>\n",
       "    </tr>\n",
       "    <tr>\n",
       "      <th>0</th>\n",
       "      <td>yr</td>\n",
       "      <td>1.94</td>\n",
       "    </tr>\n",
       "    <tr>\n",
       "      <th>3</th>\n",
       "      <td>season_summer</td>\n",
       "      <td>1.80</td>\n",
       "    </tr>\n",
       "    <tr>\n",
       "      <th>5</th>\n",
       "      <td>mnth_Aug</td>\n",
       "      <td>1.60</td>\n",
       "    </tr>\n",
       "    <tr>\n",
       "      <th>4</th>\n",
       "      <td>season_winter</td>\n",
       "      <td>1.52</td>\n",
       "    </tr>\n",
       "    <tr>\n",
       "      <th>8</th>\n",
       "      <td>weathersit_Mist+Cloudy</td>\n",
       "      <td>1.46</td>\n",
       "    </tr>\n",
       "    <tr>\n",
       "      <th>6</th>\n",
       "      <td>mnth_Sept</td>\n",
       "      <td>1.32</td>\n",
       "    </tr>\n",
       "    <tr>\n",
       "      <th>9</th>\n",
       "      <td>mnth_June</td>\n",
       "      <td>1.32</td>\n",
       "    </tr>\n",
       "    <tr>\n",
       "      <th>7</th>\n",
       "      <td>weathersit_LightSnow_LightRain+Thunderstorm</td>\n",
       "      <td>1.06</td>\n",
       "    </tr>\n",
       "    <tr>\n",
       "      <th>1</th>\n",
       "      <td>holiday</td>\n",
       "      <td>1.03</td>\n",
       "    </tr>\n",
       "  </tbody>\n",
       "</table>\n",
       "</div>"
      ],
      "text/plain": [
       "                                      Features   VIF\n",
       "2                                        atemp  4.47\n",
       "0                                           yr  1.94\n",
       "3                                season_summer  1.80\n",
       "5                                     mnth_Aug  1.60\n",
       "4                                season_winter  1.52\n",
       "8                       weathersit_Mist+Cloudy  1.46\n",
       "6                                    mnth_Sept  1.32\n",
       "9                                    mnth_June  1.32\n",
       "7  weathersit_LightSnow_LightRain+Thunderstorm  1.06\n",
       "1                                      holiday  1.03"
      ]
     },
     "execution_count": 85,
     "metadata": {},
     "output_type": "execute_result"
    }
   ],
   "source": [
    "#Checking VIF values again\n",
    "vif = pd.DataFrame()\n",
    "X = X_train_rfe\n",
    "\n",
    "vif['Features'] = X.columns\n",
    "vif[\"VIF\"] = [variance_inflation_factor(X.values , i) for i in range(X.shape[1])]\n",
    "vif[\"VIF\"] = round(vif[\"VIF\"] , 2)\n",
    "vif = vif.sort_values(by = \"VIF\" , ascending = False)\n",
    "vif"
   ]
  },
  {
   "cell_type": "markdown",
   "metadata": {},
   "source": [
    "- Adding **`\"mnth_June\"`** doesn't have much impact on the model significance. But it increases p-value for itself and VIF value for \"atemp\" which is not acceptable, hence we'll drop it."
   ]
  },
  {
   "cell_type": "code",
   "execution_count": 86,
   "metadata": {},
   "outputs": [],
   "source": [
    "#Dropping the column \"weekday_Monday\"\n",
    "X_train_rfe.drop(['mnth_June'], axis = 1, inplace=True)"
   ]
  },
  {
   "cell_type": "markdown",
   "metadata": {},
   "source": [
    "## Model 14"
   ]
  },
  {
   "cell_type": "markdown",
   "metadata": {},
   "source": [
    "- Adding **`\"weekday_Tuesday\"`** column and see how it impacts on model significance."
   ]
  },
  {
   "cell_type": "code",
   "execution_count": 87,
   "metadata": {},
   "outputs": [],
   "source": [
    "## Adding \"weekday_Tuesday\"\n",
    "X_train_rfe['weekday_Tuesday'] = X_train['weekday_Tuesday']"
   ]
  },
  {
   "cell_type": "code",
   "execution_count": 88,
   "metadata": {},
   "outputs": [
    {
     "name": "stdout",
     "output_type": "stream",
     "text": [
      "                            OLS Regression Results                            \n",
      "==============================================================================\n",
      "Dep. Variable:                    cnt   R-squared:                       0.822\n",
      "Model:                            OLS   Adj. R-squared:                  0.819\n",
      "Method:                 Least Squares   F-statistic:                     230.9\n",
      "Date:                Mon, 05 Apr 2021   Prob (F-statistic):          5.05e-180\n",
      "Time:                        20:21:47   Log-Likelihood:                 479.02\n",
      "No. Observations:                 510   AIC:                            -936.0\n",
      "Df Residuals:                     499   BIC:                            -889.5\n",
      "Df Model:                          10                                         \n",
      "Covariance Type:            nonrobust                                         \n",
      "===============================================================================================================\n",
      "                                                  coef    std err          t      P>|t|      [0.025      0.975]\n",
      "---------------------------------------------------------------------------------------------------------------\n",
      "const                                           0.0761      0.014      5.562      0.000       0.049       0.103\n",
      "yr                                              0.2327      0.009     27.264      0.000       0.216       0.250\n",
      "holiday                                        -0.0941      0.027     -3.474      0.001      -0.147      -0.041\n",
      "atemp                                           0.5630      0.023     23.962      0.000       0.517       0.609\n",
      "season_summer                                   0.0930      0.012      8.076      0.000       0.070       0.116\n",
      "season_winter                                   0.1400      0.011     12.811      0.000       0.119       0.161\n",
      "mnth_Aug                                        0.0681      0.017      3.991      0.000       0.035       0.102\n",
      "mnth_Sept                                       0.1256      0.017      7.383      0.000       0.092       0.159\n",
      "weathersit_LightSnow_LightRain+Thunderstorm    -0.2923      0.026    -11.426      0.000      -0.343      -0.242\n",
      "weathersit_Mist+Cloudy                         -0.0822      0.009     -9.000      0.000      -0.100      -0.064\n",
      "weekday_Tuesday                                -0.0297      0.012     -2.507      0.013      -0.053      -0.006\n",
      "==============================================================================\n",
      "Omnibus:                       58.607   Durbin-Watson:                   2.020\n",
      "Prob(Omnibus):                  0.000   Jarque-Bera (JB):              140.544\n",
      "Skew:                          -0.605   Prob(JB):                     3.03e-31\n",
      "Kurtosis:                       5.270   Cond. No.                         9.33\n",
      "==============================================================================\n",
      "\n",
      "Notes:\n",
      "[1] Standard Errors assume that the covariance matrix of the errors is correctly specified.\n"
     ]
    }
   ],
   "source": [
    "#Adding a constant variable\n",
    "X_train_rfe14 = sm.add_constant(X_train_rfe)\n",
    "\n",
    "#Running the linear model\n",
    "lr14 = sm.OLS(y_train , X_train_rfe14).fit()\n",
    "\n",
    "#print the summary of linear model obtained\n",
    "print(lr14.summary())"
   ]
  },
  {
   "cell_type": "code",
   "execution_count": 89,
   "metadata": {},
   "outputs": [
    {
     "data": {
      "text/html": [
       "<div>\n",
       "<style scoped>\n",
       "    .dataframe tbody tr th:only-of-type {\n",
       "        vertical-align: middle;\n",
       "    }\n",
       "\n",
       "    .dataframe tbody tr th {\n",
       "        vertical-align: top;\n",
       "    }\n",
       "\n",
       "    .dataframe thead th {\n",
       "        text-align: right;\n",
       "    }\n",
       "</style>\n",
       "<table border=\"1\" class=\"dataframe\">\n",
       "  <thead>\n",
       "    <tr style=\"text-align: right;\">\n",
       "      <th></th>\n",
       "      <th>Features</th>\n",
       "      <th>VIF</th>\n",
       "    </tr>\n",
       "  </thead>\n",
       "  <tbody>\n",
       "    <tr>\n",
       "      <th>2</th>\n",
       "      <td>atemp</td>\n",
       "      <td>4.04</td>\n",
       "    </tr>\n",
       "    <tr>\n",
       "      <th>0</th>\n",
       "      <td>yr</td>\n",
       "      <td>1.94</td>\n",
       "    </tr>\n",
       "    <tr>\n",
       "      <th>3</th>\n",
       "      <td>season_summer</td>\n",
       "      <td>1.79</td>\n",
       "    </tr>\n",
       "    <tr>\n",
       "      <th>5</th>\n",
       "      <td>mnth_Aug</td>\n",
       "      <td>1.54</td>\n",
       "    </tr>\n",
       "    <tr>\n",
       "      <th>4</th>\n",
       "      <td>season_winter</td>\n",
       "      <td>1.49</td>\n",
       "    </tr>\n",
       "    <tr>\n",
       "      <th>8</th>\n",
       "      <td>weathersit_Mist+Cloudy</td>\n",
       "      <td>1.44</td>\n",
       "    </tr>\n",
       "    <tr>\n",
       "      <th>6</th>\n",
       "      <td>mnth_Sept</td>\n",
       "      <td>1.29</td>\n",
       "    </tr>\n",
       "    <tr>\n",
       "      <th>9</th>\n",
       "      <td>weekday_Tuesday</td>\n",
       "      <td>1.18</td>\n",
       "    </tr>\n",
       "    <tr>\n",
       "      <th>7</th>\n",
       "      <td>weathersit_LightSnow_LightRain+Thunderstorm</td>\n",
       "      <td>1.06</td>\n",
       "    </tr>\n",
       "    <tr>\n",
       "      <th>1</th>\n",
       "      <td>holiday</td>\n",
       "      <td>1.03</td>\n",
       "    </tr>\n",
       "  </tbody>\n",
       "</table>\n",
       "</div>"
      ],
      "text/plain": [
       "                                      Features   VIF\n",
       "2                                        atemp  4.04\n",
       "0                                           yr  1.94\n",
       "3                                season_summer  1.79\n",
       "5                                     mnth_Aug  1.54\n",
       "4                                season_winter  1.49\n",
       "8                       weathersit_Mist+Cloudy  1.44\n",
       "6                                    mnth_Sept  1.29\n",
       "9                              weekday_Tuesday  1.18\n",
       "7  weathersit_LightSnow_LightRain+Thunderstorm  1.06\n",
       "1                                      holiday  1.03"
      ]
     },
     "execution_count": 89,
     "metadata": {},
     "output_type": "execute_result"
    }
   ],
   "source": [
    "#Checking VIF values \n",
    "vif = pd.DataFrame()\n",
    "X = X_train_rfe\n",
    "\n",
    "vif['Features'] = X.columns\n",
    "vif[\"VIF\"] = [variance_inflation_factor(X.values , i) for i in range(X.shape[1])]\n",
    "vif[\"VIF\"] = round(vif[\"VIF\"] , 2)\n",
    "vif = vif.sort_values(by = \"VIF\" , ascending = False)\n",
    "vif"
   ]
  },
  {
   "cell_type": "markdown",
   "metadata": {},
   "source": [
    "- Adding **`\"weekday_Tuesday\"`** doesn't have much impact on the model significane.But increases p-value and VIF value.Hence we'll drop it."
   ]
  },
  {
   "cell_type": "code",
   "execution_count": 90,
   "metadata": {},
   "outputs": [],
   "source": [
    "#Dropping the column \"weekday_Tuesday\"\n",
    "X_train_rfe.drop(['weekday_Tuesday'], axis = 1, inplace=True)"
   ]
  },
  {
   "cell_type": "markdown",
   "metadata": {},
   "source": [
    "## Model 15"
   ]
  },
  {
   "cell_type": "markdown",
   "metadata": {},
   "source": [
    "- Adding **`\"weekday_Monday\"`** and see how it impacts the model"
   ]
  },
  {
   "cell_type": "code",
   "execution_count": 91,
   "metadata": {},
   "outputs": [],
   "source": [
    "## Adding \"weekday_Monday\"\n",
    "X_train_rfe['weekday_Monday'] = X_train['weekday_Monday']"
   ]
  },
  {
   "cell_type": "code",
   "execution_count": 92,
   "metadata": {},
   "outputs": [
    {
     "name": "stdout",
     "output_type": "stream",
     "text": [
      "                            OLS Regression Results                            \n",
      "==============================================================================\n",
      "Dep. Variable:                    cnt   R-squared:                       0.822\n",
      "Model:                            OLS   Adj. R-squared:                  0.818\n",
      "Method:                 Least Squares   F-statistic:                     229.7\n",
      "Date:                Mon, 05 Apr 2021   Prob (F-statistic):          1.46e-179\n",
      "Time:                        20:21:48   Log-Likelihood:                 477.93\n",
      "No. Observations:                 510   AIC:                            -933.9\n",
      "Df Residuals:                     499   BIC:                            -887.3\n",
      "Df Model:                          10                                         \n",
      "Covariance Type:            nonrobust                                         \n",
      "===============================================================================================================\n",
      "                                                  coef    std err          t      P>|t|      [0.025      0.975]\n",
      "---------------------------------------------------------------------------------------------------------------\n",
      "const                                           0.0778      0.014      5.610      0.000       0.051       0.105\n",
      "yr                                              0.2317      0.009     27.077      0.000       0.215       0.248\n",
      "holiday                                        -0.1002      0.027     -3.684      0.000      -0.154      -0.047\n",
      "atemp                                           0.5590      0.024     23.742      0.000       0.513       0.605\n",
      "season_summer                                   0.0932      0.012      8.076      0.000       0.071       0.116\n",
      "season_winter                                   0.1393      0.011     12.724      0.000       0.118       0.161\n",
      "mnth_Aug                                        0.0716      0.017      4.199      0.000       0.038       0.105\n",
      "mnth_Sept                                       0.1261      0.017      7.399      0.000       0.093       0.160\n",
      "weathersit_LightSnow_LightRain+Thunderstorm    -0.2888      0.026    -11.275      0.000      -0.339      -0.238\n",
      "weathersit_Mist+Cloudy                         -0.0828      0.009     -9.037      0.000      -0.101      -0.065\n",
      "weekday_Monday                                 -0.0240      0.012     -2.032      0.043      -0.047      -0.001\n",
      "==============================================================================\n",
      "Omnibus:                       56.453   Durbin-Watson:                   2.017\n",
      "Prob(Omnibus):                  0.000   Jarque-Bera (JB):              145.961\n",
      "Skew:                          -0.558   Prob(JB):                     2.02e-32\n",
      "Kurtosis:                       5.371   Cond. No.                         9.37\n",
      "==============================================================================\n",
      "\n",
      "Notes:\n",
      "[1] Standard Errors assume that the covariance matrix of the errors is correctly specified.\n"
     ]
    }
   ],
   "source": [
    "#Adding a constant variable\n",
    "X_train_rfe15 = sm.add_constant(X_train_rfe)\n",
    "\n",
    "#Running the linear model\n",
    "lr15 = sm.OLS(y_train , X_train_rfe15).fit()\n",
    "\n",
    "#print the summary of linear regression model built\n",
    "print(lr15.summary())"
   ]
  },
  {
   "cell_type": "code",
   "execution_count": 93,
   "metadata": {},
   "outputs": [
    {
     "data": {
      "text/html": [
       "<div>\n",
       "<style scoped>\n",
       "    .dataframe tbody tr th:only-of-type {\n",
       "        vertical-align: middle;\n",
       "    }\n",
       "\n",
       "    .dataframe tbody tr th {\n",
       "        vertical-align: top;\n",
       "    }\n",
       "\n",
       "    .dataframe thead th {\n",
       "        text-align: right;\n",
       "    }\n",
       "</style>\n",
       "<table border=\"1\" class=\"dataframe\">\n",
       "  <thead>\n",
       "    <tr style=\"text-align: right;\">\n",
       "      <th></th>\n",
       "      <th>Features</th>\n",
       "      <th>VIF</th>\n",
       "    </tr>\n",
       "  </thead>\n",
       "  <tbody>\n",
       "    <tr>\n",
       "      <th>2</th>\n",
       "      <td>atemp</td>\n",
       "      <td>4.02</td>\n",
       "    </tr>\n",
       "    <tr>\n",
       "      <th>0</th>\n",
       "      <td>yr</td>\n",
       "      <td>1.94</td>\n",
       "    </tr>\n",
       "    <tr>\n",
       "      <th>3</th>\n",
       "      <td>season_summer</td>\n",
       "      <td>1.79</td>\n",
       "    </tr>\n",
       "    <tr>\n",
       "      <th>5</th>\n",
       "      <td>mnth_Aug</td>\n",
       "      <td>1.53</td>\n",
       "    </tr>\n",
       "    <tr>\n",
       "      <th>4</th>\n",
       "      <td>season_winter</td>\n",
       "      <td>1.49</td>\n",
       "    </tr>\n",
       "    <tr>\n",
       "      <th>8</th>\n",
       "      <td>weathersit_Mist+Cloudy</td>\n",
       "      <td>1.44</td>\n",
       "    </tr>\n",
       "    <tr>\n",
       "      <th>6</th>\n",
       "      <td>mnth_Sept</td>\n",
       "      <td>1.29</td>\n",
       "    </tr>\n",
       "    <tr>\n",
       "      <th>9</th>\n",
       "      <td>weekday_Monday</td>\n",
       "      <td>1.15</td>\n",
       "    </tr>\n",
       "    <tr>\n",
       "      <th>7</th>\n",
       "      <td>weathersit_LightSnow_LightRain+Thunderstorm</td>\n",
       "      <td>1.06</td>\n",
       "    </tr>\n",
       "    <tr>\n",
       "      <th>1</th>\n",
       "      <td>holiday</td>\n",
       "      <td>1.03</td>\n",
       "    </tr>\n",
       "  </tbody>\n",
       "</table>\n",
       "</div>"
      ],
      "text/plain": [
       "                                      Features   VIF\n",
       "2                                        atemp  4.02\n",
       "0                                           yr  1.94\n",
       "3                                season_summer  1.79\n",
       "5                                     mnth_Aug  1.53\n",
       "4                                season_winter  1.49\n",
       "8                       weathersit_Mist+Cloudy  1.44\n",
       "6                                    mnth_Sept  1.29\n",
       "9                               weekday_Monday  1.15\n",
       "7  weathersit_LightSnow_LightRain+Thunderstorm  1.06\n",
       "1                                      holiday  1.03"
      ]
     },
     "execution_count": 93,
     "metadata": {},
     "output_type": "execute_result"
    }
   ],
   "source": [
    "#Checking VIF values again\n",
    "vif = pd.DataFrame()\n",
    "X = X_train_rfe\n",
    "\n",
    "vif['Features'] = X.columns\n",
    "vif[\"VIF\"] = [variance_inflation_factor(X.values , i) for i in range(X.shape[1])]\n",
    "vif[\"VIF\"] = round(vif[\"VIF\"] , 2)\n",
    "vif = vif.sort_values(by = \"VIF\" , ascending = False)\n",
    "vif"
   ]
  },
  {
   "cell_type": "markdown",
   "metadata": {},
   "source": [
    "- Adding **`\"weekday_Monday\"`** doesn't have much effect on  model significance ."
   ]
  },
  {
   "cell_type": "code",
   "execution_count": 94,
   "metadata": {},
   "outputs": [],
   "source": [
    "#Dropping the column\n",
    "X_train_rfe.drop(['weekday_Monday'], axis = 1, inplace=True)"
   ]
  },
  {
   "cell_type": "markdown",
   "metadata": {},
   "source": [
    "## Model 16"
   ]
  },
  {
   "cell_type": "markdown",
   "metadata": {},
   "source": [
    "- Adding **`\"mnth_July\"`** and see how it impacts the model significance."
   ]
  },
  {
   "cell_type": "code",
   "execution_count": 95,
   "metadata": {},
   "outputs": [],
   "source": [
    "## Adding \"mnth_July\"\n",
    "X_train_rfe['mnth_July'] = X_train['mnth_July']"
   ]
  },
  {
   "cell_type": "code",
   "execution_count": 96,
   "metadata": {},
   "outputs": [
    {
     "name": "stdout",
     "output_type": "stream",
     "text": [
      "                            OLS Regression Results                            \n",
      "==============================================================================\n",
      "Dep. Variable:                    cnt   R-squared:                       0.820\n",
      "Model:                            OLS   Adj. R-squared:                  0.816\n",
      "Method:                 Least Squares   F-statistic:                     227.4\n",
      "Date:                Mon, 05 Apr 2021   Prob (F-statistic):          1.09e-178\n",
      "Time:                        20:21:49   Log-Likelihood:                 475.87\n",
      "No. Observations:                 510   AIC:                            -929.7\n",
      "Df Residuals:                     499   BIC:                            -883.2\n",
      "Df Model:                          10                                         \n",
      "Covariance Type:            nonrobust                                         \n",
      "===============================================================================================================\n",
      "                                                  coef    std err          t      P>|t|      [0.025      0.975]\n",
      "---------------------------------------------------------------------------------------------------------------\n",
      "const                                           0.0736      0.014      5.212      0.000       0.046       0.101\n",
      "yr                                              0.2323      0.009     27.039      0.000       0.215       0.249\n",
      "holiday                                        -0.0959      0.027     -3.517      0.000      -0.149      -0.042\n",
      "atemp                                           0.5553      0.030     18.266      0.000       0.496       0.615\n",
      "season_summer                                   0.0954      0.014      7.010      0.000       0.069       0.122\n",
      "season_winter                                   0.1402      0.012     11.952      0.000       0.117       0.163\n",
      "mnth_Aug                                        0.0741      0.020      3.673      0.000       0.034       0.114\n",
      "mnth_Sept                                       0.1288      0.019      6.808      0.000       0.092       0.166\n",
      "weathersit_LightSnow_LightRain+Thunderstorm    -0.2895      0.026    -11.255      0.000      -0.340      -0.239\n",
      "weathersit_Mist+Cloudy                         -0.0820      0.009     -8.925      0.000      -0.100      -0.064\n",
      "mnth_July                                       0.0065      0.022      0.287      0.774      -0.038       0.051\n",
      "==============================================================================\n",
      "Omnibus:                       59.770   Durbin-Watson:                   2.025\n",
      "Prob(Omnibus):                  0.000   Jarque-Bera (JB):              151.502\n",
      "Skew:                          -0.598   Prob(JB):                     1.26e-33\n",
      "Kurtosis:                       5.387   Cond. No.                         13.1\n",
      "==============================================================================\n",
      "\n",
      "Notes:\n",
      "[1] Standard Errors assume that the covariance matrix of the errors is correctly specified.\n"
     ]
    }
   ],
   "source": [
    "#Adding a constant variable\n",
    "X_train_rfe16 = sm.add_constant(X_train_rfe)\n",
    "\n",
    "#Running the linear model\n",
    "lr16 = sm.OLS(y_train , X_train_rfe16).fit()\n",
    "\n",
    "#print the summary of linear regression model obtained\n",
    "print(lr16.summary())"
   ]
  },
  {
   "cell_type": "code",
   "execution_count": 97,
   "metadata": {},
   "outputs": [
    {
     "data": {
      "text/html": [
       "<div>\n",
       "<style scoped>\n",
       "    .dataframe tbody tr th:only-of-type {\n",
       "        vertical-align: middle;\n",
       "    }\n",
       "\n",
       "    .dataframe tbody tr th {\n",
       "        vertical-align: top;\n",
       "    }\n",
       "\n",
       "    .dataframe thead th {\n",
       "        text-align: right;\n",
       "    }\n",
       "</style>\n",
       "<table border=\"1\" class=\"dataframe\">\n",
       "  <thead>\n",
       "    <tr style=\"text-align: right;\">\n",
       "      <th></th>\n",
       "      <th>Features</th>\n",
       "      <th>VIF</th>\n",
       "    </tr>\n",
       "  </thead>\n",
       "  <tbody>\n",
       "    <tr>\n",
       "      <th>2</th>\n",
       "      <td>atemp</td>\n",
       "      <td>7.28</td>\n",
       "    </tr>\n",
       "    <tr>\n",
       "      <th>3</th>\n",
       "      <td>season_summer</td>\n",
       "      <td>2.50</td>\n",
       "    </tr>\n",
       "    <tr>\n",
       "      <th>5</th>\n",
       "      <td>mnth_Aug</td>\n",
       "      <td>2.03</td>\n",
       "    </tr>\n",
       "    <tr>\n",
       "      <th>9</th>\n",
       "      <td>mnth_July</td>\n",
       "      <td>2.00</td>\n",
       "    </tr>\n",
       "    <tr>\n",
       "      <th>0</th>\n",
       "      <td>yr</td>\n",
       "      <td>1.95</td>\n",
       "    </tr>\n",
       "    <tr>\n",
       "      <th>4</th>\n",
       "      <td>season_winter</td>\n",
       "      <td>1.81</td>\n",
       "    </tr>\n",
       "    <tr>\n",
       "      <th>6</th>\n",
       "      <td>mnth_Sept</td>\n",
       "      <td>1.53</td>\n",
       "    </tr>\n",
       "    <tr>\n",
       "      <th>8</th>\n",
       "      <td>weathersit_Mist+Cloudy</td>\n",
       "      <td>1.45</td>\n",
       "    </tr>\n",
       "    <tr>\n",
       "      <th>7</th>\n",
       "      <td>weathersit_LightSnow_LightRain+Thunderstorm</td>\n",
       "      <td>1.06</td>\n",
       "    </tr>\n",
       "    <tr>\n",
       "      <th>1</th>\n",
       "      <td>holiday</td>\n",
       "      <td>1.03</td>\n",
       "    </tr>\n",
       "  </tbody>\n",
       "</table>\n",
       "</div>"
      ],
      "text/plain": [
       "                                      Features   VIF\n",
       "2                                        atemp  7.28\n",
       "3                                season_summer  2.50\n",
       "5                                     mnth_Aug  2.03\n",
       "9                                    mnth_July  2.00\n",
       "0                                           yr  1.95\n",
       "4                                season_winter  1.81\n",
       "6                                    mnth_Sept  1.53\n",
       "8                       weathersit_Mist+Cloudy  1.45\n",
       "7  weathersit_LightSnow_LightRain+Thunderstorm  1.06\n",
       "1                                      holiday  1.03"
      ]
     },
     "execution_count": 97,
     "metadata": {},
     "output_type": "execute_result"
    }
   ],
   "source": [
    "#Checking VIF values again\n",
    "vif = pd.DataFrame()\n",
    "X = X_train_rfe\n",
    "\n",
    "vif['Features'] = X.columns\n",
    "vif[\"VIF\"] = [variance_inflation_factor(X.values , i) for i in range(X.shape[1])]\n",
    "vif[\"VIF\"] = round(vif[\"VIF\"] , 2)\n",
    "vif = vif.sort_values(by = \"VIF\" , ascending = False)\n",
    "vif"
   ]
  },
  {
   "cell_type": "markdown",
   "metadata": {},
   "source": [
    "- Adding **`\"mnth_July\"`** doesn't have any effect on model significance .But increases p-value and VIF value.Hence we'll drop it."
   ]
  },
  {
   "cell_type": "code",
   "execution_count": 98,
   "metadata": {},
   "outputs": [],
   "source": [
    "#Dropping \"mnth_July\"\n",
    "X_train_rfe.drop(['mnth_July'], axis = 1, inplace=True)"
   ]
  },
  {
   "cell_type": "markdown",
   "metadata": {},
   "source": [
    "## Model 17"
   ]
  },
  {
   "cell_type": "markdown",
   "metadata": {},
   "source": [
    "- Adding **`\"weekday_Wednesday\"`** and see how it impacts the model significance."
   ]
  },
  {
   "cell_type": "code",
   "execution_count": 99,
   "metadata": {},
   "outputs": [],
   "source": [
    "## Adding \"weekday_Wednesday\"\n",
    "X_train_rfe['weekday_Wednesday'] = X_train['weekday_Wednesday']"
   ]
  },
  {
   "cell_type": "code",
   "execution_count": 100,
   "metadata": {},
   "outputs": [
    {
     "name": "stdout",
     "output_type": "stream",
     "text": [
      "                            OLS Regression Results                            \n",
      "==============================================================================\n",
      "Dep. Variable:                    cnt   R-squared:                       0.820\n",
      "Model:                            OLS   Adj. R-squared:                  0.816\n",
      "Method:                 Least Squares   F-statistic:                     227.4\n",
      "Date:                Mon, 05 Apr 2021   Prob (F-statistic):          1.13e-178\n",
      "Time:                        20:21:50   Log-Likelihood:                 475.83\n",
      "No. Observations:                 510   AIC:                            -929.7\n",
      "Df Residuals:                     499   BIC:                            -883.1\n",
      "Df Model:                          10                                         \n",
      "Covariance Type:            nonrobust                                         \n",
      "===============================================================================================================\n",
      "                                                  coef    std err          t      P>|t|      [0.025      0.975]\n",
      "---------------------------------------------------------------------------------------------------------------\n",
      "const                                           0.0726      0.014      5.261      0.000       0.045       0.100\n",
      "yr                                              0.2322      0.009     27.037      0.000       0.215       0.249\n",
      "holiday                                        -0.0964      0.028     -3.475      0.001      -0.151      -0.042\n",
      "atemp                                           0.5608      0.024     23.723      0.000       0.514       0.607\n",
      "season_summer                                   0.0933      0.012      8.052      0.000       0.071       0.116\n",
      "season_winter                                   0.1390      0.011     12.636      0.000       0.117       0.161\n",
      "mnth_Aug                                        0.0710      0.017      4.140      0.000       0.037       0.105\n",
      "mnth_Sept                                       0.1265      0.017      7.391      0.000       0.093       0.160\n",
      "weathersit_LightSnow_LightRain+Thunderstorm    -0.2894      0.026    -11.251      0.000      -0.340      -0.239\n",
      "weathersit_Mist+Cloudy                         -0.0820      0.009     -8.926      0.000      -0.100      -0.064\n",
      "weekday_Wednesday                               0.0005      0.013      0.042      0.966      -0.024       0.026\n",
      "==============================================================================\n",
      "Omnibus:                       59.079   Durbin-Watson:                   2.023\n",
      "Prob(Omnibus):                  0.000   Jarque-Bera (JB):              149.761\n",
      "Skew:                          -0.591   Prob(JB):                     3.02e-33\n",
      "Kurtosis:                       5.377   Cond. No.                         9.33\n",
      "==============================================================================\n",
      "\n",
      "Notes:\n",
      "[1] Standard Errors assume that the covariance matrix of the errors is correctly specified.\n"
     ]
    }
   ],
   "source": [
    "#Adding a constant variable\n",
    "X_train_rfe17 = sm.add_constant(X_train_rfe)\n",
    "\n",
    "#Running the linear model\n",
    "lr17 = sm.OLS(y_train , X_train_rfe17).fit()\n",
    "\n",
    "#Print the summary of linear regression model obtained\n",
    "print(lr17.summary())"
   ]
  },
  {
   "cell_type": "code",
   "execution_count": 101,
   "metadata": {},
   "outputs": [
    {
     "data": {
      "text/html": [
       "<div>\n",
       "<style scoped>\n",
       "    .dataframe tbody tr th:only-of-type {\n",
       "        vertical-align: middle;\n",
       "    }\n",
       "\n",
       "    .dataframe tbody tr th {\n",
       "        vertical-align: top;\n",
       "    }\n",
       "\n",
       "    .dataframe thead th {\n",
       "        text-align: right;\n",
       "    }\n",
       "</style>\n",
       "<table border=\"1\" class=\"dataframe\">\n",
       "  <thead>\n",
       "    <tr style=\"text-align: right;\">\n",
       "      <th></th>\n",
       "      <th>Features</th>\n",
       "      <th>VIF</th>\n",
       "    </tr>\n",
       "  </thead>\n",
       "  <tbody>\n",
       "    <tr>\n",
       "      <th>2</th>\n",
       "      <td>atemp</td>\n",
       "      <td>3.94</td>\n",
       "    </tr>\n",
       "    <tr>\n",
       "      <th>0</th>\n",
       "      <td>yr</td>\n",
       "      <td>1.94</td>\n",
       "    </tr>\n",
       "    <tr>\n",
       "      <th>3</th>\n",
       "      <td>season_summer</td>\n",
       "      <td>1.79</td>\n",
       "    </tr>\n",
       "    <tr>\n",
       "      <th>5</th>\n",
       "      <td>mnth_Aug</td>\n",
       "      <td>1.53</td>\n",
       "    </tr>\n",
       "    <tr>\n",
       "      <th>4</th>\n",
       "      <td>season_winter</td>\n",
       "      <td>1.50</td>\n",
       "    </tr>\n",
       "    <tr>\n",
       "      <th>8</th>\n",
       "      <td>weathersit_Mist+Cloudy</td>\n",
       "      <td>1.44</td>\n",
       "    </tr>\n",
       "    <tr>\n",
       "      <th>6</th>\n",
       "      <td>mnth_Sept</td>\n",
       "      <td>1.29</td>\n",
       "    </tr>\n",
       "    <tr>\n",
       "      <th>9</th>\n",
       "      <td>weekday_Wednesday</td>\n",
       "      <td>1.19</td>\n",
       "    </tr>\n",
       "    <tr>\n",
       "      <th>1</th>\n",
       "      <td>holiday</td>\n",
       "      <td>1.07</td>\n",
       "    </tr>\n",
       "    <tr>\n",
       "      <th>7</th>\n",
       "      <td>weathersit_LightSnow_LightRain+Thunderstorm</td>\n",
       "      <td>1.06</td>\n",
       "    </tr>\n",
       "  </tbody>\n",
       "</table>\n",
       "</div>"
      ],
      "text/plain": [
       "                                      Features   VIF\n",
       "2                                        atemp  3.94\n",
       "0                                           yr  1.94\n",
       "3                                season_summer  1.79\n",
       "5                                     mnth_Aug  1.53\n",
       "4                                season_winter  1.50\n",
       "8                       weathersit_Mist+Cloudy  1.44\n",
       "6                                    mnth_Sept  1.29\n",
       "9                            weekday_Wednesday  1.19\n",
       "1                                      holiday  1.07\n",
       "7  weathersit_LightSnow_LightRain+Thunderstorm  1.06"
      ]
     },
     "execution_count": 101,
     "metadata": {},
     "output_type": "execute_result"
    }
   ],
   "source": [
    "#Checking VIF values \n",
    "vif = pd.DataFrame()\n",
    "X = X_train_rfe\n",
    "vif['Features'] = X.columns\n",
    "vif[\"VIF\"] = [variance_inflation_factor(X.values , i) for i in range(X.shape[1])]\n",
    "vif[\"VIF\"] = round(vif[\"VIF\"] , 2)\n",
    "vif = vif.sort_values(by = \"VIF\" , ascending = False)\n",
    "vif"
   ]
  },
  {
   "cell_type": "markdown",
   "metadata": {},
   "source": [
    "- Adding **\"weekday_Wednesday\"** doesn't have much impact on model significance.But increases p-value. Hence we'll drop it."
   ]
  },
  {
   "cell_type": "code",
   "execution_count": 102,
   "metadata": {},
   "outputs": [],
   "source": [
    "#Dropping \"weekday_Wednesday\"\n",
    "X_train_rfe.drop(['weekday_Wednesday'], axis = 1, inplace=True)"
   ]
  },
  {
   "cell_type": "markdown",
   "metadata": {},
   "source": [
    "## Model 18"
   ]
  },
  {
   "cell_type": "markdown",
   "metadata": {},
   "source": [
    "- Adding **`\"mnth_Oct\"`** and see how it impacts the model"
   ]
  },
  {
   "cell_type": "code",
   "execution_count": 103,
   "metadata": {},
   "outputs": [],
   "source": [
    "## Adding \"mnth_Oct\"\n",
    "X_train_rfe['mnth_Oct'] = X_train['mnth_Oct']"
   ]
  },
  {
   "cell_type": "code",
   "execution_count": 104,
   "metadata": {},
   "outputs": [
    {
     "name": "stdout",
     "output_type": "stream",
     "text": [
      "                            OLS Regression Results                            \n",
      "==============================================================================\n",
      "Dep. Variable:                    cnt   R-squared:                       0.821\n",
      "Model:                            OLS   Adj. R-squared:                  0.817\n",
      "Method:                 Least Squares   F-statistic:                     228.8\n",
      "Date:                Mon, 05 Apr 2021   Prob (F-statistic):          3.10e-179\n",
      "Time:                        20:21:51   Log-Likelihood:                 477.15\n",
      "No. Observations:                 510   AIC:                            -932.3\n",
      "Df Residuals:                     499   BIC:                            -885.7\n",
      "Df Model:                          10                                         \n",
      "Covariance Type:            nonrobust                                         \n",
      "===============================================================================================================\n",
      "                                                  coef    std err          t      P>|t|      [0.025      0.975]\n",
      "---------------------------------------------------------------------------------------------------------------\n",
      "const                                           0.0756      0.014      5.486      0.000       0.049       0.103\n",
      "yr                                              0.2324      0.009     27.135      0.000       0.216       0.249\n",
      "holiday                                        -0.0953      0.027     -3.505      0.000      -0.149      -0.042\n",
      "atemp                                           0.5536      0.024     23.078      0.000       0.506       0.601\n",
      "season_summer                                   0.0947      0.012      8.172      0.000       0.072       0.117\n",
      "season_winter                                   0.1290      0.013     10.247      0.000       0.104       0.154\n",
      "mnth_Aug                                        0.0736      0.017      4.287      0.000       0.040       0.107\n",
      "mnth_Sept                                       0.1309      0.017      7.572      0.000       0.097       0.165\n",
      "weathersit_LightSnow_LightRain+Thunderstorm    -0.2944      0.026    -11.393      0.000      -0.345      -0.244\n",
      "weathersit_Mist+Cloudy                         -0.0827      0.009     -9.015      0.000      -0.101      -0.065\n",
      "mnth_Oct                                        0.0298      0.018      1.615      0.107      -0.006       0.066\n",
      "==============================================================================\n",
      "Omnibus:                       65.765   Durbin-Watson:                   2.017\n",
      "Prob(Omnibus):                  0.000   Jarque-Bera (JB):              175.583\n",
      "Skew:                          -0.640   Prob(JB):                     7.46e-39\n",
      "Kurtosis:                       5.574   Cond. No.                         9.59\n",
      "==============================================================================\n",
      "\n",
      "Notes:\n",
      "[1] Standard Errors assume that the covariance matrix of the errors is correctly specified.\n"
     ]
    }
   ],
   "source": [
    "#Adding a constant variable\n",
    "X_train_rfe18 = sm.add_constant(X_train_rfe)\n",
    "\n",
    "#Running the linear model\n",
    "lr18 = sm.OLS(y_train , X_train_rfe18).fit()\n",
    "\n",
    "#Print the summary of linear regression model obtained\n",
    "print(lr18.summary())"
   ]
  },
  {
   "cell_type": "code",
   "execution_count": 105,
   "metadata": {},
   "outputs": [
    {
     "data": {
      "text/html": [
       "<div>\n",
       "<style scoped>\n",
       "    .dataframe tbody tr th:only-of-type {\n",
       "        vertical-align: middle;\n",
       "    }\n",
       "\n",
       "    .dataframe tbody tr th {\n",
       "        vertical-align: top;\n",
       "    }\n",
       "\n",
       "    .dataframe thead th {\n",
       "        text-align: right;\n",
       "    }\n",
       "</style>\n",
       "<table border=\"1\" class=\"dataframe\">\n",
       "  <thead>\n",
       "    <tr style=\"text-align: right;\">\n",
       "      <th></th>\n",
       "      <th>Features</th>\n",
       "      <th>VIF</th>\n",
       "    </tr>\n",
       "  </thead>\n",
       "  <tbody>\n",
       "    <tr>\n",
       "      <th>2</th>\n",
       "      <td>atemp</td>\n",
       "      <td>3.99</td>\n",
       "    </tr>\n",
       "    <tr>\n",
       "      <th>0</th>\n",
       "      <td>yr</td>\n",
       "      <td>1.94</td>\n",
       "    </tr>\n",
       "    <tr>\n",
       "      <th>4</th>\n",
       "      <td>season_winter</td>\n",
       "      <td>1.93</td>\n",
       "    </tr>\n",
       "    <tr>\n",
       "      <th>3</th>\n",
       "      <td>season_summer</td>\n",
       "      <td>1.81</td>\n",
       "    </tr>\n",
       "    <tr>\n",
       "      <th>9</th>\n",
       "      <td>mnth_Oct</td>\n",
       "      <td>1.60</td>\n",
       "    </tr>\n",
       "    <tr>\n",
       "      <th>5</th>\n",
       "      <td>mnth_Aug</td>\n",
       "      <td>1.54</td>\n",
       "    </tr>\n",
       "    <tr>\n",
       "      <th>8</th>\n",
       "      <td>weathersit_Mist+Cloudy</td>\n",
       "      <td>1.44</td>\n",
       "    </tr>\n",
       "    <tr>\n",
       "      <th>6</th>\n",
       "      <td>mnth_Sept</td>\n",
       "      <td>1.31</td>\n",
       "    </tr>\n",
       "    <tr>\n",
       "      <th>7</th>\n",
       "      <td>weathersit_LightSnow_LightRain+Thunderstorm</td>\n",
       "      <td>1.07</td>\n",
       "    </tr>\n",
       "    <tr>\n",
       "      <th>1</th>\n",
       "      <td>holiday</td>\n",
       "      <td>1.03</td>\n",
       "    </tr>\n",
       "  </tbody>\n",
       "</table>\n",
       "</div>"
      ],
      "text/plain": [
       "                                      Features   VIF\n",
       "2                                        atemp  3.99\n",
       "0                                           yr  1.94\n",
       "4                                season_winter  1.93\n",
       "3                                season_summer  1.81\n",
       "9                                     mnth_Oct  1.60\n",
       "5                                     mnth_Aug  1.54\n",
       "8                       weathersit_Mist+Cloudy  1.44\n",
       "6                                    mnth_Sept  1.31\n",
       "7  weathersit_LightSnow_LightRain+Thunderstorm  1.07\n",
       "1                                      holiday  1.03"
      ]
     },
     "execution_count": 105,
     "metadata": {},
     "output_type": "execute_result"
    }
   ],
   "source": [
    "#Checking VIF values \n",
    "vif = pd.DataFrame()\n",
    "X = X_train_rfe\n",
    "vif['Features'] = X.columns\n",
    "vif[\"VIF\"] = [variance_inflation_factor(X.values , i) for i in range(X.shape[1])]\n",
    "vif[\"VIF\"] = round(vif[\"VIF\"] , 2)\n",
    "vif = vif.sort_values(by = \"VIF\" , ascending = False)\n",
    "vif"
   ]
  },
  {
   "cell_type": "markdown",
   "metadata": {},
   "source": [
    "- Adding **`\"mnth_Oct\"`** increases p-value,Hence we'll drop it."
   ]
  },
  {
   "cell_type": "code",
   "execution_count": 106,
   "metadata": {},
   "outputs": [],
   "source": [
    "#Dropping \"mnth_Oct\"\n",
    "X_train_rfe.drop(['mnth_Oct'], axis = 1, inplace = True)"
   ]
  },
  {
   "cell_type": "markdown",
   "metadata": {},
   "source": [
    "## Model 19"
   ]
  },
  {
   "cell_type": "markdown",
   "metadata": {},
   "source": [
    "- Adding **`\"weekday_Thursday\"`** and see how it impacts model significance."
   ]
  },
  {
   "cell_type": "code",
   "execution_count": 107,
   "metadata": {},
   "outputs": [],
   "source": [
    "## Adding \"weekday_Thursday\"\n",
    "X_train_rfe['weekday_Thursday'] = X_train['weekday_Thursday']"
   ]
  },
  {
   "cell_type": "code",
   "execution_count": 108,
   "metadata": {},
   "outputs": [
    {
     "name": "stdout",
     "output_type": "stream",
     "text": [
      "                            OLS Regression Results                            \n",
      "==============================================================================\n",
      "Dep. Variable:                    cnt   R-squared:                       0.821\n",
      "Model:                            OLS   Adj. R-squared:                  0.817\n",
      "Method:                 Least Squares   F-statistic:                     228.1\n",
      "Date:                Mon, 05 Apr 2021   Prob (F-statistic):          5.75e-179\n",
      "Time:                        20:21:51   Log-Likelihood:                 476.52\n",
      "No. Observations:                 510   AIC:                            -931.0\n",
      "Df Residuals:                     499   BIC:                            -884.5\n",
      "Df Model:                          10                                         \n",
      "Covariance Type:            nonrobust                                         \n",
      "===============================================================================================================\n",
      "                                                  coef    std err          t      P>|t|      [0.025      0.975]\n",
      "---------------------------------------------------------------------------------------------------------------\n",
      "const                                           0.0711      0.014      5.172      0.000       0.044       0.098\n",
      "yr                                              0.2320      0.009     27.050      0.000       0.215       0.249\n",
      "holiday                                        -0.0942      0.027     -3.454      0.001      -0.148      -0.041\n",
      "atemp                                           0.5596      0.024     23.696      0.000       0.513       0.606\n",
      "season_summer                                   0.0927      0.012      8.005      0.000       0.070       0.115\n",
      "season_winter                                   0.1392      0.011     12.681      0.000       0.118       0.161\n",
      "mnth_Aug                                        0.0710      0.017      4.149      0.000       0.037       0.105\n",
      "mnth_Sept                                       0.1263      0.017      7.391      0.000       0.093       0.160\n",
      "weathersit_LightSnow_LightRain+Thunderstorm    -0.2871      0.026    -11.149      0.000      -0.338      -0.237\n",
      "weathersit_Mist+Cloudy                         -0.0813      0.009     -8.838      0.000      -0.099      -0.063\n",
      "weekday_Thursday                                0.0144      0.012      1.168      0.243      -0.010       0.039\n",
      "==============================================================================\n",
      "Omnibus:                       57.435   Durbin-Watson:                   2.019\n",
      "Prob(Omnibus):                  0.000   Jarque-Bera (JB):              146.913\n",
      "Skew:                          -0.572   Prob(JB):                     1.25e-32\n",
      "Kurtosis:                       5.368   Cond. No.                         9.33\n",
      "==============================================================================\n",
      "\n",
      "Notes:\n",
      "[1] Standard Errors assume that the covariance matrix of the errors is correctly specified.\n"
     ]
    }
   ],
   "source": [
    "#Adding a constant variable\n",
    "X_train_rfe19 = sm.add_constant(X_train_rfe)\n",
    "\n",
    "#Running the linear model\n",
    "lr19 = sm.OLS(y_train , X_train_rfe19).fit()\n",
    "\n",
    "#Print the summary of linear regression model obtained\n",
    "print(lr19.summary())"
   ]
  },
  {
   "cell_type": "code",
   "execution_count": 109,
   "metadata": {},
   "outputs": [
    {
     "data": {
      "text/html": [
       "<div>\n",
       "<style scoped>\n",
       "    .dataframe tbody tr th:only-of-type {\n",
       "        vertical-align: middle;\n",
       "    }\n",
       "\n",
       "    .dataframe tbody tr th {\n",
       "        vertical-align: top;\n",
       "    }\n",
       "\n",
       "    .dataframe thead th {\n",
       "        text-align: right;\n",
       "    }\n",
       "</style>\n",
       "<table border=\"1\" class=\"dataframe\">\n",
       "  <thead>\n",
       "    <tr style=\"text-align: right;\">\n",
       "      <th></th>\n",
       "      <th>Features</th>\n",
       "      <th>VIF</th>\n",
       "    </tr>\n",
       "  </thead>\n",
       "  <tbody>\n",
       "    <tr>\n",
       "      <th>2</th>\n",
       "      <td>atemp</td>\n",
       "      <td>4.05</td>\n",
       "    </tr>\n",
       "    <tr>\n",
       "      <th>0</th>\n",
       "      <td>yr</td>\n",
       "      <td>1.94</td>\n",
       "    </tr>\n",
       "    <tr>\n",
       "      <th>3</th>\n",
       "      <td>season_summer</td>\n",
       "      <td>1.80</td>\n",
       "    </tr>\n",
       "    <tr>\n",
       "      <th>5</th>\n",
       "      <td>mnth_Aug</td>\n",
       "      <td>1.53</td>\n",
       "    </tr>\n",
       "    <tr>\n",
       "      <th>4</th>\n",
       "      <td>season_winter</td>\n",
       "      <td>1.49</td>\n",
       "    </tr>\n",
       "    <tr>\n",
       "      <th>8</th>\n",
       "      <td>weathersit_Mist+Cloudy</td>\n",
       "      <td>1.44</td>\n",
       "    </tr>\n",
       "    <tr>\n",
       "      <th>6</th>\n",
       "      <td>mnth_Sept</td>\n",
       "      <td>1.28</td>\n",
       "    </tr>\n",
       "    <tr>\n",
       "      <th>9</th>\n",
       "      <td>weekday_Thursday</td>\n",
       "      <td>1.18</td>\n",
       "    </tr>\n",
       "    <tr>\n",
       "      <th>7</th>\n",
       "      <td>weathersit_LightSnow_LightRain+Thunderstorm</td>\n",
       "      <td>1.06</td>\n",
       "    </tr>\n",
       "    <tr>\n",
       "      <th>1</th>\n",
       "      <td>holiday</td>\n",
       "      <td>1.03</td>\n",
       "    </tr>\n",
       "  </tbody>\n",
       "</table>\n",
       "</div>"
      ],
      "text/plain": [
       "                                      Features   VIF\n",
       "2                                        atemp  4.05\n",
       "0                                           yr  1.94\n",
       "3                                season_summer  1.80\n",
       "5                                     mnth_Aug  1.53\n",
       "4                                season_winter  1.49\n",
       "8                       weathersit_Mist+Cloudy  1.44\n",
       "6                                    mnth_Sept  1.28\n",
       "9                             weekday_Thursday  1.18\n",
       "7  weathersit_LightSnow_LightRain+Thunderstorm  1.06\n",
       "1                                      holiday  1.03"
      ]
     },
     "execution_count": 109,
     "metadata": {},
     "output_type": "execute_result"
    }
   ],
   "source": [
    "#Checking VIF values \n",
    "vif = pd.DataFrame()\n",
    "X = X_train_rfe\n",
    "vif['Features'] = X.columns\n",
    "vif[\"VIF\"] = [variance_inflation_factor(X.values , i) for i in range(X.shape[1])]\n",
    "vif[\"VIF\"] = round(vif[\"VIF\"] , 2)\n",
    "vif = vif.sort_values(by = \"VIF\" , ascending = False)\n",
    "vif"
   ]
  },
  {
   "cell_type": "markdown",
   "metadata": {},
   "source": [
    "- Adding **`\"weekday_thursday\"`** increases p-value. Hence we'll drop it."
   ]
  },
  {
   "cell_type": "code",
   "execution_count": 110,
   "metadata": {},
   "outputs": [],
   "source": [
    "#Dropping \"weekday_Thursday\"\n",
    "X_train_rfe.drop(['weekday_Thursday'], axis = 1, inplace = True)"
   ]
  },
  {
   "cell_type": "markdown",
   "metadata": {},
   "source": [
    "## Model 20 "
   ]
  },
  {
   "cell_type": "markdown",
   "metadata": {},
   "source": [
    "- Adding **`\"mnth_Mar\"`** and see how it impacts the model significance."
   ]
  },
  {
   "cell_type": "code",
   "execution_count": 111,
   "metadata": {},
   "outputs": [],
   "source": [
    "## Adding \"mnth_Mar\"\n",
    "X_train_rfe['mnth_Mar'] = X_train['mnth_Mar']"
   ]
  },
  {
   "cell_type": "code",
   "execution_count": 112,
   "metadata": {},
   "outputs": [
    {
     "name": "stdout",
     "output_type": "stream",
     "text": [
      "                            OLS Regression Results                            \n",
      "==============================================================================\n",
      "Dep. Variable:                    cnt   R-squared:                       0.820\n",
      "Model:                            OLS   Adj. R-squared:                  0.817\n",
      "Method:                 Least Squares   F-statistic:                     228.1\n",
      "Date:                Mon, 05 Apr 2021   Prob (F-statistic):          5.98e-179\n",
      "Time:                        20:21:52   Log-Likelihood:                 476.48\n",
      "No. Observations:                 510   AIC:                            -931.0\n",
      "Df Residuals:                     499   BIC:                            -884.4\n",
      "Df Model:                          10                                         \n",
      "Covariance Type:            nonrobust                                         \n",
      "===============================================================================================================\n",
      "                                                  coef    std err          t      P>|t|      [0.025      0.975]\n",
      "---------------------------------------------------------------------------------------------------------------\n",
      "const                                           0.0677      0.014      4.720      0.000       0.040       0.096\n",
      "yr                                              0.2321      0.009     27.055      0.000       0.215       0.249\n",
      "holiday                                        -0.0944      0.027     -3.465      0.001      -0.148      -0.041\n",
      "atemp                                           0.5653      0.024     23.630      0.000       0.518       0.612\n",
      "season_summer                                   0.0933      0.012      8.066      0.000       0.071       0.116\n",
      "season_winter                                   0.1420      0.011     12.589      0.000       0.120       0.164\n",
      "mnth_Aug                                        0.0727      0.017      4.231      0.000       0.039       0.106\n",
      "mnth_Sept                                       0.1278      0.017      7.462      0.000       0.094       0.161\n",
      "weathersit_LightSnow_LightRain+Thunderstorm    -0.2905      0.026    -11.300      0.000      -0.341      -0.240\n",
      "weathersit_Mist+Cloudy                         -0.0820      0.009     -8.931      0.000      -0.100      -0.064\n",
      "mnth_Mar                                        0.0171      0.015      1.134      0.257      -0.013       0.047\n",
      "==============================================================================\n",
      "Omnibus:                       58.598   Durbin-Watson:                   2.020\n",
      "Prob(Omnibus):                  0.000   Jarque-Bera (JB):              142.795\n",
      "Skew:                          -0.599   Prob(JB):                     9.83e-32\n",
      "Kurtosis:                       5.298   Cond. No.                         9.41\n",
      "==============================================================================\n",
      "\n",
      "Notes:\n",
      "[1] Standard Errors assume that the covariance matrix of the errors is correctly specified.\n"
     ]
    }
   ],
   "source": [
    "#Adding a constant variable\n",
    "X_train_rfe20 = sm.add_constant(X_train_rfe)\n",
    "\n",
    "#Running the linear model\n",
    "lr20 = sm.OLS(y_train , X_train_rfe20).fit()\n",
    "\n",
    "#Print the summary of linear regression model obtained\n",
    "print(lr20.summary())"
   ]
  },
  {
   "cell_type": "code",
   "execution_count": 113,
   "metadata": {},
   "outputs": [
    {
     "data": {
      "text/html": [
       "<div>\n",
       "<style scoped>\n",
       "    .dataframe tbody tr th:only-of-type {\n",
       "        vertical-align: middle;\n",
       "    }\n",
       "\n",
       "    .dataframe tbody tr th {\n",
       "        vertical-align: top;\n",
       "    }\n",
       "\n",
       "    .dataframe thead th {\n",
       "        text-align: right;\n",
       "    }\n",
       "</style>\n",
       "<table border=\"1\" class=\"dataframe\">\n",
       "  <thead>\n",
       "    <tr style=\"text-align: right;\">\n",
       "      <th></th>\n",
       "      <th>Features</th>\n",
       "      <th>VIF</th>\n",
       "    </tr>\n",
       "  </thead>\n",
       "  <tbody>\n",
       "    <tr>\n",
       "      <th>2</th>\n",
       "      <td>atemp</td>\n",
       "      <td>3.96</td>\n",
       "    </tr>\n",
       "    <tr>\n",
       "      <th>0</th>\n",
       "      <td>yr</td>\n",
       "      <td>1.95</td>\n",
       "    </tr>\n",
       "    <tr>\n",
       "      <th>3</th>\n",
       "      <td>season_summer</td>\n",
       "      <td>1.79</td>\n",
       "    </tr>\n",
       "    <tr>\n",
       "      <th>5</th>\n",
       "      <td>mnth_Aug</td>\n",
       "      <td>1.55</td>\n",
       "    </tr>\n",
       "    <tr>\n",
       "      <th>4</th>\n",
       "      <td>season_winter</td>\n",
       "      <td>1.51</td>\n",
       "    </tr>\n",
       "    <tr>\n",
       "      <th>8</th>\n",
       "      <td>weathersit_Mist+Cloudy</td>\n",
       "      <td>1.45</td>\n",
       "    </tr>\n",
       "    <tr>\n",
       "      <th>6</th>\n",
       "      <td>mnth_Sept</td>\n",
       "      <td>1.30</td>\n",
       "    </tr>\n",
       "    <tr>\n",
       "      <th>9</th>\n",
       "      <td>mnth_Mar</td>\n",
       "      <td>1.12</td>\n",
       "    </tr>\n",
       "    <tr>\n",
       "      <th>7</th>\n",
       "      <td>weathersit_LightSnow_LightRain+Thunderstorm</td>\n",
       "      <td>1.06</td>\n",
       "    </tr>\n",
       "    <tr>\n",
       "      <th>1</th>\n",
       "      <td>holiday</td>\n",
       "      <td>1.03</td>\n",
       "    </tr>\n",
       "  </tbody>\n",
       "</table>\n",
       "</div>"
      ],
      "text/plain": [
       "                                      Features   VIF\n",
       "2                                        atemp  3.96\n",
       "0                                           yr  1.95\n",
       "3                                season_summer  1.79\n",
       "5                                     mnth_Aug  1.55\n",
       "4                                season_winter  1.51\n",
       "8                       weathersit_Mist+Cloudy  1.45\n",
       "6                                    mnth_Sept  1.30\n",
       "9                                     mnth_Mar  1.12\n",
       "7  weathersit_LightSnow_LightRain+Thunderstorm  1.06\n",
       "1                                      holiday  1.03"
      ]
     },
     "execution_count": 113,
     "metadata": {},
     "output_type": "execute_result"
    }
   ],
   "source": [
    "#Checking VIF values \n",
    "vif = pd.DataFrame()\n",
    "X = X_train_rfe\n",
    "vif['Features'] = X.columns\n",
    "vif[\"VIF\"] = [variance_inflation_factor(X.values , i) for i in range(X.shape[1])]\n",
    "vif[\"VIF\"] = round(vif[\"VIF\"] , 2)\n",
    "vif = vif.sort_values(by = \"VIF\" , ascending = False)\n",
    "vif"
   ]
  },
  {
   "cell_type": "markdown",
   "metadata": {},
   "source": [
    "- Adding **`\"mnth_Mar\"`** increases p-value. Hence we'll drop it."
   ]
  },
  {
   "cell_type": "code",
   "execution_count": 114,
   "metadata": {},
   "outputs": [],
   "source": [
    "X_train_rfe.drop([\"mnth_Mar\"], axis = 1, inplace = True)"
   ]
  },
  {
   "cell_type": "markdown",
   "metadata": {},
   "source": [
    "- ### We have considered all columns and checked for Model Significance.Now we stop the model building and check on which model can we choose."
   ]
  },
  {
   "cell_type": "markdown",
   "metadata": {},
   "source": [
    "### Out of all models,  <font color = 'red'> model 11 (lr11) </font> seems to give good result so we choose it as it have a good R-squared and F-static value."
   ]
  },
  {
   "cell_type": "markdown",
   "metadata": {},
   "source": [
    "## 8.3 Residual Analysis of the train data\n",
    "So, now to check if the error terms are also normally distributed (which is infact, one of the major assumptions of linear regression), let us plot the histogram of the error terms and see what it looks like."
   ]
  },
  {
   "cell_type": "code",
   "execution_count": 115,
   "metadata": {},
   "outputs": [],
   "source": [
    "y_train_pred = lr11.predict(X_train_rfe11)"
   ]
  },
  {
   "cell_type": "code",
   "execution_count": 116,
   "metadata": {},
   "outputs": [
    {
     "data": {
      "text/plain": [
       "Text(0.5, 0, 'Errors')"
      ]
     },
     "execution_count": 116,
     "metadata": {},
     "output_type": "execute_result"
    },
    {
     "data": {
      "image/png": "[encoded data removed]",
      "text/plain": [
       "<Figure size 432x288 with 1 Axes>"
      ]
     },
     "metadata": {
      "needs_background": "light"
     },
     "output_type": "display_data"
    }
   ],
   "source": [
    "# Plot the histogram of the error terms\n",
    "fig = plt.figure()\n",
    "sns.distplot((y_train - y_train_pred), bins = 20)\n",
    "fig.suptitle('Error Terms', fontsize = 20)                  # Plot heading \n",
    "plt.xlabel('Errors', fontsize = 18)                         # X-label"
   ]
  },
  {
   "cell_type": "markdown",
   "metadata": {},
   "source": [
    "- From the above histogram, we could see that the **Residuals are normally distributed**. Hence our assumption for Linear Regression is valid."
   ]
  },
  {
   "cell_type": "markdown",
   "metadata": {},
   "source": [
    "# 9. Making Predictions using the final model"
   ]
  },
  {
   "cell_type": "markdown",
   "metadata": {},
   "source": [
    "## 9.1 Applying scaling to test datasets"
   ]
  },
  {
   "cell_type": "code",
   "execution_count": 117,
   "metadata": {},
   "outputs": [
    {
     "data": {
      "text/html": [
       "<div>\n",
       "<style scoped>\n",
       "    .dataframe tbody tr th:only-of-type {\n",
       "        vertical-align: middle;\n",
       "    }\n",
       "\n",
       "    .dataframe tbody tr th {\n",
       "        vertical-align: top;\n",
       "    }\n",
       "\n",
       "    .dataframe thead th {\n",
       "        text-align: right;\n",
       "    }\n",
       "</style>\n",
       "<table border=\"1\" class=\"dataframe\">\n",
       "  <thead>\n",
       "    <tr style=\"text-align: right;\">\n",
       "      <th></th>\n",
       "      <th>yr</th>\n",
       "      <th>holiday</th>\n",
       "      <th>workingday</th>\n",
       "      <th>atemp</th>\n",
       "      <th>hum</th>\n",
       "      <th>windspeed</th>\n",
       "      <th>cnt</th>\n",
       "      <th>season_spring</th>\n",
       "      <th>season_summer</th>\n",
       "      <th>season_winter</th>\n",
       "      <th>...</th>\n",
       "      <th>mnth_Oct</th>\n",
       "      <th>mnth_Sept</th>\n",
       "      <th>weekday_Monday</th>\n",
       "      <th>weekday_Saturday</th>\n",
       "      <th>weekday_Sunday</th>\n",
       "      <th>weekday_Thursday</th>\n",
       "      <th>weekday_Tuesday</th>\n",
       "      <th>weekday_Wednesday</th>\n",
       "      <th>weathersit_LightSnow_LightRain+Thunderstorm</th>\n",
       "      <th>weathersit_Mist+Cloudy</th>\n",
       "    </tr>\n",
       "  </thead>\n",
       "  <tbody>\n",
       "    <tr>\n",
       "      <th>184</th>\n",
       "      <td>0</td>\n",
       "      <td>1</td>\n",
       "      <td>0</td>\n",
       "      <td>0.769660</td>\n",
       "      <td>0.657364</td>\n",
       "      <td>0.084219</td>\n",
       "      <td>0.692706</td>\n",
       "      <td>0</td>\n",
       "      <td>0</td>\n",
       "      <td>0</td>\n",
       "      <td>...</td>\n",
       "      <td>0</td>\n",
       "      <td>0</td>\n",
       "      <td>0</td>\n",
       "      <td>0</td>\n",
       "      <td>0</td>\n",
       "      <td>0</td>\n",
       "      <td>0</td>\n",
       "      <td>1</td>\n",
       "      <td>0</td>\n",
       "      <td>1</td>\n",
       "    </tr>\n",
       "    <tr>\n",
       "      <th>535</th>\n",
       "      <td>1</td>\n",
       "      <td>0</td>\n",
       "      <td>1</td>\n",
       "      <td>0.842587</td>\n",
       "      <td>0.610133</td>\n",
       "      <td>0.153728</td>\n",
       "      <td>0.712034</td>\n",
       "      <td>0</td>\n",
       "      <td>1</td>\n",
       "      <td>0</td>\n",
       "      <td>...</td>\n",
       "      <td>0</td>\n",
       "      <td>0</td>\n",
       "      <td>0</td>\n",
       "      <td>0</td>\n",
       "      <td>0</td>\n",
       "      <td>1</td>\n",
       "      <td>0</td>\n",
       "      <td>0</td>\n",
       "      <td>0</td>\n",
       "      <td>0</td>\n",
       "    </tr>\n",
       "    <tr>\n",
       "      <th>299</th>\n",
       "      <td>0</td>\n",
       "      <td>0</td>\n",
       "      <td>0</td>\n",
       "      <td>0.496145</td>\n",
       "      <td>0.837699</td>\n",
       "      <td>0.334206</td>\n",
       "      <td>0.303382</td>\n",
       "      <td>0</td>\n",
       "      <td>0</td>\n",
       "      <td>1</td>\n",
       "      <td>...</td>\n",
       "      <td>1</td>\n",
       "      <td>0</td>\n",
       "      <td>0</td>\n",
       "      <td>1</td>\n",
       "      <td>0</td>\n",
       "      <td>0</td>\n",
       "      <td>0</td>\n",
       "      <td>0</td>\n",
       "      <td>0</td>\n",
       "      <td>1</td>\n",
       "    </tr>\n",
       "    <tr>\n",
       "      <th>221</th>\n",
       "      <td>0</td>\n",
       "      <td>0</td>\n",
       "      <td>1</td>\n",
       "      <td>0.795343</td>\n",
       "      <td>0.437098</td>\n",
       "      <td>0.339570</td>\n",
       "      <td>0.547400</td>\n",
       "      <td>0</td>\n",
       "      <td>0</td>\n",
       "      <td>0</td>\n",
       "      <td>...</td>\n",
       "      <td>0</td>\n",
       "      <td>0</td>\n",
       "      <td>0</td>\n",
       "      <td>0</td>\n",
       "      <td>0</td>\n",
       "      <td>0</td>\n",
       "      <td>0</td>\n",
       "      <td>0</td>\n",
       "      <td>0</td>\n",
       "      <td>0</td>\n",
       "    </tr>\n",
       "    <tr>\n",
       "      <th>152</th>\n",
       "      <td>0</td>\n",
       "      <td>0</td>\n",
       "      <td>0</td>\n",
       "      <td>0.741471</td>\n",
       "      <td>0.314298</td>\n",
       "      <td>0.537414</td>\n",
       "      <td>0.569029</td>\n",
       "      <td>0</td>\n",
       "      <td>1</td>\n",
       "      <td>0</td>\n",
       "      <td>...</td>\n",
       "      <td>0</td>\n",
       "      <td>0</td>\n",
       "      <td>0</td>\n",
       "      <td>1</td>\n",
       "      <td>0</td>\n",
       "      <td>0</td>\n",
       "      <td>0</td>\n",
       "      <td>0</td>\n",
       "      <td>0</td>\n",
       "      <td>0</td>\n",
       "    </tr>\n",
       "  </tbody>\n",
       "</table>\n",
       "<p>5 rows × 29 columns</p>\n",
       "</div>"
      ],
      "text/plain": [
       "     yr  holiday  workingday     atemp       hum  windspeed       cnt  \\\n",
       "184   0        1           0  0.769660  0.657364   0.084219  0.692706   \n",
       "535   1        0           1  0.842587  0.610133   0.153728  0.712034   \n",
       "299   0        0           0  0.496145  0.837699   0.334206  0.303382   \n",
       "221   0        0           1  0.795343  0.437098   0.339570  0.547400   \n",
       "152   0        0           0  0.741471  0.314298   0.537414  0.569029   \n",
       "\n",
       "     season_spring  season_summer  season_winter  ...  mnth_Oct  mnth_Sept  \\\n",
       "184              0              0              0  ...         0          0   \n",
       "535              0              1              0  ...         0          0   \n",
       "299              0              0              1  ...         1          0   \n",
       "221              0              0              0  ...         0          0   \n",
       "152              0              1              0  ...         0          0   \n",
       "\n",
       "     weekday_Monday  weekday_Saturday  weekday_Sunday  weekday_Thursday  \\\n",
       "184               0                 0               0                 0   \n",
       "535               0                 0               0                 1   \n",
       "299               0                 1               0                 0   \n",
       "221               0                 0               0                 0   \n",
       "152               0                 1               0                 0   \n",
       "\n",
       "     weekday_Tuesday  weekday_Wednesday  \\\n",
       "184                0                  1   \n",
       "535                0                  0   \n",
       "299                0                  0   \n",
       "221                0                  0   \n",
       "152                0                  0   \n",
       "\n",
       "     weathersit_LightSnow_LightRain+Thunderstorm  weathersit_Mist+Cloudy  \n",
       "184                                            0                       1  \n",
       "535                                            0                       0  \n",
       "299                                            0                       1  \n",
       "221                                            0                       0  \n",
       "152                                            0                       0  \n",
       "\n",
       "[5 rows x 29 columns]"
      ]
     },
     "execution_count": 117,
     "metadata": {},
     "output_type": "execute_result"
    }
   ],
   "source": [
    "# Apply scaler() to all the columns except the '0/1' and 'dummy' variables\n",
    "num_vars = ['atemp', 'hum', 'windspeed', 'cnt']\n",
    "\n",
    "bike_test[num_vars] = scaler.transform(bike_test[num_vars])   #Transform the data \n",
    "\n",
    "bike_test.head()"
   ]
  },
  {
   "cell_type": "markdown",
   "metadata": {},
   "source": [
    "## 9.2 Dividing test dataset into X and y datasets"
   ]
  },
  {
   "cell_type": "code",
   "execution_count": 118,
   "metadata": {},
   "outputs": [],
   "source": [
    "y_test = bike_test.pop('cnt')\n",
    "X_test = bike_test"
   ]
  },
  {
   "cell_type": "code",
   "execution_count": 119,
   "metadata": {},
   "outputs": [],
   "source": [
    "# dropping \"const\" column from the data set\n",
    "X_train_new = X_train_rfe11.drop(['const'], axis=1) "
   ]
  },
  {
   "cell_type": "markdown",
   "metadata": {},
   "source": [
    "- We'll use __model 11 (lr11)__ for predicting the values"
   ]
  },
  {
   "cell_type": "code",
   "execution_count": 120,
   "metadata": {},
   "outputs": [],
   "source": [
    "# Lets use our model to make predictions\n",
    "\n",
    "#creating new dataframe X_test_1 by dropping variables from X_test\n",
    "X_test_1 = X_test[ X_train_new.columns ]\n",
    "\n",
    "#Adding a constant variable\n",
    "X_test_1 = sm.add_constant(X_test_1)"
   ]
  },
  {
   "cell_type": "markdown",
   "metadata": {},
   "source": [
    "#### Making predictions"
   ]
  },
  {
   "cell_type": "code",
   "execution_count": 121,
   "metadata": {},
   "outputs": [],
   "source": [
    "y_pred = lr11.predict(X_test_1)      # Making Predictions"
   ]
  },
  {
   "cell_type": "markdown",
   "metadata": {},
   "source": [
    "## 9.3 Model Evaluation\n",
    "Let's now plot the graph for actual versus predicted values."
   ]
  },
  {
   "cell_type": "code",
   "execution_count": 122,
   "metadata": {},
   "outputs": [
    {
     "data": {
      "image/png": "[encoded data removed]",
      "text/plain": [
       "<Figure size 432x288 with 1 Axes>"
      ]
     },
     "metadata": {
      "needs_background": "light"
     },
     "output_type": "display_data"
    }
   ],
   "source": [
    "#CHECKING PREDICTED V/s TEST DATA \n",
    "\n",
    "fig = plt.figure()\n",
    "plt.scatter(y_test,y_pred)\n",
    "fig.suptitle('y_test vs y_pred', fontsize=20)              # Plot heading \n",
    "plt.xlabel('y_test', fontsize=18)                          # X-label\n",
    "plt.ylabel('y_pred', fontsize=16)                          # Y-label\n",
    "plt.show()"
   ]
  },
  {
   "cell_type": "markdown",
   "metadata": {},
   "source": [
    "- We have a model that seems good enough to predict demand of bikes. The actual and predicted cnt i.e demand significantly overlapped, thus indicating that the model is able to explain the change in demand very well."
   ]
  },
  {
   "cell_type": "markdown",
   "metadata": {},
   "source": [
    "- **Again checking for error terms**"
   ]
  },
  {
   "cell_type": "code",
   "execution_count": 123,
   "metadata": {
    "scrolled": true
   },
   "outputs": [
    {
     "data": {
      "text/plain": [
       "Text(0, 0.5, 'Views_show-Predicted_views')"
      ]
     },
     "execution_count": 123,
     "metadata": {},
     "output_type": "execute_result"
    },
    {
     "data": {
      "image/png": "[encoded data removed]",
      "text/plain": [
       "<Figure size 432x288 with 1 Axes>"
      ]
     },
     "metadata": {
      "needs_background": "light"
     },
     "output_type": "display_data"
    }
   ],
   "source": [
    "# Error terms\n",
    "c = [i for i in range(1,220,1)]\n",
    "fig = plt.figure()\n",
    "plt.scatter(c, y_test-y_pred, color=\"blue\", linewidth=2.5, linestyle=\"-\")\n",
    "fig.suptitle('Error Terms', fontsize=20)              # Plot heading \n",
    "plt.xlabel('Index', fontsize=18)                      # X-label\n",
    "plt.ylabel('Views_show-Predicted_views', fontsize=16)                # Y-label"
   ]
  },
  {
   "cell_type": "markdown",
   "metadata": {},
   "source": [
    "- There is no pattern in error terms.Error terms are **approximately normally distributed with mean zero.**"
   ]
  },
  {
   "cell_type": "markdown",
   "metadata": {},
   "source": [
    "### Again printing the summary for selected best model"
   ]
  },
  {
   "cell_type": "code",
   "execution_count": 124,
   "metadata": {
    "scrolled": false
   },
   "outputs": [
    {
     "name": "stdout",
     "output_type": "stream",
     "text": [
      "                            OLS Regression Results                            \n",
      "==============================================================================\n",
      "Dep. Variable:                    cnt   R-squared:                       0.820\n",
      "Model:                            OLS   Adj. R-squared:                  0.817\n",
      "Method:                 Least Squares   F-statistic:                     253.1\n",
      "Date:                Mon, 05 Apr 2021   Prob (F-statistic):          6.93e-180\n",
      "Time:                        20:21:59   Log-Likelihood:                 475.83\n",
      "No. Observations:                 510   AIC:                            -931.7\n",
      "Df Residuals:                     500   BIC:                            -889.3\n",
      "Df Model:                           9                                         \n",
      "Covariance Type:            nonrobust                                         \n",
      "===============================================================================================================\n",
      "                                                  coef    std err          t      P>|t|      [0.025      0.975]\n",
      "---------------------------------------------------------------------------------------------------------------\n",
      "const                                           0.0726      0.014      5.310      0.000       0.046       0.099\n",
      "yr                                              0.2322      0.009     27.069      0.000       0.215       0.249\n",
      "holiday                                        -0.0962      0.027     -3.534      0.000      -0.150      -0.043\n",
      "atemp                                           0.5608      0.024     23.761      0.000       0.514       0.607\n",
      "season_summer                                   0.0933      0.012      8.064      0.000       0.071       0.116\n",
      "season_winter                                   0.1391      0.011     12.664      0.000       0.117       0.161\n",
      "mnth_Aug                                        0.0710      0.017      4.149      0.000       0.037       0.105\n",
      "mnth_Sept                                       0.1265      0.017      7.399      0.000       0.093       0.160\n",
      "weathersit_LightSnow_LightRain+Thunderstorm    -0.2894      0.026    -11.262      0.000      -0.340      -0.239\n",
      "weathersit_Mist+Cloudy                         -0.0820      0.009     -8.934      0.000      -0.100      -0.064\n",
      "==============================================================================\n",
      "Omnibus:                       59.120   Durbin-Watson:                   2.023\n",
      "Prob(Omnibus):                  0.000   Jarque-Bera (JB):              149.747\n",
      "Skew:                          -0.592   Prob(JB):                     3.04e-33\n",
      "Kurtosis:                       5.376   Cond. No.                         9.27\n",
      "==============================================================================\n",
      "\n",
      "Notes:\n",
      "[1] Standard Errors assume that the covariance matrix of the errors is correctly specified.\n"
     ]
    }
   ],
   "source": [
    "print(lr11.summary())"
   ]
  },
  {
   "cell_type": "code",
   "execution_count": 125,
   "metadata": {},
   "outputs": [
    {
     "data": {
      "text/plain": [
       "0.09809580740734068"
      ]
     },
     "execution_count": 125,
     "metadata": {},
     "output_type": "execute_result"
    }
   ],
   "source": [
    "#importing required library to calculate MSE\n",
    "from sklearn.metrics import mean_squared_error\n",
    "\n",
    "#Returns the mean squared error; we'll take a square root\n",
    "np.sqrt(mean_squared_error(y_test, y_pred))"
   ]
  },
  {
   "cell_type": "code",
   "execution_count": 126,
   "metadata": {},
   "outputs": [
    {
     "data": {
      "text/plain": [
       "0.7973971218586231"
      ]
     },
     "execution_count": 126,
     "metadata": {},
     "output_type": "execute_result"
    }
   ],
   "source": [
    "#Calculate the r square for test\n",
    "\n",
    "from sklearn.metrics import r2_score\n",
    "r2_score(y_test, y_pred)\n",
    "\n"
   ]
  },
  {
   "cell_type": "markdown",
   "metadata": {},
   "source": [
    "."
   ]
  },
  {
   "cell_type": "markdown",
   "metadata": {},
   "source": [
    " We can see that the Equation for best fit line is :<br>\n",
    " ### cnt   =   (0.2322 x yr) -  (0.096 x holiday) + (0.56 x atemp) + (0.093 x season_summer) + (0.139 x season_winter ) +  (0.071 x mnth_Aug) + (0.126 x mnth_Sept) - (0.289 x weathersit_LightSnow_LightRain+Thunderstorm) - (0.089 x weathersit_Mist+Cloudy) -  (0.082 x weathersit_Mist+Cloudy )"
   ]
  },
  {
   "cell_type": "markdown",
   "metadata": {},
   "source": [
    "We can see that bike sharing demand depends on following variables:<br>\n",
    "**\"yr\",\"holiday\", \"atemp\", \"season_summer\", \"season_winter\",\"mnth_Aug\", \"mnth_Sept\", \"weathersit_LightSnow_LightRain+Thunderstorm \", \"weathersit_Mist+Cloudy\"**<br>\n"
   ]
  },
  {
   "cell_type": "markdown",
   "metadata": {},
   "source": [
    "**temp :** A coefficient value of ‘0.5608’ indicated that a unit increase in temp variable, increases the bike hire numbers by 0.5608 units.<br>\n",
    "**weathersit_LightSnow_LightRain+Thunderstorm :** A coefficient value of ‘-0.2894’ indicated that a unit decrease in \"weathersit_LightSnow_LightRain+Thunderstorm\" variable, decreases the bike hire numbers by -0.2894 units.<br>\n",
    "**yr:** A coefficient value of ‘0.2322’ indicated that a unit increases in yr variable, increases the bike hire numbers by 0.2322 units.<br>"
   ]
  },
  {
   "cell_type": "markdown",
   "metadata": {},
   "source": [
    "R-squared for train set = 82.0 <br>\n",
    "R-squared for test set = 79.7 <br>\n"
   ]
  },
  {
   "cell_type": "code",
   "execution_count": null,
   "metadata": {},
   "outputs": [],
   "source": []
  },
  {
   "cell_type": "code",
   "execution_count": null,
   "metadata": {},
   "outputs": [],
   "source": []
  }
 ],
 "metadata": {
  "kernelspec": {
   "display_name": "Python 3",
   "language": "python",
   "name": "python3"
  },
  "language_info": {
   "codemirror_mode": {
    "name": "ipython",
    "version": 3
   },
   "file_extension": ".py",
   "mimetype": "text/x-python",
   "name": "python",
   "nbconvert_exporter": "python",
   "pygments_lexer": "ipython3",
   "version": "3.8.5"
  }
 },
 "nbformat": 4,
 "nbformat_minor": 4
}
